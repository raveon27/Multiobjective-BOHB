{
 "cells": [
  {
   "cell_type": "markdown",
   "id": "6952e053",
   "metadata": {
    "papermill": {
     "duration": 0.014014,
     "end_time": "2023-03-10T14:36:25.073955",
     "exception": false,
     "start_time": "2023-03-10T14:36:25.059941",
     "status": "completed"
    },
    "tags": []
   },
   "source": [
    "# Data and Library Importing"
   ]
  },
  {
   "cell_type": "code",
   "execution_count": 1,
   "id": "b8bf8d5e",
   "metadata": {
    "_execution_state": "idle",
    "_uuid": "051d70d956493feee0c6d64651c6a088724dca2a",
    "execution": {
     "iopub.execute_input": "2023-03-10T14:36:25.101650Z",
     "iopub.status.busy": "2023-03-10T14:36:25.100929Z",
     "iopub.status.idle": "2023-03-10T14:36:32.302526Z",
     "shell.execute_reply": "2023-03-10T14:36:32.301425Z"
    },
    "papermill": {
     "duration": 7.2206,
     "end_time": "2023-03-10T14:36:32.305550",
     "exception": false,
     "start_time": "2023-03-10T14:36:25.084950",
     "status": "completed"
    },
    "tags": []
   },
   "outputs": [],
   "source": [
    "import matplotlib.pyplot as plt\n",
    "import numpy as np\n",
    "import pandas as pd\n",
    "import seaborn as sns\n",
    "\n",
    "from sklearn.metrics import confusion_matrix,classification_report,f1_score\n",
    "\n",
    "import time\n",
    "import optuna\n",
    "from optuna.integration import TFKerasPruningCallback\n",
    "from optuna.visualization import plot_intermediate_values\n",
    "from optuna.visualization import plot_optimization_history\n",
    "from optuna.visualization import plot_param_importances\n",
    "from optuna.visualization import plot_contour\n",
    "from optuna.visualization import plot_pareto_front\n",
    "\n",
    "from tensorflow.keras import Sequential\n",
    "from tensorflow.keras.backend import clear_session\n",
    "from tensorflow.keras.layers import Input,Dense,concatenate,Dropout,Conv1D,Bidirectional,Embedding,LSTM,SimpleRNN,GlobalAveragePooling1D\n",
    "from tensorflow.keras.models import Model,load_model\n",
    "from tensorflow.keras.optimizers import Adam\n",
    "from tensorflow.keras.utils import plot_model\n",
    "from tensorflow.keras.preprocessing.text import Tokenizer\n",
    "from tensorflow.keras.preprocessing.sequence import pad_sequences\n",
    "from tensorflow.keras.metrics import CategoricalCrossentropy\n",
    "from tensorflow.random import set_seed"
   ]
  },
  {
   "cell_type": "code",
   "execution_count": 2,
   "id": "6907e29b",
   "metadata": {
    "execution": {
     "iopub.execute_input": "2023-03-10T14:36:32.317613Z",
     "iopub.status.busy": "2023-03-10T14:36:32.315701Z",
     "iopub.status.idle": "2023-03-10T14:36:32.322173Z",
     "shell.execute_reply": "2023-03-10T14:36:32.321221Z"
    },
    "papermill": {
     "duration": 0.013988,
     "end_time": "2023-03-10T14:36:32.324157",
     "exception": false,
     "start_time": "2023-03-10T14:36:32.310169",
     "status": "completed"
    },
    "tags": []
   },
   "outputs": [],
   "source": [
    "set_seed(123)\n",
    "np.random.seed(123)"
   ]
  },
  {
   "cell_type": "code",
   "execution_count": 3,
   "id": "88c87ccf",
   "metadata": {
    "execution": {
     "iopub.execute_input": "2023-03-10T14:36:32.335468Z",
     "iopub.status.busy": "2023-03-10T14:36:32.334419Z",
     "iopub.status.idle": "2023-03-10T14:36:32.372797Z",
     "shell.execute_reply": "2023-03-10T14:36:32.371766Z"
    },
    "papermill": {
     "duration": 0.047071,
     "end_time": "2023-03-10T14:36:32.375626",
     "exception": false,
     "start_time": "2023-03-10T14:36:32.328555",
     "status": "completed"
    },
    "tags": []
   },
   "outputs": [],
   "source": [
    "label_latih=np.load('../input/smsa-dataset/label_latih.npy', allow_pickle=True)\n",
    "label_validasi=np.load('../input/smsa-dataset/label_validasi.npy', allow_pickle=True)\n",
    "label_uji=np.load('../input/smsa-dataset/label_uji.npy', allow_pickle=True)"
   ]
  },
  {
   "cell_type": "code",
   "execution_count": 4,
   "id": "b4561268",
   "metadata": {
    "execution": {
     "iopub.execute_input": "2023-03-10T14:36:32.386659Z",
     "iopub.status.busy": "2023-03-10T14:36:32.386329Z",
     "iopub.status.idle": "2023-03-10T14:36:32.391250Z",
     "shell.execute_reply": "2023-03-10T14:36:32.390117Z"
    },
    "papermill": {
     "duration": 0.013307,
     "end_time": "2023-03-10T14:36:32.393853",
     "exception": false,
     "start_time": "2023-03-10T14:36:32.380546",
     "status": "completed"
    },
    "tags": []
   },
   "outputs": [],
   "source": [
    "embedding_dim = 300\n",
    "max_length = 96\n",
    "trunc_type = 'post'\n",
    "padding_type = 'post'\n",
    "oov_tok = \"<OOV>\""
   ]
  },
  {
   "cell_type": "code",
   "execution_count": 5,
   "id": "01d10410",
   "metadata": {
    "execution": {
     "iopub.execute_input": "2023-03-10T14:36:32.404538Z",
     "iopub.status.busy": "2023-03-10T14:36:32.404184Z",
     "iopub.status.idle": "2023-03-10T14:36:32.807447Z",
     "shell.execute_reply": "2023-03-10T14:36:32.806350Z"
    },
    "papermill": {
     "duration": 0.411852,
     "end_time": "2023-03-10T14:36:32.810408",
     "exception": false,
     "start_time": "2023-03-10T14:36:32.398556",
     "status": "completed"
    },
    "tags": []
   },
   "outputs": [],
   "source": [
    "teks_latih_pad=np.load('../input/smsa-dataset/teks_latih_pad.npy', allow_pickle=True)\n",
    "teks_latih=np.load('../input/smsa-dataset/teks_latih.npy', allow_pickle=True)\n",
    "teks_validasi_pad=np.load('../input/smsa-dataset/teks_validasi_pad.npy', allow_pickle=True)\n",
    "teks_validasi=np.load('../input/smsa-dataset/teks_validasi.npy', allow_pickle=True)\n",
    "teks_uji_pad=np.load('../input/smsa-dataset/teks_uji_pad.npy', allow_pickle=True)\n",
    "teks_uji=np.load('../input/smsa-dataset/teks_uji.npy', allow_pickle=True)"
   ]
  },
  {
   "cell_type": "markdown",
   "id": "ec14ba57",
   "metadata": {
    "papermill": {
     "duration": 0.004603,
     "end_time": "2023-03-10T14:36:32.820072",
     "exception": false,
     "start_time": "2023-03-10T14:36:32.815469",
     "status": "completed"
    },
    "tags": []
   },
   "source": [
    "# Modelling"
   ]
  },
  {
   "cell_type": "code",
   "execution_count": 6,
   "id": "0c70f829",
   "metadata": {
    "execution": {
     "iopub.execute_input": "2023-03-10T14:36:32.831079Z",
     "iopub.status.busy": "2023-03-10T14:36:32.830704Z",
     "iopub.status.idle": "2023-03-10T14:36:32.835938Z",
     "shell.execute_reply": "2023-03-10T14:36:32.834855Z"
    },
    "papermill": {
     "duration": 0.013405,
     "end_time": "2023-03-10T14:36:32.838263",
     "exception": false,
     "start_time": "2023-03-10T14:36:32.824858",
     "status": "completed"
    },
    "tags": []
   },
   "outputs": [],
   "source": [
    "jumlah_token=17274"
   ]
  },
  {
   "cell_type": "code",
   "execution_count": 7,
   "id": "bd200b5f",
   "metadata": {
    "execution": {
     "iopub.execute_input": "2023-03-10T14:36:32.850005Z",
     "iopub.status.busy": "2023-03-10T14:36:32.849017Z",
     "iopub.status.idle": "2023-03-10T14:36:32.859362Z",
     "shell.execute_reply": "2023-03-10T14:36:32.858340Z"
    },
    "papermill": {
     "duration": 0.018569,
     "end_time": "2023-03-10T14:36:32.861708",
     "exception": false,
     "start_time": "2023-03-10T14:36:32.843139",
     "status": "completed"
    },
    "tags": []
   },
   "outputs": [],
   "source": [
    "def create_model(trial):\n",
    "  lstm_units=np.zeros(2, dtype=int)\n",
    "  lstm_units[0]=trial.suggest_int(\"lstm_units_L1\", 32, 160)\n",
    "  lstm_units[1]=trial.suggest_int(\"lstm_units_L2\", 16, 80)\n",
    "  do1=trial.suggest_float(\"dropout_L1\",0,0.5)\n",
    "  do2=trial.suggest_float(\"dropout_L2\",0,0.5)\n",
    "  lr=trial.suggest_float(\"learning_rate\",1e-5,1e-2)\n",
    "\n",
    "  inputs=Input(shape=(max_length,))\n",
    "  layers=Embedding(jumlah_token, embedding_dim,input_length=max_length,trainable=False)(inputs)\n",
    "  layers=Bidirectional(LSTM(lstm_units[0], return_sequences=True))(layers)\n",
    "  layers=Dropout(do1)(layers)\n",
    "  layers=Bidirectional(LSTM(lstm_units[1]))(layers)\n",
    "  layers=Dropout(do2)(layers)\n",
    "  layers=Dense(32, activation='relu')(layers)\n",
    "  output=Dense(3, activation='softmax')(layers)\n",
    "\n",
    "  model=Model(inputs=[inputs],outputs=[output])\n",
    "\n",
    "  model.compile(optimizer=Adam(learning_rate=lr),loss=\"sparse_categorical_crossentropy\",metrics=[\"accuracy\"])\n",
    "\n",
    "  return model"
   ]
  },
  {
   "cell_type": "markdown",
   "id": "ab15e721",
   "metadata": {
    "papermill": {
     "duration": 0.004641,
     "end_time": "2023-03-10T14:36:32.871210",
     "exception": false,
     "start_time": "2023-03-10T14:36:32.866569",
     "status": "completed"
    },
    "tags": []
   },
   "source": [
    "## Bayesian Optimization (F1-score)"
   ]
  },
  {
   "cell_type": "code",
   "execution_count": 8,
   "id": "6c3fc5d7",
   "metadata": {
    "execution": {
     "iopub.execute_input": "2023-03-10T14:36:32.883774Z",
     "iopub.status.busy": "2023-03-10T14:36:32.882020Z",
     "iopub.status.idle": "2023-03-10T14:36:32.890355Z",
     "shell.execute_reply": "2023-03-10T14:36:32.889340Z"
    },
    "papermill": {
     "duration": 0.016522,
     "end_time": "2023-03-10T14:36:32.892619",
     "exception": false,
     "start_time": "2023-03-10T14:36:32.876097",
     "status": "completed"
    },
    "tags": []
   },
   "outputs": [],
   "source": [
    "#Fungsi Objektif\n",
    "def objective_fun_f1(trial):\n",
    "  model=create_model(trial)\n",
    "\n",
    "  start=time.time()\n",
    "  history=model.fit(teks_latih_pad,label_latih,epochs=25,batch_size=16,callbacks=[TFKerasPruningCallback(trial, \"val_loss\")],\n",
    "                    validation_data=(teks_validasi_pad,label_validasi),verbose=0)\n",
    "  end=time.time()\n",
    "\n",
    "  Label_pred=model.predict(teks_uji_pad)\n",
    "  label_pred=Label_pred.argmax(axis=1)\n",
    "  fscore=f1_score(label_uji, label_pred, average='macro')\n",
    "  duration=end-start\n",
    "  model.save('Bayesian Optimization (F1-score) Model-{}.h5'.format(trial.number))\n",
    "\n",
    "  print(\"F1-Score:\",fscore)\n",
    "  print(\"Duration:\",duration)\n",
    "\n",
    "  return fscore"
   ]
  },
  {
   "cell_type": "code",
   "execution_count": 9,
   "id": "8c6c5573",
   "metadata": {
    "execution": {
     "iopub.execute_input": "2023-03-10T14:36:32.904241Z",
     "iopub.status.busy": "2023-03-10T14:36:32.903393Z",
     "iopub.status.idle": "2023-03-10T17:23:41.179855Z",
     "shell.execute_reply": "2023-03-10T17:23:41.178624Z"
    },
    "papermill": {
     "duration": 10028.29208,
     "end_time": "2023-03-10T17:23:41.189571",
     "exception": false,
     "start_time": "2023-03-10T14:36:32.897491",
     "status": "completed"
    },
    "tags": []
   },
   "outputs": [
    {
     "name": "stderr",
     "output_type": "stream",
     "text": [
      "\u001b[32m[I 2023-03-10 14:36:32,906]\u001b[0m A new study created in memory with name: BO (F1-score)\u001b[0m\n",
      "\u001b[32m[I 2023-03-10 14:43:43,275]\u001b[0m Trial 0 finished with value: 0.6894261723058914 and parameters: {'lstm_units_L1': 149, 'lstm_units_L2': 69, 'dropout_L1': 0.27794744011620526, 'dropout_L2': 0.18428592461908538, 'learning_rate': 0.007478259135141676}. Best is trial 0 with value: 0.6894261723058914.\u001b[0m\n"
     ]
    },
    {
     "name": "stdout",
     "output_type": "stream",
     "text": [
      "F1-Score: 0.6894261723058914\n",
      "Duration: 423.9984059333801\n"
     ]
    },
    {
     "name": "stderr",
     "output_type": "stream",
     "text": [
      "\u001b[32m[I 2023-03-10 14:50:56,493]\u001b[0m Trial 1 finished with value: 0.6889106702057979 and parameters: {'lstm_units_L1': 102, 'lstm_units_L2': 79, 'dropout_L1': 0.11526711221444852, 'dropout_L2': 0.45667216733419336, 'learning_rate': 0.009548565201219135}. Best is trial 0 with value: 0.6894261723058914.\u001b[0m\n"
     ]
    },
    {
     "name": "stdout",
     "output_type": "stream",
     "text": [
      "F1-Score: 0.6889106702057979\n",
      "Duration: 430.8779573440552\n"
     ]
    },
    {
     "name": "stderr",
     "output_type": "stream",
     "text": [
      "\u001b[32m[I 2023-03-10 14:57:51,556]\u001b[0m Trial 2 finished with value: 0.7620049450471406 and parameters: {'lstm_units_L1': 67, 'lstm_units_L2': 45, 'dropout_L1': 0.29141506109238857, 'dropout_L2': 0.16483203934860918, 'learning_rate': 0.004706561946370922}. Best is trial 2 with value: 0.7620049450471406.\u001b[0m\n"
     ]
    },
    {
     "name": "stdout",
     "output_type": "stream",
     "text": [
      "F1-Score: 0.7620049450471406\n",
      "Duration: 412.2466881275177\n"
     ]
    },
    {
     "name": "stderr",
     "output_type": "stream",
     "text": [
      "\u001b[32m[I 2023-03-10 15:04:26,532]\u001b[0m Trial 3 finished with value: 0.6488987037374133 and parameters: {'lstm_units_L1': 156, 'lstm_units_L2': 28, 'dropout_L1': 0.476485990575808, 'dropout_L2': 0.3366878722741544, 'learning_rate': 0.0014640931400499108}. Best is trial 2 with value: 0.7620049450471406.\u001b[0m\n"
     ]
    },
    {
     "name": "stdout",
     "output_type": "stream",
     "text": [
      "F1-Score: 0.6488987037374133\n",
      "Duration: 391.88839054107666\n"
     ]
    },
    {
     "name": "stderr",
     "output_type": "stream",
     "text": [
      "\u001b[32m[I 2023-03-10 15:10:49,235]\u001b[0m Trial 4 finished with value: 0.614753716344381 and parameters: {'lstm_units_L1': 132, 'lstm_units_L2': 16, 'dropout_L1': 0.15907121641258248, 'dropout_L2': 0.48715252341822407, 'learning_rate': 0.005597365811970235}. Best is trial 2 with value: 0.7620049450471406.\u001b[0m\n"
     ]
    },
    {
     "name": "stdout",
     "output_type": "stream",
     "text": [
      "F1-Score: 0.614753716344381\n",
      "Duration: 379.57584977149963\n"
     ]
    },
    {
     "name": "stderr",
     "output_type": "stream",
     "text": [
      "\u001b[32m[I 2023-03-10 15:17:35,388]\u001b[0m Trial 5 finished with value: 0.648440817893511 and parameters: {'lstm_units_L1': 153, 'lstm_units_L2': 51, 'dropout_L1': 0.12519677463536472, 'dropout_L2': 0.06529379562742266, 'learning_rate': 0.0008249664356600605}. Best is trial 2 with value: 0.7620049450471406.\u001b[0m\n"
     ]
    },
    {
     "name": "stdout",
     "output_type": "stream",
     "text": [
      "F1-Score: 0.648440817893511\n",
      "Duration: 402.5476002693176\n"
     ]
    },
    {
     "name": "stderr",
     "output_type": "stream",
     "text": [
      "\u001b[32m[I 2023-03-10 15:23:58,315]\u001b[0m Trial 6 finished with value: 0.5638572149362843 and parameters: {'lstm_units_L1': 59, 'lstm_units_L2': 35, 'dropout_L1': 0.21852705083083152, 'dropout_L2': 0.4855756182033383, 'learning_rate': 0.0008492681863087656}. Best is trial 2 with value: 0.7620049450471406.\u001b[0m\n"
     ]
    },
    {
     "name": "stdout",
     "output_type": "stream",
     "text": [
      "F1-Score: 0.5638572149362843\n",
      "Duration: 380.53185629844666\n"
     ]
    },
    {
     "name": "stderr",
     "output_type": "stream",
     "text": [
      "\u001b[32m[I 2023-03-10 15:31:02,446]\u001b[0m Trial 7 finished with value: 0.5770886380468924 and parameters: {'lstm_units_L1': 149, 'lstm_units_L2': 68, 'dropout_L1': 0.3240681856182294, 'dropout_L2': 0.07053234474894088, 'learning_rate': 0.00047668818620379583}. Best is trial 2 with value: 0.7620049450471406.\u001b[0m\n"
     ]
    },
    {
     "name": "stdout",
     "output_type": "stream",
     "text": [
      "F1-Score: 0.5770886380468924\n",
      "Duration: 420.43933844566345\n"
     ]
    },
    {
     "name": "stderr",
     "output_type": "stream",
     "text": [
      "\u001b[32m[I 2023-03-10 15:38:21,940]\u001b[0m Trial 8 finished with value: 0.631492365219194 and parameters: {'lstm_units_L1': 124, 'lstm_units_L2': 71, 'dropout_L1': 0.3709974363282496, 'dropout_L2': 0.43025277209822466, 'learning_rate': 0.0017616167417746887}. Best is trial 2 with value: 0.7620049450471406.\u001b[0m\n"
     ]
    },
    {
     "name": "stdout",
     "output_type": "stream",
     "text": [
      "F1-Score: 0.631492365219194\n",
      "Duration: 436.48534059524536\n"
     ]
    },
    {
     "name": "stderr",
     "output_type": "stream",
     "text": [
      "\u001b[32m[I 2023-03-10 15:45:04,855]\u001b[0m Trial 9 finished with value: 0.3930878696660092 and parameters: {'lstm_units_L1': 153, 'lstm_units_L2': 60, 'dropout_L1': 0.09299818067378807, 'dropout_L2': 0.006556039882584519, 'learning_rate': 0.009003460054551531}. Best is trial 2 with value: 0.7620049450471406.\u001b[0m\n"
     ]
    },
    {
     "name": "stdout",
     "output_type": "stream",
     "text": [
      "F1-Score: 0.3930878696660092\n",
      "Duration: 399.69216537475586\n"
     ]
    },
    {
     "name": "stderr",
     "output_type": "stream",
     "text": [
      "\u001b[32m[I 2023-03-10 15:51:15,068]\u001b[0m Trial 10 finished with value: 0.6289124504044264 and parameters: {'lstm_units_L1': 34, 'lstm_units_L2': 42, 'dropout_L1': 0.4199994768289523, 'dropout_L2': 0.2011681143715623, 'learning_rate': 0.00372677828720425}. Best is trial 2 with value: 0.7620049450471406.\u001b[0m\n"
     ]
    },
    {
     "name": "stdout",
     "output_type": "stream",
     "text": [
      "F1-Score: 0.6289124504044264\n",
      "Duration: 367.20779275894165\n"
     ]
    },
    {
     "name": "stderr",
     "output_type": "stream",
     "text": [
      "\u001b[32m[I 2023-03-10 15:58:21,282]\u001b[0m Trial 11 finished with value: 0.6750500341409432 and parameters: {'lstm_units_L1': 78, 'lstm_units_L2': 53, 'dropout_L1': 0.27826209806400504, 'dropout_L2': 0.20529942318712052, 'learning_rate': 0.00682187400560302}. Best is trial 2 with value: 0.7620049450471406.\u001b[0m\n"
     ]
    },
    {
     "name": "stdout",
     "output_type": "stream",
     "text": [
      "F1-Score: 0.6750500341409432\n",
      "Duration: 423.82552886009216\n"
     ]
    },
    {
     "name": "stderr",
     "output_type": "stream",
     "text": [
      "\u001b[32m[I 2023-03-10 16:05:23,031]\u001b[0m Trial 12 finished with value: 0.6941540140403338 and parameters: {'lstm_units_L1': 93, 'lstm_units_L2': 60, 'dropout_L1': 0.24474123929056957, 'dropout_L2': 0.28000542383417926, 'learning_rate': 0.007326873830722792}. Best is trial 2 with value: 0.7620049450471406.\u001b[0m\n"
     ]
    },
    {
     "name": "stdout",
     "output_type": "stream",
     "text": [
      "F1-Score: 0.6941540140403338\n",
      "Duration: 418.02035999298096\n"
     ]
    },
    {
     "name": "stderr",
     "output_type": "stream",
     "text": [
      "\u001b[32m[I 2023-03-10 16:12:22,795]\u001b[0m Trial 13 finished with value: 0.6288241779122142 and parameters: {'lstm_units_L1': 86, 'lstm_units_L2': 44, 'dropout_L1': 0.20912004203679527, 'dropout_L2': 0.30490824059945854, 'learning_rate': 0.004272684285948342}. Best is trial 2 with value: 0.7620049450471406.\u001b[0m\n"
     ]
    },
    {
     "name": "stdout",
     "output_type": "stream",
     "text": [
      "F1-Score: 0.6288241779122142\n",
      "Duration: 417.2585575580597\n"
     ]
    },
    {
     "name": "stderr",
     "output_type": "stream",
     "text": [
      "\u001b[32m[I 2023-03-10 16:19:03,083]\u001b[0m Trial 14 finished with value: 0.7047131850361813 and parameters: {'lstm_units_L1': 61, 'lstm_units_L2': 59, 'dropout_L1': 0.3389214060913437, 'dropout_L2': 0.2838202618824601, 'learning_rate': 0.005786473001959521}. Best is trial 2 with value: 0.7620049450471406.\u001b[0m\n"
     ]
    },
    {
     "name": "stdout",
     "output_type": "stream",
     "text": [
      "F1-Score: 0.7047131850361813\n",
      "Duration: 396.8187668323517\n"
     ]
    },
    {
     "name": "stderr",
     "output_type": "stream",
     "text": [
      "\u001b[32m[I 2023-03-10 16:25:09,133]\u001b[0m Trial 15 finished with value: 0.6505320159807435 and parameters: {'lstm_units_L1': 56, 'lstm_units_L2': 34, 'dropout_L1': 0.019012145363279526, 'dropout_L2': 0.37251999055685325, 'learning_rate': 0.0027655086129642513}. Best is trial 2 with value: 0.7620049450471406.\u001b[0m\n"
     ]
    },
    {
     "name": "stdout",
     "output_type": "stream",
     "text": [
      "F1-Score: 0.6505320159807435\n",
      "Duration: 363.07659435272217\n"
     ]
    },
    {
     "name": "stderr",
     "output_type": "stream",
     "text": [
      "\u001b[32m[I 2023-03-10 16:31:47,383]\u001b[0m Trial 16 finished with value: 0.7396174321061572 and parameters: {'lstm_units_L1': 64, 'lstm_units_L2': 59, 'dropout_L1': 0.35519914217916976, 'dropout_L2': 0.13712804447738322, 'learning_rate': 0.005669597543242987}. Best is trial 2 with value: 0.7620049450471406.\u001b[0m\n"
     ]
    },
    {
     "name": "stdout",
     "output_type": "stream",
     "text": [
      "F1-Score: 0.7396174321061572\n",
      "Duration: 394.9816129207611\n"
     ]
    },
    {
     "name": "stderr",
     "output_type": "stream",
     "text": [
      "\u001b[32m[I 2023-03-10 16:37:57,300]\u001b[0m Trial 17 finished with value: 0.6760467228447524 and parameters: {'lstm_units_L1': 38, 'lstm_units_L2': 47, 'dropout_L1': 0.41917757762255253, 'dropout_L2': 0.1309256411805869, 'learning_rate': 0.004524169464736267}. Best is trial 2 with value: 0.7620049450471406.\u001b[0m\n"
     ]
    },
    {
     "name": "stdout",
     "output_type": "stream",
     "text": [
      "F1-Score: 0.6760467228447524\n",
      "Duration: 367.1734230518341\n"
     ]
    },
    {
     "name": "stderr",
     "output_type": "stream",
     "text": [
      "\u001b[32m[I 2023-03-10 16:44:35,147]\u001b[0m Trial 18 finished with value: 0.7211989537886615 and parameters: {'lstm_units_L1': 75, 'lstm_units_L2': 20, 'dropout_L1': 0.49270134363248863, 'dropout_L2': 0.1301070893239047, 'learning_rate': 0.0029884055072335876}. Best is trial 2 with value: 0.7620049450471406.\u001b[0m\n"
     ]
    },
    {
     "name": "stdout",
     "output_type": "stream",
     "text": [
      "F1-Score: 0.7211989537886615\n",
      "Duration: 394.2541525363922\n"
     ]
    },
    {
     "name": "stderr",
     "output_type": "stream",
     "text": [
      "\u001b[32m[I 2023-03-10 16:51:39,152]\u001b[0m Trial 19 finished with value: 0.6514564103765256 and parameters: {'lstm_units_L1': 108, 'lstm_units_L2': 55, 'dropout_L1': 0.40668963489901605, 'dropout_L2': 0.13952348416432825, 'learning_rate': 0.006101375589103936}. Best is trial 2 with value: 0.7620049450471406.\u001b[0m\n"
     ]
    },
    {
     "name": "stdout",
     "output_type": "stream",
     "text": [
      "F1-Score: 0.6514564103765256\n",
      "Duration: 420.92800784111023\n"
     ]
    },
    {
     "name": "stderr",
     "output_type": "stream",
     "text": [
      "\u001b[32m[I 2023-03-10 16:57:55,341]\u001b[0m Trial 20 finished with value: 0.672258366288217 and parameters: {'lstm_units_L1': 51, 'lstm_units_L2': 38, 'dropout_L1': 0.3221259100737489, 'dropout_L2': 0.2419863609093474, 'learning_rate': 0.0033717083417100164}. Best is trial 2 with value: 0.7620049450471406.\u001b[0m\n"
     ]
    },
    {
     "name": "stdout",
     "output_type": "stream",
     "text": [
      "F1-Score: 0.672258366288217\n",
      "Duration: 373.17087388038635\n"
     ]
    },
    {
     "name": "stderr",
     "output_type": "stream",
     "text": [
      "\u001b[32m[I 2023-03-10 17:04:28,718]\u001b[0m Trial 21 finished with value: 0.6888047462570656 and parameters: {'lstm_units_L1': 72, 'lstm_units_L2': 18, 'dropout_L1': 0.4892098470471571, 'dropout_L2': 0.13297855146388535, 'learning_rate': 0.0026385460007029593}. Best is trial 2 with value: 0.7620049450471406.\u001b[0m\n"
     ]
    },
    {
     "name": "stdout",
     "output_type": "stream",
     "text": [
      "F1-Score: 0.6888047462570656\n",
      "Duration: 390.9741747379303\n"
     ]
    },
    {
     "name": "stderr",
     "output_type": "stream",
     "text": [
      "\u001b[32m[I 2023-03-10 17:11:01,664]\u001b[0m Trial 22 finished with value: 0.7283817313711576 and parameters: {'lstm_units_L1': 72, 'lstm_units_L2': 27, 'dropout_L1': 0.4535941643949158, 'dropout_L2': 0.07172227522959981, 'learning_rate': 0.005135718806064752}. Best is trial 2 with value: 0.7620049450471406.\u001b[0m\n"
     ]
    },
    {
     "name": "stdout",
     "output_type": "stream",
     "text": [
      "F1-Score: 0.7283817313711576\n",
      "Duration: 389.1451575756073\n"
     ]
    },
    {
     "name": "stderr",
     "output_type": "stream",
     "text": [
      "\u001b[32m[I 2023-03-10 17:17:29,870]\u001b[0m Trial 23 finished with value: 0.7199317738791423 and parameters: {'lstm_units_L1': 68, 'lstm_units_L2': 24, 'dropout_L1': 0.38381384701725174, 'dropout_L2': 0.06354990536287422, 'learning_rate': 0.004953083554699265}. Best is trial 2 with value: 0.7620049450471406.\u001b[0m\n"
     ]
    },
    {
     "name": "stdout",
     "output_type": "stream",
     "text": [
      "F1-Score: 0.7199317738791423\n",
      "Duration: 385.20514941215515\n"
     ]
    },
    {
     "name": "stderr",
     "output_type": "stream",
     "text": [
      "\u001b[32m[I 2023-03-10 17:23:41,171]\u001b[0m Trial 24 finished with value: 0.6623166159772533 and parameters: {'lstm_units_L1': 46, 'lstm_units_L2': 27, 'dropout_L1': 0.4385758493973493, 'dropout_L2': 0.013964509304263545, 'learning_rate': 0.008402388931434412}. Best is trial 2 with value: 0.7620049450471406.\u001b[0m\n"
     ]
    },
    {
     "name": "stdout",
     "output_type": "stream",
     "text": [
      "F1-Score: 0.6623166159772533\n",
      "Duration: 368.1789903640747\n"
     ]
    }
   ],
   "source": [
    "study3=optuna.create_study(study_name=\"BO (F1-score)\",\n",
    "                          direction=\"maximize\", \n",
    "                          sampler=optuna.samplers.TPESampler(), \n",
    "                          pruner=optuna.pruners.NopPruner())\n",
    "study3.optimize(objective_fun_f1,n_trials=25)"
   ]
  },
  {
   "cell_type": "code",
   "execution_count": 10,
   "id": "9e34cc6f",
   "metadata": {
    "execution": {
     "iopub.execute_input": "2023-03-10T17:23:41.207700Z",
     "iopub.status.busy": "2023-03-10T17:23:41.207344Z",
     "iopub.status.idle": "2023-03-10T17:23:41.321129Z",
     "shell.execute_reply": "2023-03-10T17:23:41.319893Z"
    },
    "papermill": {
     "duration": 0.125629,
     "end_time": "2023-03-10T17:23:41.323814",
     "exception": false,
     "start_time": "2023-03-10T17:23:41.198185",
     "status": "completed"
    },
    "tags": []
   },
   "outputs": [
    {
     "data": {
      "text/html": [
       "        <script type=\"text/javascript\">\n",
       "        window.PlotlyConfig = {MathJaxConfig: 'local'};\n",
       "        if (window.MathJax && window.MathJax.Hub && window.MathJax.Hub.Config) {window.MathJax.Hub.Config({SVG: {font: \"STIX-Web\"}});}\n",
       "        if (typeof require !== 'undefined') {\n",
       "        require.undef(\"plotly\");\n",
       "        requirejs.config({\n",
       "            paths: {\n",
       "                'plotly': ['https://cdn.plot.ly/plotly-2.14.0.min']\n",
       "            }\n",
       "        });\n",
       "        require(['plotly'], function(Plotly) {\n",
       "            window._Plotly = Plotly;\n",
       "        });\n",
       "        }\n",
       "        </script>\n",
       "        "
      ]
     },
     "metadata": {},
     "output_type": "display_data"
    },
    {
     "data": {
      "text/html": [
       "<div>                            <div id=\"3b37eb4b-2ec2-4eab-948f-655181841cbb\" class=\"plotly-graph-div\" style=\"height:525px; width:100%;\"></div>            <script type=\"text/javascript\">                require([\"plotly\"], function(Plotly) {                    window.PLOTLYENV=window.PLOTLYENV || {};                                    if (document.getElementById(\"3b37eb4b-2ec2-4eab-948f-655181841cbb\")) {                    Plotly.newPlot(                        \"3b37eb4b-2ec2-4eab-948f-655181841cbb\",                        [{\"mode\":\"markers\",\"name\":\"Objective Value\",\"x\":[0,1,2,3,4,5,6,7,8,9,10,11,12,13,14,15,16,17,18,19,20,21,22,23,24],\"y\":[0.6894261723058914,0.6889106702057979,0.7620049450471406,0.6488987037374133,0.614753716344381,0.648440817893511,0.5638572149362843,0.5770886380468924,0.631492365219194,0.3930878696660092,0.6289124504044264,0.6750500341409432,0.6941540140403338,0.6288241779122142,0.7047131850361813,0.6505320159807435,0.7396174321061572,0.6760467228447524,0.7211989537886615,0.6514564103765256,0.672258366288217,0.6888047462570656,0.7283817313711576,0.7199317738791423,0.6623166159772533],\"type\":\"scatter\"},{\"name\":\"Best Value\",\"x\":[0,1,2,3,4,5,6,7,8,9,10,11,12,13,14,15,16,17,18,19,20,21,22,23,24],\"y\":[0.6894261723058914,0.6894261723058914,0.7620049450471406,0.7620049450471406,0.7620049450471406,0.7620049450471406,0.7620049450471406,0.7620049450471406,0.7620049450471406,0.7620049450471406,0.7620049450471406,0.7620049450471406,0.7620049450471406,0.7620049450471406,0.7620049450471406,0.7620049450471406,0.7620049450471406,0.7620049450471406,0.7620049450471406,0.7620049450471406,0.7620049450471406,0.7620049450471406,0.7620049450471406,0.7620049450471406,0.7620049450471406],\"type\":\"scatter\"}],                        {\"title\":{\"text\":\"Optimization History Plot\"},\"xaxis\":{\"title\":{\"text\":\"Trial\"}},\"yaxis\":{\"title\":{\"text\":\"Objective Value\"}},\"template\":{\"data\":{\"histogram2dcontour\":[{\"type\":\"histogram2dcontour\",\"colorbar\":{\"outlinewidth\":0,\"ticks\":\"\"},\"colorscale\":[[0.0,\"#0d0887\"],[0.1111111111111111,\"#46039f\"],[0.2222222222222222,\"#7201a8\"],[0.3333333333333333,\"#9c179e\"],[0.4444444444444444,\"#bd3786\"],[0.5555555555555556,\"#d8576b\"],[0.6666666666666666,\"#ed7953\"],[0.7777777777777778,\"#fb9f3a\"],[0.8888888888888888,\"#fdca26\"],[1.0,\"#f0f921\"]]}],\"choropleth\":[{\"type\":\"choropleth\",\"colorbar\":{\"outlinewidth\":0,\"ticks\":\"\"}}],\"histogram2d\":[{\"type\":\"histogram2d\",\"colorbar\":{\"outlinewidth\":0,\"ticks\":\"\"},\"colorscale\":[[0.0,\"#0d0887\"],[0.1111111111111111,\"#46039f\"],[0.2222222222222222,\"#7201a8\"],[0.3333333333333333,\"#9c179e\"],[0.4444444444444444,\"#bd3786\"],[0.5555555555555556,\"#d8576b\"],[0.6666666666666666,\"#ed7953\"],[0.7777777777777778,\"#fb9f3a\"],[0.8888888888888888,\"#fdca26\"],[1.0,\"#f0f921\"]]}],\"heatmap\":[{\"type\":\"heatmap\",\"colorbar\":{\"outlinewidth\":0,\"ticks\":\"\"},\"colorscale\":[[0.0,\"#0d0887\"],[0.1111111111111111,\"#46039f\"],[0.2222222222222222,\"#7201a8\"],[0.3333333333333333,\"#9c179e\"],[0.4444444444444444,\"#bd3786\"],[0.5555555555555556,\"#d8576b\"],[0.6666666666666666,\"#ed7953\"],[0.7777777777777778,\"#fb9f3a\"],[0.8888888888888888,\"#fdca26\"],[1.0,\"#f0f921\"]]}],\"heatmapgl\":[{\"type\":\"heatmapgl\",\"colorbar\":{\"outlinewidth\":0,\"ticks\":\"\"},\"colorscale\":[[0.0,\"#0d0887\"],[0.1111111111111111,\"#46039f\"],[0.2222222222222222,\"#7201a8\"],[0.3333333333333333,\"#9c179e\"],[0.4444444444444444,\"#bd3786\"],[0.5555555555555556,\"#d8576b\"],[0.6666666666666666,\"#ed7953\"],[0.7777777777777778,\"#fb9f3a\"],[0.8888888888888888,\"#fdca26\"],[1.0,\"#f0f921\"]]}],\"contourcarpet\":[{\"type\":\"contourcarpet\",\"colorbar\":{\"outlinewidth\":0,\"ticks\":\"\"}}],\"contour\":[{\"type\":\"contour\",\"colorbar\":{\"outlinewidth\":0,\"ticks\":\"\"},\"colorscale\":[[0.0,\"#0d0887\"],[0.1111111111111111,\"#46039f\"],[0.2222222222222222,\"#7201a8\"],[0.3333333333333333,\"#9c179e\"],[0.4444444444444444,\"#bd3786\"],[0.5555555555555556,\"#d8576b\"],[0.6666666666666666,\"#ed7953\"],[0.7777777777777778,\"#fb9f3a\"],[0.8888888888888888,\"#fdca26\"],[1.0,\"#f0f921\"]]}],\"surface\":[{\"type\":\"surface\",\"colorbar\":{\"outlinewidth\":0,\"ticks\":\"\"},\"colorscale\":[[0.0,\"#0d0887\"],[0.1111111111111111,\"#46039f\"],[0.2222222222222222,\"#7201a8\"],[0.3333333333333333,\"#9c179e\"],[0.4444444444444444,\"#bd3786\"],[0.5555555555555556,\"#d8576b\"],[0.6666666666666666,\"#ed7953\"],[0.7777777777777778,\"#fb9f3a\"],[0.8888888888888888,\"#fdca26\"],[1.0,\"#f0f921\"]]}],\"mesh3d\":[{\"type\":\"mesh3d\",\"colorbar\":{\"outlinewidth\":0,\"ticks\":\"\"}}],\"scatter\":[{\"fillpattern\":{\"fillmode\":\"overlay\",\"size\":10,\"solidity\":0.2},\"type\":\"scatter\"}],\"parcoords\":[{\"type\":\"parcoords\",\"line\":{\"colorbar\":{\"outlinewidth\":0,\"ticks\":\"\"}}}],\"scatterpolargl\":[{\"type\":\"scatterpolargl\",\"marker\":{\"colorbar\":{\"outlinewidth\":0,\"ticks\":\"\"}}}],\"bar\":[{\"error_x\":{\"color\":\"#2a3f5f\"},\"error_y\":{\"color\":\"#2a3f5f\"},\"marker\":{\"line\":{\"color\":\"#E5ECF6\",\"width\":0.5},\"pattern\":{\"fillmode\":\"overlay\",\"size\":10,\"solidity\":0.2}},\"type\":\"bar\"}],\"scattergeo\":[{\"type\":\"scattergeo\",\"marker\":{\"colorbar\":{\"outlinewidth\":0,\"ticks\":\"\"}}}],\"scatterpolar\":[{\"type\":\"scatterpolar\",\"marker\":{\"colorbar\":{\"outlinewidth\":0,\"ticks\":\"\"}}}],\"histogram\":[{\"marker\":{\"pattern\":{\"fillmode\":\"overlay\",\"size\":10,\"solidity\":0.2}},\"type\":\"histogram\"}],\"scattergl\":[{\"type\":\"scattergl\",\"marker\":{\"colorbar\":{\"outlinewidth\":0,\"ticks\":\"\"}}}],\"scatter3d\":[{\"type\":\"scatter3d\",\"line\":{\"colorbar\":{\"outlinewidth\":0,\"ticks\":\"\"}},\"marker\":{\"colorbar\":{\"outlinewidth\":0,\"ticks\":\"\"}}}],\"scattermapbox\":[{\"type\":\"scattermapbox\",\"marker\":{\"colorbar\":{\"outlinewidth\":0,\"ticks\":\"\"}}}],\"scatterternary\":[{\"type\":\"scatterternary\",\"marker\":{\"colorbar\":{\"outlinewidth\":0,\"ticks\":\"\"}}}],\"scattercarpet\":[{\"type\":\"scattercarpet\",\"marker\":{\"colorbar\":{\"outlinewidth\":0,\"ticks\":\"\"}}}],\"carpet\":[{\"aaxis\":{\"endlinecolor\":\"#2a3f5f\",\"gridcolor\":\"white\",\"linecolor\":\"white\",\"minorgridcolor\":\"white\",\"startlinecolor\":\"#2a3f5f\"},\"baxis\":{\"endlinecolor\":\"#2a3f5f\",\"gridcolor\":\"white\",\"linecolor\":\"white\",\"minorgridcolor\":\"white\",\"startlinecolor\":\"#2a3f5f\"},\"type\":\"carpet\"}],\"table\":[{\"cells\":{\"fill\":{\"color\":\"#EBF0F8\"},\"line\":{\"color\":\"white\"}},\"header\":{\"fill\":{\"color\":\"#C8D4E3\"},\"line\":{\"color\":\"white\"}},\"type\":\"table\"}],\"barpolar\":[{\"marker\":{\"line\":{\"color\":\"#E5ECF6\",\"width\":0.5},\"pattern\":{\"fillmode\":\"overlay\",\"size\":10,\"solidity\":0.2}},\"type\":\"barpolar\"}],\"pie\":[{\"automargin\":true,\"type\":\"pie\"}]},\"layout\":{\"autotypenumbers\":\"strict\",\"colorway\":[\"#636efa\",\"#EF553B\",\"#00cc96\",\"#ab63fa\",\"#FFA15A\",\"#19d3f3\",\"#FF6692\",\"#B6E880\",\"#FF97FF\",\"#FECB52\"],\"font\":{\"color\":\"#2a3f5f\"},\"hovermode\":\"closest\",\"hoverlabel\":{\"align\":\"left\"},\"paper_bgcolor\":\"white\",\"plot_bgcolor\":\"#E5ECF6\",\"polar\":{\"bgcolor\":\"#E5ECF6\",\"angularaxis\":{\"gridcolor\":\"white\",\"linecolor\":\"white\",\"ticks\":\"\"},\"radialaxis\":{\"gridcolor\":\"white\",\"linecolor\":\"white\",\"ticks\":\"\"}},\"ternary\":{\"bgcolor\":\"#E5ECF6\",\"aaxis\":{\"gridcolor\":\"white\",\"linecolor\":\"white\",\"ticks\":\"\"},\"baxis\":{\"gridcolor\":\"white\",\"linecolor\":\"white\",\"ticks\":\"\"},\"caxis\":{\"gridcolor\":\"white\",\"linecolor\":\"white\",\"ticks\":\"\"}},\"coloraxis\":{\"colorbar\":{\"outlinewidth\":0,\"ticks\":\"\"}},\"colorscale\":{\"sequential\":[[0.0,\"#0d0887\"],[0.1111111111111111,\"#46039f\"],[0.2222222222222222,\"#7201a8\"],[0.3333333333333333,\"#9c179e\"],[0.4444444444444444,\"#bd3786\"],[0.5555555555555556,\"#d8576b\"],[0.6666666666666666,\"#ed7953\"],[0.7777777777777778,\"#fb9f3a\"],[0.8888888888888888,\"#fdca26\"],[1.0,\"#f0f921\"]],\"sequentialminus\":[[0.0,\"#0d0887\"],[0.1111111111111111,\"#46039f\"],[0.2222222222222222,\"#7201a8\"],[0.3333333333333333,\"#9c179e\"],[0.4444444444444444,\"#bd3786\"],[0.5555555555555556,\"#d8576b\"],[0.6666666666666666,\"#ed7953\"],[0.7777777777777778,\"#fb9f3a\"],[0.8888888888888888,\"#fdca26\"],[1.0,\"#f0f921\"]],\"diverging\":[[0,\"#8e0152\"],[0.1,\"#c51b7d\"],[0.2,\"#de77ae\"],[0.3,\"#f1b6da\"],[0.4,\"#fde0ef\"],[0.5,\"#f7f7f7\"],[0.6,\"#e6f5d0\"],[0.7,\"#b8e186\"],[0.8,\"#7fbc41\"],[0.9,\"#4d9221\"],[1,\"#276419\"]]},\"xaxis\":{\"gridcolor\":\"white\",\"linecolor\":\"white\",\"ticks\":\"\",\"title\":{\"standoff\":15},\"zerolinecolor\":\"white\",\"automargin\":true,\"zerolinewidth\":2},\"yaxis\":{\"gridcolor\":\"white\",\"linecolor\":\"white\",\"ticks\":\"\",\"title\":{\"standoff\":15},\"zerolinecolor\":\"white\",\"automargin\":true,\"zerolinewidth\":2},\"scene\":{\"xaxis\":{\"backgroundcolor\":\"#E5ECF6\",\"gridcolor\":\"white\",\"linecolor\":\"white\",\"showbackground\":true,\"ticks\":\"\",\"zerolinecolor\":\"white\",\"gridwidth\":2},\"yaxis\":{\"backgroundcolor\":\"#E5ECF6\",\"gridcolor\":\"white\",\"linecolor\":\"white\",\"showbackground\":true,\"ticks\":\"\",\"zerolinecolor\":\"white\",\"gridwidth\":2},\"zaxis\":{\"backgroundcolor\":\"#E5ECF6\",\"gridcolor\":\"white\",\"linecolor\":\"white\",\"showbackground\":true,\"ticks\":\"\",\"zerolinecolor\":\"white\",\"gridwidth\":2}},\"shapedefaults\":{\"line\":{\"color\":\"#2a3f5f\"}},\"annotationdefaults\":{\"arrowcolor\":\"#2a3f5f\",\"arrowhead\":0,\"arrowwidth\":1},\"geo\":{\"bgcolor\":\"white\",\"landcolor\":\"#E5ECF6\",\"subunitcolor\":\"white\",\"showland\":true,\"showlakes\":true,\"lakecolor\":\"white\"},\"title\":{\"x\":0.05},\"mapbox\":{\"style\":\"light\"}}}},                        {\"responsive\": true}                    ).then(function(){\n",
       "                            \n",
       "var gd = document.getElementById('3b37eb4b-2ec2-4eab-948f-655181841cbb');\n",
       "var x = new MutationObserver(function (mutations, observer) {{\n",
       "        var display = window.getComputedStyle(gd).display;\n",
       "        if (!display || display === 'none') {{\n",
       "            console.log([gd, 'removed!']);\n",
       "            Plotly.purge(gd);\n",
       "            observer.disconnect();\n",
       "        }}\n",
       "}});\n",
       "\n",
       "// Listen for the removal of the full notebook cells\n",
       "var notebookContainer = gd.closest('#notebook-container');\n",
       "if (notebookContainer) {{\n",
       "    x.observe(notebookContainer, {childList: true});\n",
       "}}\n",
       "\n",
       "// Listen for the clearing of the current output cell\n",
       "var outputEl = gd.closest('.output');\n",
       "if (outputEl) {{\n",
       "    x.observe(outputEl, {childList: true});\n",
       "}}\n",
       "\n",
       "                        })                };                });            </script>        </div>"
      ]
     },
     "metadata": {},
     "output_type": "display_data"
    }
   ],
   "source": [
    "plot_optimization_history(study3)"
   ]
  },
  {
   "cell_type": "code",
   "execution_count": 11,
   "id": "c04a3971",
   "metadata": {
    "execution": {
     "iopub.execute_input": "2023-03-10T17:23:41.342126Z",
     "iopub.status.busy": "2023-03-10T17:23:41.341775Z",
     "iopub.status.idle": "2023-03-10T17:23:41.393701Z",
     "shell.execute_reply": "2023-03-10T17:23:41.392513Z"
    },
    "papermill": {
     "duration": 0.064258,
     "end_time": "2023-03-10T17:23:41.396594",
     "exception": false,
     "start_time": "2023-03-10T17:23:41.332336",
     "status": "completed"
    },
    "tags": []
   },
   "outputs": [
    {
     "data": {
      "text/html": [
       "<div>                            <div id=\"9cb757fe-7aed-4be6-9cd4-df26c1a59d40\" class=\"plotly-graph-div\" style=\"height:525px; width:100%;\"></div>            <script type=\"text/javascript\">                require([\"plotly\"], function(Plotly) {                    window.PLOTLYENV=window.PLOTLYENV || {};                                    if (document.getElementById(\"9cb757fe-7aed-4be6-9cd4-df26c1a59d40\")) {                    Plotly.newPlot(                        \"9cb757fe-7aed-4be6-9cd4-df26c1a59d40\",                        [{\"marker\":{\"maxdisplayed\":10},\"mode\":\"lines+markers\",\"name\":\"Trial0\",\"x\":[0,1,2,3,4,5,6,7,8,9,10,11,12,13,14,15,16,17,18,19,20,21,22,23,24],\"y\":[0.6533178687095642,0.618224024772644,0.5846551060676575,0.4905954897403717,0.45158764719963074,0.4655980169773102,0.47587475180625916,0.47460758686065674,0.453938752412796,0.5094756484031677,0.6119019985198975,0.5694027543067932,0.5553585886955261,0.6782842874526978,0.7384587526321411,0.8898618817329407,0.8539458513259888,0.651041567325592,0.7739319801330566,0.9078753590583801,0.811385989189148,1.366867184638977,0.9067491292953491,0.9748185276985168,0.8179372549057007],\"type\":\"scatter\"},{\"marker\":{\"maxdisplayed\":10},\"mode\":\"lines+markers\",\"name\":\"Trial1\",\"x\":[0,1,2,3,4,5,6,7,8,9,10,11,12,13,14,15,16,17,18,19,20,21,22,23,24],\"y\":[0.7044135928153992,0.621941864490509,0.632464587688446,0.5697131752967834,0.48691681027412415,0.4381047189235687,0.4157103896141052,0.42448750138282776,0.4540923535823822,0.47153183817863464,0.5042731165885925,0.5242454409599304,0.5567206740379333,0.6546958088874817,0.510312020778656,0.5741071701049805,0.6282792091369629,0.5234895348548889,0.6482351422309875,0.6079081296920776,0.7093076705932617,0.865890383720398,0.8046976923942566,0.6742798089981079,0.8660329580307007],\"type\":\"scatter\"},{\"marker\":{\"maxdisplayed\":10},\"mode\":\"lines+markers\",\"name\":\"Trial2\",\"x\":[0,1,2,3,4,5,6,7,8,9,10,11,12,13,14,15,16,17,18,19,20,21,22,23,24],\"y\":[0.6138274669647217,0.47610852122306824,0.4565568268299103,0.4491942822933197,0.42535367608070374,0.4303656816482544,0.4839787483215332,0.4292968213558197,0.47859376668930054,0.6345486044883728,0.5430042147636414,0.5910163521766663,0.7340706586837769,0.6773852705955505,0.6522150635719299,0.7202345728874207,0.7618685364723206,0.8034141063690186,0.7484360337257385,0.742400050163269,0.7265950441360474,0.8470977544784546,0.7909923195838928,0.8577122092247009,0.9181786179542542],\"type\":\"scatter\"},{\"marker\":{\"maxdisplayed\":10},\"mode\":\"lines+markers\",\"name\":\"Trial3\",\"x\":[0,1,2,3,4,5,6,7,8,9,10,11,12,13,14,15,16,17,18,19,20,21,22,23,24],\"y\":[0.556888222694397,0.5018550157546997,0.5187357068061829,0.520919144153595,0.45531535148620605,0.46682003140449524,0.44253531098365784,0.4485369622707367,0.4456693232059479,0.4922527074813843,0.5044910907745361,0.5134001970291138,0.5467305779457092,0.5344317555427551,0.5903476476669312,0.6051533818244934,0.6254928112030029,0.6200772523880005,0.6194634437561035,0.6536080837249756,0.7044356465339661,0.7325479388237,0.7607254981994629,0.7484522461891174,0.8119719624519348],\"type\":\"scatter\"},{\"marker\":{\"maxdisplayed\":10},\"mode\":\"lines+markers\",\"name\":\"Trial4\",\"x\":[0,1,2,3,4,5,6,7,8,9,10,11,12,13,14,15,16,17,18,19,20,21,22,23,24],\"y\":[0.7859066128730774,0.8161963820457458,0.5938134789466858,0.6126107573509216,0.6087341904640198,0.5303918123245239,0.5038787126541138,0.496359646320343,0.4665495753288269,0.5159419775009155,0.498883455991745,0.5928439497947693,0.572348415851593,0.606419563293457,0.601089358329773,0.6441051959991455,0.6268369555473328,0.6039360165596008,0.68974769115448,0.6466299891471863,0.93503338098526,0.8669112920761108,0.7095980644226074,0.7143966555595398,0.7195122838020325],\"type\":\"scatter\"},{\"marker\":{\"maxdisplayed\":10},\"mode\":\"lines+markers\",\"name\":\"Trial5\",\"x\":[0,1,2,3,4,5,6,7,8,9,10,11,12,13,14,15,16,17,18,19,20,21,22,23,24],\"y\":[0.5378801822662354,0.5180275440216064,0.49640271067619324,0.4965513050556183,0.5119914412498474,0.490969717502594,0.5088006258010864,0.4753630757331848,0.5405023694038391,0.5448639392852783,0.495207816362381,0.5467479825019836,0.618411123752594,0.6009711623191833,0.6299046874046326,0.6491783261299133,0.7033909559249878,0.691761314868927,0.7602978944778442,0.7755278944969177,0.7355198264122009,0.8143072128295898,0.883837103843689,0.7638825178146362,0.8074160814285278],\"type\":\"scatter\"},{\"marker\":{\"maxdisplayed\":10},\"mode\":\"lines+markers\",\"name\":\"Trial6\",\"x\":[0,1,2,3,4,5,6,7,8,9,10,11,12,13,14,15,16,17,18,19,20,21,22,23,24],\"y\":[0.6013693809509277,0.5117470622062683,0.5528878569602966,0.5368673801422119,0.48222336173057556,0.4922155439853668,0.48656582832336426,0.4920564591884613,0.4506891071796417,0.47737517952919006,0.5043596029281616,0.4667409360408783,0.5064048767089844,0.5207394957542419,0.590643048286438,0.6303122639656067,0.6209732294082642,0.6301388740539551,0.6162891387939453,0.6768869161605835,0.6667366027832031,0.7269769310951233,0.6911839842796326,0.8012714982032776,0.8223953247070312],\"type\":\"scatter\"},{\"marker\":{\"maxdisplayed\":10},\"mode\":\"lines+markers\",\"name\":\"Trial7\",\"x\":[0,1,2,3,4,5,6,7,8,9,10,11,12,13,14,15,16,17,18,19,20,21,22,23,24],\"y\":[0.5550161004066467,0.5191376209259033,0.4880066514015198,0.5202419757843018,0.48589545488357544,0.49901172518730164,0.5357881784439087,0.5004257559776306,0.4962023198604584,0.5220860838890076,0.5281586050987244,0.5476818084716797,0.5286591649055481,0.5213809013366699,0.5850079655647278,0.5283335447311401,0.6117372512817383,0.5528398156166077,0.6165189743041992,0.5773466229438782,0.6106060743331909,0.7231457233428955,0.6795928478240967,0.6971794366836548,0.7975901365280151],\"type\":\"scatter\"},{\"marker\":{\"maxdisplayed\":10},\"mode\":\"lines+markers\",\"name\":\"Trial8\",\"x\":[0,1,2,3,4,5,6,7,8,9,10,11,12,13,14,15,16,17,18,19,20,21,22,23,24],\"y\":[0.5996794104576111,0.5040794014930725,0.5013188719749451,0.5617769360542297,0.4998432993888855,0.471403032541275,0.5017834901809692,0.550936758518219,0.5464534759521484,0.5319713354110718,0.6077280044555664,0.5347197651863098,0.6004047989845276,0.6838660836219788,0.7147271633148193,0.7952361702919006,0.7873625755310059,0.8502447009086609,0.8158047199249268,0.9292261600494385,0.943475067615509,1.0074071884155273,0.9649458527565002,1.0029034614562988,1.0683972835540771],\"type\":\"scatter\"},{\"marker\":{\"maxdisplayed\":10},\"mode\":\"lines+markers\",\"name\":\"Trial9\",\"x\":[0,1,2,3,4,5,6,7,8,9,10,11,12,13,14,15,16,17,18,19,20,21,22,23,24],\"y\":[0.8477637767791748,0.8090150356292725,0.7911112904548645,0.7575421929359436,0.7438609600067139,0.7249020338058472,0.7282933592796326,0.6966468691825867,0.770407497882843,0.7576906085014343,0.7183644771575928,0.6932837963104248,0.7041875720024109,0.712953507900238,0.7267289161682129,0.722768247127533,0.7126765847206116,0.7183407545089722,0.7224316000938416,0.6889815330505371,0.7269238829612732,0.7027646899223328,0.6929832696914673,0.7425832152366638,0.7023751139640808],\"type\":\"scatter\"},{\"marker\":{\"maxdisplayed\":10},\"mode\":\"lines+markers\",\"name\":\"Trial10\",\"x\":[0,1,2,3,4,5,6,7,8,9,10,11,12,13,14,15,16,17,18,19,20,21,22,23,24],\"y\":[0.591108500957489,0.5679161548614502,0.5313857197761536,0.5445884466171265,0.5099598169326782,0.4835696220397949,0.5748701095581055,0.4997575581073761,0.5546280741691589,0.6345363259315491,0.70466548204422,0.6246243715286255,0.6040470600128174,0.6963779330253601,0.75601726770401,0.7330869436264038,0.7973493337631226,0.8146164417266846,0.7199733257293701,0.8003023266792297,0.7756179571151733,0.8044543266296387,0.9392468929290771,0.9608389735221863,0.758398711681366],\"type\":\"scatter\"},{\"marker\":{\"maxdisplayed\":10},\"mode\":\"lines+markers\",\"name\":\"Trial11\",\"x\":[0,1,2,3,4,5,6,7,8,9,10,11,12,13,14,15,16,17,18,19,20,21,22,23,24],\"y\":[0.7350360155105591,0.7562944889068604,0.6936265230178833,0.6488891839981079,0.6047857403755188,0.6017653942108154,0.6104804873466492,0.5750348567962646,0.5404266119003296,0.6027812957763672,0.5095743536949158,0.4839002788066864,0.4509981572628021,0.4351018965244293,0.44478052854537964,0.581932008266449,0.40234842896461487,0.4129346013069153,0.4450564980506897,0.4884386956691742,0.505508542060852,0.5403319597244263,0.5821221470832825,0.5797841548919678,0.6081593036651611],\"type\":\"scatter\"},{\"marker\":{\"maxdisplayed\":10},\"mode\":\"lines+markers\",\"name\":\"Trial12\",\"x\":[0,1,2,3,4,5,6,7,8,9,10,11,12,13,14,15,16,17,18,19,20,21,22,23,24],\"y\":[0.7509269118309021,0.6450545787811279,0.6030887961387634,0.5029374361038208,0.4152927100658417,0.42044463753700256,0.41367584466934204,0.3993130326271057,0.39457210898399353,0.44572556018829346,0.4033351242542267,0.5208407640457153,0.5639530420303345,0.6028364300727844,0.5160501599311829,0.5391431450843811,0.5979106426239014,0.6408126354217529,0.5427542328834534,0.7655407786369324,0.6677676439285278,0.7612809538841248,0.6389026641845703,0.6083975434303284,0.7653826475143433],\"type\":\"scatter\"},{\"marker\":{\"maxdisplayed\":10},\"mode\":\"lines+markers\",\"name\":\"Trial13\",\"x\":[0,1,2,3,4,5,6,7,8,9,10,11,12,13,14,15,16,17,18,19,20,21,22,23,24],\"y\":[0.5993651151657104,0.6461312770843506,0.5880534648895264,0.5945273637771606,0.6328508853912354,0.5583016276359558,0.6043733358383179,0.5787379145622253,0.6311616897583008,0.5900264978408813,0.6120774745941162,0.684910774230957,0.6791096329689026,0.7767559289932251,0.85885089635849,0.8523616790771484,0.9909502267837524,0.9125701189041138,1.036723256111145,1.0617696046829224,0.9161580204963684,1.1326709985733032,1.0102919340133667,1.000972867012024,1.0552705526351929],\"type\":\"scatter\"},{\"marker\":{\"maxdisplayed\":10},\"mode\":\"lines+markers\",\"name\":\"Trial14\",\"x\":[0,1,2,3,4,5,6,7,8,9,10,11,12,13,14,15,16,17,18,19,20,21,22,23,24],\"y\":[0.7100600600242615,0.5852868556976318,0.4829201400279999,0.46424075961112976,0.3925677239894867,0.3889850080013275,0.4000656008720398,0.3947507441043854,0.4275631010532379,0.4579601585865021,0.6069833040237427,0.5006510615348816,0.5450118184089661,0.5962721109390259,0.611221969127655,0.6144759654998779,0.9202611446380615,0.680336058139801,0.6401810050010681,0.6578977704048157,0.8883540034294128,0.7716889977455139,0.8193497061729431,0.8217477202415466,0.8730324506759644],\"type\":\"scatter\"},{\"marker\":{\"maxdisplayed\":10},\"mode\":\"lines+markers\",\"name\":\"Trial15\",\"x\":[0,1,2,3,4,5,6,7,8,9,10,11,12,13,14,15,16,17,18,19,20,21,22,23,24],\"y\":[0.5625481605529785,0.49136412143707275,0.48327451944351196,0.4711397588253021,0.4648831784725189,0.45074042677879333,0.42694953083992004,0.4285582900047302,0.48387759923934937,0.5166242122650146,0.529617428779602,0.5957539081573486,0.5532230734825134,0.6530520915985107,0.5872254967689514,0.6240511536598206,0.7360787391662598,0.7814921736717224,0.7683937549591064,0.7035548090934753,0.7362588047981262,0.7671230435371399,0.7824817895889282,0.8264203071594238,0.9427541494369507],\"type\":\"scatter\"},{\"marker\":{\"maxdisplayed\":10},\"mode\":\"lines+markers\",\"name\":\"Trial16\",\"x\":[0,1,2,3,4,5,6,7,8,9,10,11,12,13,14,15,16,17,18,19,20,21,22,23,24],\"y\":[0.5735329985618591,0.4870832562446594,0.4491400420665741,0.454632431268692,0.41102245450019836,0.3978286683559418,0.4661034941673279,0.4908777177333832,0.5091652274131775,0.5744196176528931,0.8026864528656006,0.5617921352386475,0.5331772565841675,0.6353688836097717,0.6368597745895386,0.7599069476127625,0.6592506766319275,0.7010403871536255,0.6221055388450623,0.6289050579071045,0.7067552208900452,0.7543954849243164,0.6572548747062683,0.680865466594696,0.9279897809028625],\"type\":\"scatter\"},{\"marker\":{\"maxdisplayed\":10},\"mode\":\"lines+markers\",\"name\":\"Trial17\",\"x\":[0,1,2,3,4,5,6,7,8,9,10,11,12,13,14,15,16,17,18,19,20,21,22,23,24],\"y\":[0.5640702843666077,0.5467667579650879,0.4793599545955658,0.44134560227394104,0.4382663369178772,0.3941940665245056,0.3916587829589844,0.42226600646972656,0.46657633781433105,0.5500820279121399,0.5184050798416138,0.4832838177680969,0.5737062692642212,0.5408473610877991,0.6294814944267273,0.6051973700523376,0.6109188795089722,0.5315214991569519,0.7060667872428894,0.7227908372879028,0.62620609998703,0.6412520408630371,0.6521683931350708,0.7760213613510132,0.70504230260849],\"type\":\"scatter\"},{\"marker\":{\"maxdisplayed\":10},\"mode\":\"lines+markers\",\"name\":\"Trial18\",\"x\":[0,1,2,3,4,5,6,7,8,9,10,11,12,13,14,15,16,17,18,19,20,21,22,23,24],\"y\":[0.5114936232566833,0.46959447860717773,0.44511374831199646,0.4898790121078491,0.423238068819046,0.4216799736022949,0.4611447751522064,0.518398106098175,0.49735674262046814,0.49989286065101624,0.5995976328849792,0.5612840056419373,0.5957868099212646,0.5786648988723755,0.5952215790748596,0.6144295334815979,0.7591077089309692,0.7230613827705383,0.8251718878746033,0.622257649898529,0.7972085475921631,0.8308959007263184,0.9345627427101135,0.7303228974342346,0.7767414450645447],\"type\":\"scatter\"},{\"marker\":{\"maxdisplayed\":10},\"mode\":\"lines+markers\",\"name\":\"Trial19\",\"x\":[0,1,2,3,4,5,6,7,8,9,10,11,12,13,14,15,16,17,18,19,20,21,22,23,24],\"y\":[0.7887873649597168,0.858331024646759,0.8474929332733154,0.7588524222373962,0.7604498267173767,0.6762833595275879,0.5993600487709045,0.5761818289756775,0.5414732694625854,0.5588927865028381,0.4713072180747986,0.48912712931632996,0.4350942373275757,0.4017374813556671,0.3953877389431,0.4012244939804077,0.4352232813835144,0.38567596673965454,0.4480734169483185,0.5203299522399902,0.590446412563324,0.5414207577705383,0.5058274865150452,0.5868692398071289,0.5763706564903259],\"type\":\"scatter\"},{\"marker\":{\"maxdisplayed\":10},\"mode\":\"lines+markers\",\"name\":\"Trial20\",\"x\":[0,1,2,3,4,5,6,7,8,9,10,11,12,13,14,15,16,17,18,19,20,21,22,23,24],\"y\":[0.5609863996505737,0.5431530475616455,0.4627860486507416,0.4748638868331909,0.4324142634868622,0.40783143043518066,0.42707404494285583,0.4160085618495941,0.3899262547492981,0.43564996123313904,0.4948321282863617,0.490843266248703,0.5511825084686279,0.6065372824668884,0.6031833291053772,0.5700493454933167,0.659538984298706,0.6491287350654602,0.6859402656555176,0.7913143634796143,0.7906101942062378,0.7823289632797241,0.785036027431488,0.7935357093811035,0.7289443016052246],\"type\":\"scatter\"},{\"marker\":{\"maxdisplayed\":10},\"mode\":\"lines+markers\",\"name\":\"Trial21\",\"x\":[0,1,2,3,4,5,6,7,8,9,10,11,12,13,14,15,16,17,18,19,20,21,22,23,24],\"y\":[0.5853845477104187,0.6036125421524048,0.6086370944976807,0.5393511652946472,0.5749952793121338,0.5078255534172058,0.5335081219673157,0.5401020050048828,0.594151496887207,0.5821635723114014,0.6140598058700562,0.5951739549636841,0.5856916904449463,0.6947821974754333,0.7894740104675293,0.6877560019493103,0.7921367287635803,0.6852942705154419,0.7108303904533386,0.7307931184768677,0.8174626231193542,0.7382544875144958,0.8456701636314392,0.887859046459198,0.9282144904136658],\"type\":\"scatter\"},{\"marker\":{\"maxdisplayed\":10},\"mode\":\"lines+markers\",\"name\":\"Trial22\",\"x\":[0,1,2,3,4,5,6,7,8,9,10,11,12,13,14,15,16,17,18,19,20,21,22,23,24],\"y\":[0.6100749373435974,0.5228738188743591,0.48813945055007935,0.45113059878349304,0.40307921171188354,0.40136364102363586,0.39954280853271484,0.39325615763664246,0.4771556556224823,0.4849361479282379,0.49671411514282227,0.5284287929534912,0.5545063614845276,0.6263478994369507,0.6356343626976013,0.730290949344635,0.7846819758415222,0.7486035227775574,0.7608247399330139,0.7331322431564331,0.6808190941810608,0.6732769012451172,0.7834603786468506,0.7980068922042847,0.7112417221069336],\"type\":\"scatter\"},{\"marker\":{\"maxdisplayed\":10},\"mode\":\"lines+markers\",\"name\":\"Trial23\",\"x\":[0,1,2,3,4,5,6,7,8,9,10,11,12,13,14,15,16,17,18,19,20,21,22,23,24],\"y\":[0.5143881440162659,0.4804920554161072,0.44885894656181335,0.5373303890228271,0.44308820366859436,0.41586583852767944,0.4132917523384094,0.4702816307544708,0.4190405011177063,0.6069936752319336,0.5255886316299438,0.5262218713760376,0.5331428050994873,0.5856669545173645,0.7028743028640747,0.7181342840194702,0.6827073097229004,0.6422158479690552,0.706507682800293,0.744466245174408,0.8221110701560974,0.8267641067504883,0.7029192447662354,0.8767349720001221,0.6241311430931091],\"type\":\"scatter\"},{\"marker\":{\"maxdisplayed\":10},\"mode\":\"lines+markers\",\"name\":\"Trial24\",\"x\":[0,1,2,3,4,5,6,7,8,9,10,11,12,13,14,15,16,17,18,19,20,21,22,23,24],\"y\":[0.5561498999595642,0.4896692633628845,0.438008576631546,0.4304446280002594,0.4023929238319397,0.38237902522087097,0.4128003418445587,0.42281925678253174,0.4937622547149658,0.4166334271430969,0.49798473715782166,0.44514575600624084,0.5647269487380981,0.6497071385383606,0.6580224633216858,0.6477751135826111,0.5619719624519348,0.7108860611915588,0.6206856369972229,0.663633406162262,0.6238633394241333,0.650382936000824,0.5757843255996704,0.7305150032043457,0.7656782269477844],\"type\":\"scatter\"}],                        {\"showlegend\":false,\"title\":{\"text\":\"Intermediate Values Plot\"},\"xaxis\":{\"title\":{\"text\":\"Step\"}},\"yaxis\":{\"title\":{\"text\":\"Intermediate Value\"}},\"template\":{\"data\":{\"histogram2dcontour\":[{\"type\":\"histogram2dcontour\",\"colorbar\":{\"outlinewidth\":0,\"ticks\":\"\"},\"colorscale\":[[0.0,\"#0d0887\"],[0.1111111111111111,\"#46039f\"],[0.2222222222222222,\"#7201a8\"],[0.3333333333333333,\"#9c179e\"],[0.4444444444444444,\"#bd3786\"],[0.5555555555555556,\"#d8576b\"],[0.6666666666666666,\"#ed7953\"],[0.7777777777777778,\"#fb9f3a\"],[0.8888888888888888,\"#fdca26\"],[1.0,\"#f0f921\"]]}],\"choropleth\":[{\"type\":\"choropleth\",\"colorbar\":{\"outlinewidth\":0,\"ticks\":\"\"}}],\"histogram2d\":[{\"type\":\"histogram2d\",\"colorbar\":{\"outlinewidth\":0,\"ticks\":\"\"},\"colorscale\":[[0.0,\"#0d0887\"],[0.1111111111111111,\"#46039f\"],[0.2222222222222222,\"#7201a8\"],[0.3333333333333333,\"#9c179e\"],[0.4444444444444444,\"#bd3786\"],[0.5555555555555556,\"#d8576b\"],[0.6666666666666666,\"#ed7953\"],[0.7777777777777778,\"#fb9f3a\"],[0.8888888888888888,\"#fdca26\"],[1.0,\"#f0f921\"]]}],\"heatmap\":[{\"type\":\"heatmap\",\"colorbar\":{\"outlinewidth\":0,\"ticks\":\"\"},\"colorscale\":[[0.0,\"#0d0887\"],[0.1111111111111111,\"#46039f\"],[0.2222222222222222,\"#7201a8\"],[0.3333333333333333,\"#9c179e\"],[0.4444444444444444,\"#bd3786\"],[0.5555555555555556,\"#d8576b\"],[0.6666666666666666,\"#ed7953\"],[0.7777777777777778,\"#fb9f3a\"],[0.8888888888888888,\"#fdca26\"],[1.0,\"#f0f921\"]]}],\"heatmapgl\":[{\"type\":\"heatmapgl\",\"colorbar\":{\"outlinewidth\":0,\"ticks\":\"\"},\"colorscale\":[[0.0,\"#0d0887\"],[0.1111111111111111,\"#46039f\"],[0.2222222222222222,\"#7201a8\"],[0.3333333333333333,\"#9c179e\"],[0.4444444444444444,\"#bd3786\"],[0.5555555555555556,\"#d8576b\"],[0.6666666666666666,\"#ed7953\"],[0.7777777777777778,\"#fb9f3a\"],[0.8888888888888888,\"#fdca26\"],[1.0,\"#f0f921\"]]}],\"contourcarpet\":[{\"type\":\"contourcarpet\",\"colorbar\":{\"outlinewidth\":0,\"ticks\":\"\"}}],\"contour\":[{\"type\":\"contour\",\"colorbar\":{\"outlinewidth\":0,\"ticks\":\"\"},\"colorscale\":[[0.0,\"#0d0887\"],[0.1111111111111111,\"#46039f\"],[0.2222222222222222,\"#7201a8\"],[0.3333333333333333,\"#9c179e\"],[0.4444444444444444,\"#bd3786\"],[0.5555555555555556,\"#d8576b\"],[0.6666666666666666,\"#ed7953\"],[0.7777777777777778,\"#fb9f3a\"],[0.8888888888888888,\"#fdca26\"],[1.0,\"#f0f921\"]]}],\"surface\":[{\"type\":\"surface\",\"colorbar\":{\"outlinewidth\":0,\"ticks\":\"\"},\"colorscale\":[[0.0,\"#0d0887\"],[0.1111111111111111,\"#46039f\"],[0.2222222222222222,\"#7201a8\"],[0.3333333333333333,\"#9c179e\"],[0.4444444444444444,\"#bd3786\"],[0.5555555555555556,\"#d8576b\"],[0.6666666666666666,\"#ed7953\"],[0.7777777777777778,\"#fb9f3a\"],[0.8888888888888888,\"#fdca26\"],[1.0,\"#f0f921\"]]}],\"mesh3d\":[{\"type\":\"mesh3d\",\"colorbar\":{\"outlinewidth\":0,\"ticks\":\"\"}}],\"scatter\":[{\"fillpattern\":{\"fillmode\":\"overlay\",\"size\":10,\"solidity\":0.2},\"type\":\"scatter\"}],\"parcoords\":[{\"type\":\"parcoords\",\"line\":{\"colorbar\":{\"outlinewidth\":0,\"ticks\":\"\"}}}],\"scatterpolargl\":[{\"type\":\"scatterpolargl\",\"marker\":{\"colorbar\":{\"outlinewidth\":0,\"ticks\":\"\"}}}],\"bar\":[{\"error_x\":{\"color\":\"#2a3f5f\"},\"error_y\":{\"color\":\"#2a3f5f\"},\"marker\":{\"line\":{\"color\":\"#E5ECF6\",\"width\":0.5},\"pattern\":{\"fillmode\":\"overlay\",\"size\":10,\"solidity\":0.2}},\"type\":\"bar\"}],\"scattergeo\":[{\"type\":\"scattergeo\",\"marker\":{\"colorbar\":{\"outlinewidth\":0,\"ticks\":\"\"}}}],\"scatterpolar\":[{\"type\":\"scatterpolar\",\"marker\":{\"colorbar\":{\"outlinewidth\":0,\"ticks\":\"\"}}}],\"histogram\":[{\"marker\":{\"pattern\":{\"fillmode\":\"overlay\",\"size\":10,\"solidity\":0.2}},\"type\":\"histogram\"}],\"scattergl\":[{\"type\":\"scattergl\",\"marker\":{\"colorbar\":{\"outlinewidth\":0,\"ticks\":\"\"}}}],\"scatter3d\":[{\"type\":\"scatter3d\",\"line\":{\"colorbar\":{\"outlinewidth\":0,\"ticks\":\"\"}},\"marker\":{\"colorbar\":{\"outlinewidth\":0,\"ticks\":\"\"}}}],\"scattermapbox\":[{\"type\":\"scattermapbox\",\"marker\":{\"colorbar\":{\"outlinewidth\":0,\"ticks\":\"\"}}}],\"scatterternary\":[{\"type\":\"scatterternary\",\"marker\":{\"colorbar\":{\"outlinewidth\":0,\"ticks\":\"\"}}}],\"scattercarpet\":[{\"type\":\"scattercarpet\",\"marker\":{\"colorbar\":{\"outlinewidth\":0,\"ticks\":\"\"}}}],\"carpet\":[{\"aaxis\":{\"endlinecolor\":\"#2a3f5f\",\"gridcolor\":\"white\",\"linecolor\":\"white\",\"minorgridcolor\":\"white\",\"startlinecolor\":\"#2a3f5f\"},\"baxis\":{\"endlinecolor\":\"#2a3f5f\",\"gridcolor\":\"white\",\"linecolor\":\"white\",\"minorgridcolor\":\"white\",\"startlinecolor\":\"#2a3f5f\"},\"type\":\"carpet\"}],\"table\":[{\"cells\":{\"fill\":{\"color\":\"#EBF0F8\"},\"line\":{\"color\":\"white\"}},\"header\":{\"fill\":{\"color\":\"#C8D4E3\"},\"line\":{\"color\":\"white\"}},\"type\":\"table\"}],\"barpolar\":[{\"marker\":{\"line\":{\"color\":\"#E5ECF6\",\"width\":0.5},\"pattern\":{\"fillmode\":\"overlay\",\"size\":10,\"solidity\":0.2}},\"type\":\"barpolar\"}],\"pie\":[{\"automargin\":true,\"type\":\"pie\"}]},\"layout\":{\"autotypenumbers\":\"strict\",\"colorway\":[\"#636efa\",\"#EF553B\",\"#00cc96\",\"#ab63fa\",\"#FFA15A\",\"#19d3f3\",\"#FF6692\",\"#B6E880\",\"#FF97FF\",\"#FECB52\"],\"font\":{\"color\":\"#2a3f5f\"},\"hovermode\":\"closest\",\"hoverlabel\":{\"align\":\"left\"},\"paper_bgcolor\":\"white\",\"plot_bgcolor\":\"#E5ECF6\",\"polar\":{\"bgcolor\":\"#E5ECF6\",\"angularaxis\":{\"gridcolor\":\"white\",\"linecolor\":\"white\",\"ticks\":\"\"},\"radialaxis\":{\"gridcolor\":\"white\",\"linecolor\":\"white\",\"ticks\":\"\"}},\"ternary\":{\"bgcolor\":\"#E5ECF6\",\"aaxis\":{\"gridcolor\":\"white\",\"linecolor\":\"white\",\"ticks\":\"\"},\"baxis\":{\"gridcolor\":\"white\",\"linecolor\":\"white\",\"ticks\":\"\"},\"caxis\":{\"gridcolor\":\"white\",\"linecolor\":\"white\",\"ticks\":\"\"}},\"coloraxis\":{\"colorbar\":{\"outlinewidth\":0,\"ticks\":\"\"}},\"colorscale\":{\"sequential\":[[0.0,\"#0d0887\"],[0.1111111111111111,\"#46039f\"],[0.2222222222222222,\"#7201a8\"],[0.3333333333333333,\"#9c179e\"],[0.4444444444444444,\"#bd3786\"],[0.5555555555555556,\"#d8576b\"],[0.6666666666666666,\"#ed7953\"],[0.7777777777777778,\"#fb9f3a\"],[0.8888888888888888,\"#fdca26\"],[1.0,\"#f0f921\"]],\"sequentialminus\":[[0.0,\"#0d0887\"],[0.1111111111111111,\"#46039f\"],[0.2222222222222222,\"#7201a8\"],[0.3333333333333333,\"#9c179e\"],[0.4444444444444444,\"#bd3786\"],[0.5555555555555556,\"#d8576b\"],[0.6666666666666666,\"#ed7953\"],[0.7777777777777778,\"#fb9f3a\"],[0.8888888888888888,\"#fdca26\"],[1.0,\"#f0f921\"]],\"diverging\":[[0,\"#8e0152\"],[0.1,\"#c51b7d\"],[0.2,\"#de77ae\"],[0.3,\"#f1b6da\"],[0.4,\"#fde0ef\"],[0.5,\"#f7f7f7\"],[0.6,\"#e6f5d0\"],[0.7,\"#b8e186\"],[0.8,\"#7fbc41\"],[0.9,\"#4d9221\"],[1,\"#276419\"]]},\"xaxis\":{\"gridcolor\":\"white\",\"linecolor\":\"white\",\"ticks\":\"\",\"title\":{\"standoff\":15},\"zerolinecolor\":\"white\",\"automargin\":true,\"zerolinewidth\":2},\"yaxis\":{\"gridcolor\":\"white\",\"linecolor\":\"white\",\"ticks\":\"\",\"title\":{\"standoff\":15},\"zerolinecolor\":\"white\",\"automargin\":true,\"zerolinewidth\":2},\"scene\":{\"xaxis\":{\"backgroundcolor\":\"#E5ECF6\",\"gridcolor\":\"white\",\"linecolor\":\"white\",\"showbackground\":true,\"ticks\":\"\",\"zerolinecolor\":\"white\",\"gridwidth\":2},\"yaxis\":{\"backgroundcolor\":\"#E5ECF6\",\"gridcolor\":\"white\",\"linecolor\":\"white\",\"showbackground\":true,\"ticks\":\"\",\"zerolinecolor\":\"white\",\"gridwidth\":2},\"zaxis\":{\"backgroundcolor\":\"#E5ECF6\",\"gridcolor\":\"white\",\"linecolor\":\"white\",\"showbackground\":true,\"ticks\":\"\",\"zerolinecolor\":\"white\",\"gridwidth\":2}},\"shapedefaults\":{\"line\":{\"color\":\"#2a3f5f\"}},\"annotationdefaults\":{\"arrowcolor\":\"#2a3f5f\",\"arrowhead\":0,\"arrowwidth\":1},\"geo\":{\"bgcolor\":\"white\",\"landcolor\":\"#E5ECF6\",\"subunitcolor\":\"white\",\"showland\":true,\"showlakes\":true,\"lakecolor\":\"white\"},\"title\":{\"x\":0.05},\"mapbox\":{\"style\":\"light\"}}}},                        {\"responsive\": true}                    ).then(function(){\n",
       "                            \n",
       "var gd = document.getElementById('9cb757fe-7aed-4be6-9cd4-df26c1a59d40');\n",
       "var x = new MutationObserver(function (mutations, observer) {{\n",
       "        var display = window.getComputedStyle(gd).display;\n",
       "        if (!display || display === 'none') {{\n",
       "            console.log([gd, 'removed!']);\n",
       "            Plotly.purge(gd);\n",
       "            observer.disconnect();\n",
       "        }}\n",
       "}});\n",
       "\n",
       "// Listen for the removal of the full notebook cells\n",
       "var notebookContainer = gd.closest('#notebook-container');\n",
       "if (notebookContainer) {{\n",
       "    x.observe(notebookContainer, {childList: true});\n",
       "}}\n",
       "\n",
       "// Listen for the clearing of the current output cell\n",
       "var outputEl = gd.closest('.output');\n",
       "if (outputEl) {{\n",
       "    x.observe(outputEl, {childList: true});\n",
       "}}\n",
       "\n",
       "                        })                };                });            </script>        </div>"
      ]
     },
     "metadata": {},
     "output_type": "display_data"
    }
   ],
   "source": [
    "plot_intermediate_values(study3)"
   ]
  },
  {
   "cell_type": "code",
   "execution_count": 12,
   "id": "25fd57fa",
   "metadata": {
    "execution": {
     "iopub.execute_input": "2023-03-10T17:23:41.415890Z",
     "iopub.status.busy": "2023-03-10T17:23:41.415534Z",
     "iopub.status.idle": "2023-03-10T17:23:41.945575Z",
     "shell.execute_reply": "2023-03-10T17:23:41.944596Z"
    },
    "papermill": {
     "duration": 0.542397,
     "end_time": "2023-03-10T17:23:41.948076",
     "exception": false,
     "start_time": "2023-03-10T17:23:41.405679",
     "status": "completed"
    },
    "tags": []
   },
   "outputs": [
    {
     "data": {
      "text/html": [
       "<div>                            <div id=\"f8734813-ea2e-4ae7-8ee8-2a4c3b29c391\" class=\"plotly-graph-div\" style=\"height:525px; width:100%;\"></div>            <script type=\"text/javascript\">                require([\"plotly\"], function(Plotly) {                    window.PLOTLYENV=window.PLOTLYENV || {};                                    if (document.getElementById(\"f8734813-ea2e-4ae7-8ee8-2a4c3b29c391\")) {                    Plotly.newPlot(                        \"f8734813-ea2e-4ae7-8ee8-2a4c3b29c391\",                        [{\"cliponaxis\":false,\"hovertemplate\":[\"lstm_units_L2 (IntDistribution): 0.03535540180313121<extra></extra>\",\"dropout_L1 (FloatDistribution): 0.07637033490346373<extra></extra>\",\"lstm_units_L1 (IntDistribution): 0.10130498142988024<extra></extra>\",\"dropout_L2 (FloatDistribution): 0.36911725502438414<extra></extra>\",\"learning_rate (FloatDistribution): 0.41785202683914074<extra></extra>\"],\"marker\":{\"color\":\"rgb(66,146,198)\"},\"orientation\":\"h\",\"text\":[\"0.04\",\"0.08\",\"0.10\",\"0.37\",\"0.42\"],\"textposition\":\"outside\",\"x\":[0.03535540180313121,0.07637033490346373,0.10130498142988024,0.36911725502438414,0.41785202683914074],\"y\":[\"lstm_units_L2\",\"dropout_L1\",\"lstm_units_L1\",\"dropout_L2\",\"learning_rate\"],\"type\":\"bar\"}],                        {\"showlegend\":false,\"title\":{\"text\":\"Hyperparameter Importances\"},\"xaxis\":{\"title\":{\"text\":\"Importance for Objective Value\"}},\"yaxis\":{\"title\":{\"text\":\"Hyperparameter\"}},\"template\":{\"data\":{\"histogram2dcontour\":[{\"type\":\"histogram2dcontour\",\"colorbar\":{\"outlinewidth\":0,\"ticks\":\"\"},\"colorscale\":[[0.0,\"#0d0887\"],[0.1111111111111111,\"#46039f\"],[0.2222222222222222,\"#7201a8\"],[0.3333333333333333,\"#9c179e\"],[0.4444444444444444,\"#bd3786\"],[0.5555555555555556,\"#d8576b\"],[0.6666666666666666,\"#ed7953\"],[0.7777777777777778,\"#fb9f3a\"],[0.8888888888888888,\"#fdca26\"],[1.0,\"#f0f921\"]]}],\"choropleth\":[{\"type\":\"choropleth\",\"colorbar\":{\"outlinewidth\":0,\"ticks\":\"\"}}],\"histogram2d\":[{\"type\":\"histogram2d\",\"colorbar\":{\"outlinewidth\":0,\"ticks\":\"\"},\"colorscale\":[[0.0,\"#0d0887\"],[0.1111111111111111,\"#46039f\"],[0.2222222222222222,\"#7201a8\"],[0.3333333333333333,\"#9c179e\"],[0.4444444444444444,\"#bd3786\"],[0.5555555555555556,\"#d8576b\"],[0.6666666666666666,\"#ed7953\"],[0.7777777777777778,\"#fb9f3a\"],[0.8888888888888888,\"#fdca26\"],[1.0,\"#f0f921\"]]}],\"heatmap\":[{\"type\":\"heatmap\",\"colorbar\":{\"outlinewidth\":0,\"ticks\":\"\"},\"colorscale\":[[0.0,\"#0d0887\"],[0.1111111111111111,\"#46039f\"],[0.2222222222222222,\"#7201a8\"],[0.3333333333333333,\"#9c179e\"],[0.4444444444444444,\"#bd3786\"],[0.5555555555555556,\"#d8576b\"],[0.6666666666666666,\"#ed7953\"],[0.7777777777777778,\"#fb9f3a\"],[0.8888888888888888,\"#fdca26\"],[1.0,\"#f0f921\"]]}],\"heatmapgl\":[{\"type\":\"heatmapgl\",\"colorbar\":{\"outlinewidth\":0,\"ticks\":\"\"},\"colorscale\":[[0.0,\"#0d0887\"],[0.1111111111111111,\"#46039f\"],[0.2222222222222222,\"#7201a8\"],[0.3333333333333333,\"#9c179e\"],[0.4444444444444444,\"#bd3786\"],[0.5555555555555556,\"#d8576b\"],[0.6666666666666666,\"#ed7953\"],[0.7777777777777778,\"#fb9f3a\"],[0.8888888888888888,\"#fdca26\"],[1.0,\"#f0f921\"]]}],\"contourcarpet\":[{\"type\":\"contourcarpet\",\"colorbar\":{\"outlinewidth\":0,\"ticks\":\"\"}}],\"contour\":[{\"type\":\"contour\",\"colorbar\":{\"outlinewidth\":0,\"ticks\":\"\"},\"colorscale\":[[0.0,\"#0d0887\"],[0.1111111111111111,\"#46039f\"],[0.2222222222222222,\"#7201a8\"],[0.3333333333333333,\"#9c179e\"],[0.4444444444444444,\"#bd3786\"],[0.5555555555555556,\"#d8576b\"],[0.6666666666666666,\"#ed7953\"],[0.7777777777777778,\"#fb9f3a\"],[0.8888888888888888,\"#fdca26\"],[1.0,\"#f0f921\"]]}],\"surface\":[{\"type\":\"surface\",\"colorbar\":{\"outlinewidth\":0,\"ticks\":\"\"},\"colorscale\":[[0.0,\"#0d0887\"],[0.1111111111111111,\"#46039f\"],[0.2222222222222222,\"#7201a8\"],[0.3333333333333333,\"#9c179e\"],[0.4444444444444444,\"#bd3786\"],[0.5555555555555556,\"#d8576b\"],[0.6666666666666666,\"#ed7953\"],[0.7777777777777778,\"#fb9f3a\"],[0.8888888888888888,\"#fdca26\"],[1.0,\"#f0f921\"]]}],\"mesh3d\":[{\"type\":\"mesh3d\",\"colorbar\":{\"outlinewidth\":0,\"ticks\":\"\"}}],\"scatter\":[{\"fillpattern\":{\"fillmode\":\"overlay\",\"size\":10,\"solidity\":0.2},\"type\":\"scatter\"}],\"parcoords\":[{\"type\":\"parcoords\",\"line\":{\"colorbar\":{\"outlinewidth\":0,\"ticks\":\"\"}}}],\"scatterpolargl\":[{\"type\":\"scatterpolargl\",\"marker\":{\"colorbar\":{\"outlinewidth\":0,\"ticks\":\"\"}}}],\"bar\":[{\"error_x\":{\"color\":\"#2a3f5f\"},\"error_y\":{\"color\":\"#2a3f5f\"},\"marker\":{\"line\":{\"color\":\"#E5ECF6\",\"width\":0.5},\"pattern\":{\"fillmode\":\"overlay\",\"size\":10,\"solidity\":0.2}},\"type\":\"bar\"}],\"scattergeo\":[{\"type\":\"scattergeo\",\"marker\":{\"colorbar\":{\"outlinewidth\":0,\"ticks\":\"\"}}}],\"scatterpolar\":[{\"type\":\"scatterpolar\",\"marker\":{\"colorbar\":{\"outlinewidth\":0,\"ticks\":\"\"}}}],\"histogram\":[{\"marker\":{\"pattern\":{\"fillmode\":\"overlay\",\"size\":10,\"solidity\":0.2}},\"type\":\"histogram\"}],\"scattergl\":[{\"type\":\"scattergl\",\"marker\":{\"colorbar\":{\"outlinewidth\":0,\"ticks\":\"\"}}}],\"scatter3d\":[{\"type\":\"scatter3d\",\"line\":{\"colorbar\":{\"outlinewidth\":0,\"ticks\":\"\"}},\"marker\":{\"colorbar\":{\"outlinewidth\":0,\"ticks\":\"\"}}}],\"scattermapbox\":[{\"type\":\"scattermapbox\",\"marker\":{\"colorbar\":{\"outlinewidth\":0,\"ticks\":\"\"}}}],\"scatterternary\":[{\"type\":\"scatterternary\",\"marker\":{\"colorbar\":{\"outlinewidth\":0,\"ticks\":\"\"}}}],\"scattercarpet\":[{\"type\":\"scattercarpet\",\"marker\":{\"colorbar\":{\"outlinewidth\":0,\"ticks\":\"\"}}}],\"carpet\":[{\"aaxis\":{\"endlinecolor\":\"#2a3f5f\",\"gridcolor\":\"white\",\"linecolor\":\"white\",\"minorgridcolor\":\"white\",\"startlinecolor\":\"#2a3f5f\"},\"baxis\":{\"endlinecolor\":\"#2a3f5f\",\"gridcolor\":\"white\",\"linecolor\":\"white\",\"minorgridcolor\":\"white\",\"startlinecolor\":\"#2a3f5f\"},\"type\":\"carpet\"}],\"table\":[{\"cells\":{\"fill\":{\"color\":\"#EBF0F8\"},\"line\":{\"color\":\"white\"}},\"header\":{\"fill\":{\"color\":\"#C8D4E3\"},\"line\":{\"color\":\"white\"}},\"type\":\"table\"}],\"barpolar\":[{\"marker\":{\"line\":{\"color\":\"#E5ECF6\",\"width\":0.5},\"pattern\":{\"fillmode\":\"overlay\",\"size\":10,\"solidity\":0.2}},\"type\":\"barpolar\"}],\"pie\":[{\"automargin\":true,\"type\":\"pie\"}]},\"layout\":{\"autotypenumbers\":\"strict\",\"colorway\":[\"#636efa\",\"#EF553B\",\"#00cc96\",\"#ab63fa\",\"#FFA15A\",\"#19d3f3\",\"#FF6692\",\"#B6E880\",\"#FF97FF\",\"#FECB52\"],\"font\":{\"color\":\"#2a3f5f\"},\"hovermode\":\"closest\",\"hoverlabel\":{\"align\":\"left\"},\"paper_bgcolor\":\"white\",\"plot_bgcolor\":\"#E5ECF6\",\"polar\":{\"bgcolor\":\"#E5ECF6\",\"angularaxis\":{\"gridcolor\":\"white\",\"linecolor\":\"white\",\"ticks\":\"\"},\"radialaxis\":{\"gridcolor\":\"white\",\"linecolor\":\"white\",\"ticks\":\"\"}},\"ternary\":{\"bgcolor\":\"#E5ECF6\",\"aaxis\":{\"gridcolor\":\"white\",\"linecolor\":\"white\",\"ticks\":\"\"},\"baxis\":{\"gridcolor\":\"white\",\"linecolor\":\"white\",\"ticks\":\"\"},\"caxis\":{\"gridcolor\":\"white\",\"linecolor\":\"white\",\"ticks\":\"\"}},\"coloraxis\":{\"colorbar\":{\"outlinewidth\":0,\"ticks\":\"\"}},\"colorscale\":{\"sequential\":[[0.0,\"#0d0887\"],[0.1111111111111111,\"#46039f\"],[0.2222222222222222,\"#7201a8\"],[0.3333333333333333,\"#9c179e\"],[0.4444444444444444,\"#bd3786\"],[0.5555555555555556,\"#d8576b\"],[0.6666666666666666,\"#ed7953\"],[0.7777777777777778,\"#fb9f3a\"],[0.8888888888888888,\"#fdca26\"],[1.0,\"#f0f921\"]],\"sequentialminus\":[[0.0,\"#0d0887\"],[0.1111111111111111,\"#46039f\"],[0.2222222222222222,\"#7201a8\"],[0.3333333333333333,\"#9c179e\"],[0.4444444444444444,\"#bd3786\"],[0.5555555555555556,\"#d8576b\"],[0.6666666666666666,\"#ed7953\"],[0.7777777777777778,\"#fb9f3a\"],[0.8888888888888888,\"#fdca26\"],[1.0,\"#f0f921\"]],\"diverging\":[[0,\"#8e0152\"],[0.1,\"#c51b7d\"],[0.2,\"#de77ae\"],[0.3,\"#f1b6da\"],[0.4,\"#fde0ef\"],[0.5,\"#f7f7f7\"],[0.6,\"#e6f5d0\"],[0.7,\"#b8e186\"],[0.8,\"#7fbc41\"],[0.9,\"#4d9221\"],[1,\"#276419\"]]},\"xaxis\":{\"gridcolor\":\"white\",\"linecolor\":\"white\",\"ticks\":\"\",\"title\":{\"standoff\":15},\"zerolinecolor\":\"white\",\"automargin\":true,\"zerolinewidth\":2},\"yaxis\":{\"gridcolor\":\"white\",\"linecolor\":\"white\",\"ticks\":\"\",\"title\":{\"standoff\":15},\"zerolinecolor\":\"white\",\"automargin\":true,\"zerolinewidth\":2},\"scene\":{\"xaxis\":{\"backgroundcolor\":\"#E5ECF6\",\"gridcolor\":\"white\",\"linecolor\":\"white\",\"showbackground\":true,\"ticks\":\"\",\"zerolinecolor\":\"white\",\"gridwidth\":2},\"yaxis\":{\"backgroundcolor\":\"#E5ECF6\",\"gridcolor\":\"white\",\"linecolor\":\"white\",\"showbackground\":true,\"ticks\":\"\",\"zerolinecolor\":\"white\",\"gridwidth\":2},\"zaxis\":{\"backgroundcolor\":\"#E5ECF6\",\"gridcolor\":\"white\",\"linecolor\":\"white\",\"showbackground\":true,\"ticks\":\"\",\"zerolinecolor\":\"white\",\"gridwidth\":2}},\"shapedefaults\":{\"line\":{\"color\":\"#2a3f5f\"}},\"annotationdefaults\":{\"arrowcolor\":\"#2a3f5f\",\"arrowhead\":0,\"arrowwidth\":1},\"geo\":{\"bgcolor\":\"white\",\"landcolor\":\"#E5ECF6\",\"subunitcolor\":\"white\",\"showland\":true,\"showlakes\":true,\"lakecolor\":\"white\"},\"title\":{\"x\":0.05},\"mapbox\":{\"style\":\"light\"}}}},                        {\"responsive\": true}                    ).then(function(){\n",
       "                            \n",
       "var gd = document.getElementById('f8734813-ea2e-4ae7-8ee8-2a4c3b29c391');\n",
       "var x = new MutationObserver(function (mutations, observer) {{\n",
       "        var display = window.getComputedStyle(gd).display;\n",
       "        if (!display || display === 'none') {{\n",
       "            console.log([gd, 'removed!']);\n",
       "            Plotly.purge(gd);\n",
       "            observer.disconnect();\n",
       "        }}\n",
       "}});\n",
       "\n",
       "// Listen for the removal of the full notebook cells\n",
       "var notebookContainer = gd.closest('#notebook-container');\n",
       "if (notebookContainer) {{\n",
       "    x.observe(notebookContainer, {childList: true});\n",
       "}}\n",
       "\n",
       "// Listen for the clearing of the current output cell\n",
       "var outputEl = gd.closest('.output');\n",
       "if (outputEl) {{\n",
       "    x.observe(outputEl, {childList: true});\n",
       "}}\n",
       "\n",
       "                        })                };                });            </script>        </div>"
      ]
     },
     "metadata": {},
     "output_type": "display_data"
    }
   ],
   "source": [
    "plot_param_importances(study3)"
   ]
  },
  {
   "cell_type": "code",
   "execution_count": 13,
   "id": "25803965",
   "metadata": {
    "execution": {
     "iopub.execute_input": "2023-03-10T17:23:41.967534Z",
     "iopub.status.busy": "2023-03-10T17:23:41.967185Z",
     "iopub.status.idle": "2023-03-10T17:23:41.974027Z",
     "shell.execute_reply": "2023-03-10T17:23:41.972957Z"
    },
    "papermill": {
     "duration": 0.019088,
     "end_time": "2023-03-10T17:23:41.976436",
     "exception": false,
     "start_time": "2023-03-10T17:23:41.957348",
     "status": "completed"
    },
    "tags": []
   },
   "outputs": [
    {
     "name": "stdout",
     "output_type": "stream",
     "text": [
      "Best trial:\n",
      "  Value:  0.7620049450471406\n",
      "  Params: \n",
      "    lstm_units_L1: 67\n",
      "    lstm_units_L2: 45\n",
      "    dropout_L1: 0.29141506109238857\n",
      "    dropout_L2: 0.16483203934860918\n",
      "    learning_rate: 0.004706561946370922\n"
     ]
    }
   ],
   "source": [
    "print(\"Best trial:\")\n",
    "trial = study3.best_trial\n",
    "\n",
    "print(\"  Value: \", trial.value)\n",
    "\n",
    "print(\"  Params: \")\n",
    "for key, value in trial.params.items():\n",
    "    print(\"    {}: {}\".format(key, value))"
   ]
  },
  {
   "cell_type": "markdown",
   "id": "ae8098fd",
   "metadata": {
    "papermill": {
     "duration": 0.008931,
     "end_time": "2023-03-10T17:23:41.994512",
     "exception": false,
     "start_time": "2023-03-10T17:23:41.985581",
     "status": "completed"
    },
    "tags": []
   },
   "source": [
    "## Bayesian Optimization (Time)"
   ]
  },
  {
   "cell_type": "code",
   "execution_count": 14,
   "id": "97ada65b",
   "metadata": {
    "execution": {
     "iopub.execute_input": "2023-03-10T17:23:42.016006Z",
     "iopub.status.busy": "2023-03-10T17:23:42.014043Z",
     "iopub.status.idle": "2023-03-10T17:23:42.022977Z",
     "shell.execute_reply": "2023-03-10T17:23:42.021961Z"
    },
    "papermill": {
     "duration": 0.021878,
     "end_time": "2023-03-10T17:23:42.025256",
     "exception": false,
     "start_time": "2023-03-10T17:23:42.003378",
     "status": "completed"
    },
    "tags": []
   },
   "outputs": [],
   "source": [
    "#Fungsi Objektif\n",
    "def objective_fun_time(trial):\n",
    "  model=create_model(trial)\n",
    "\n",
    "  start=time.time()\n",
    "  history=model.fit(teks_latih_pad,label_latih,epochs=25,batch_size=16,callbacks=[TFKerasPruningCallback(trial, \"val_loss\")],\n",
    "                    validation_data=(teks_validasi_pad,label_validasi),verbose=0)\n",
    "  end=time.time()\n",
    "\n",
    "  Label_pred=model.predict(teks_uji_pad)\n",
    "  label_pred=Label_pred.argmax(axis=1)\n",
    "  fscore=f1_score(label_uji, label_pred, average='macro')\n",
    "  duration=end-start\n",
    "  model.save('Bayesian Optimization (Time) Model-{}.h5'.format(trial.number))\n",
    "\n",
    "  print(\"F1-Score:\",fscore)\n",
    "  print(\"Duration:\",duration)\n",
    "\n",
    "  return duration"
   ]
  },
  {
   "cell_type": "code",
   "execution_count": 15,
   "id": "066a9174",
   "metadata": {
    "execution": {
     "iopub.execute_input": "2023-03-10T17:23:42.045169Z",
     "iopub.status.busy": "2023-03-10T17:23:42.044401Z",
     "iopub.status.idle": "2023-03-10T20:09:49.824467Z",
     "shell.execute_reply": "2023-03-10T20:09:49.823595Z"
    },
    "papermill": {
     "duration": 9967.810299,
     "end_time": "2023-03-10T20:09:49.844352",
     "exception": false,
     "start_time": "2023-03-10T17:23:42.034053",
     "status": "completed"
    },
    "tags": []
   },
   "outputs": [
    {
     "name": "stderr",
     "output_type": "stream",
     "text": [
      "\u001b[32m[I 2023-03-10 17:23:42,047]\u001b[0m A new study created in memory with name: BO (Time)\u001b[0m\n",
      "\u001b[32m[I 2023-03-10 17:29:55,683]\u001b[0m Trial 0 finished with value: 370.47402238845825 and parameters: {'lstm_units_L1': 42, 'lstm_units_L2': 35, 'dropout_L1': 0.42625460738629506, 'dropout_L2': 0.2530460629434462, 'learning_rate': 0.004795717006006546}. Best is trial 0 with value: 370.47402238845825.\u001b[0m\n"
     ]
    },
    {
     "name": "stdout",
     "output_type": "stream",
     "text": [
      "F1-Score: 0.7004723893145798\n",
      "Duration: 370.47402238845825\n"
     ]
    },
    {
     "name": "stderr",
     "output_type": "stream",
     "text": [
      "\u001b[32m[I 2023-03-10 17:37:01,556]\u001b[0m Trial 1 finished with value: 423.47449350357056 and parameters: {'lstm_units_L1': 126, 'lstm_units_L2': 35, 'dropout_L1': 0.3781147386565318, 'dropout_L2': 0.23296682508731742, 'learning_rate': 0.002464031926453974}. Best is trial 0 with value: 370.47402238845825.\u001b[0m\n"
     ]
    },
    {
     "name": "stdout",
     "output_type": "stream",
     "text": [
      "F1-Score: 0.646233486219876\n",
      "Duration: 423.47449350357056\n"
     ]
    },
    {
     "name": "stderr",
     "output_type": "stream",
     "text": [
      "\u001b[32m[I 2023-03-10 17:44:07,926]\u001b[0m Trial 2 finished with value: 422.67722392082214 and parameters: {'lstm_units_L1': 104, 'lstm_units_L2': 59, 'dropout_L1': 0.25348996854888994, 'dropout_L2': 0.17417736950318147, 'learning_rate': 0.0017157841436678946}. Best is trial 0 with value: 370.47402238845825.\u001b[0m\n"
     ]
    },
    {
     "name": "stdout",
     "output_type": "stream",
     "text": [
      "F1-Score: 0.6709057266168653\n",
      "Duration: 422.67722392082214\n"
     ]
    },
    {
     "name": "stderr",
     "output_type": "stream",
     "text": [
      "\u001b[32m[I 2023-03-10 17:50:56,962]\u001b[0m Trial 3 finished with value: 405.94931507110596 and parameters: {'lstm_units_L1': 157, 'lstm_units_L2': 43, 'dropout_L1': 0.03996730215600708, 'dropout_L2': 0.4920095136437518, 'learning_rate': 0.006752940230231584}. Best is trial 0 with value: 370.47402238845825.\u001b[0m\n"
     ]
    },
    {
     "name": "stdout",
     "output_type": "stream",
     "text": [
      "F1-Score: 0.6406813570609212\n",
      "Duration: 405.94931507110596\n"
     ]
    },
    {
     "name": "stderr",
     "output_type": "stream",
     "text": [
      "\u001b[32m[I 2023-03-10 17:57:10,033]\u001b[0m Trial 4 finished with value: 370.60150718688965 and parameters: {'lstm_units_L1': 33, 'lstm_units_L2': 21, 'dropout_L1': 0.25519640887278977, 'dropout_L2': 0.32077142166884687, 'learning_rate': 0.009479052000381759}. Best is trial 0 with value: 370.47402238845825.\u001b[0m\n"
     ]
    },
    {
     "name": "stdout",
     "output_type": "stream",
     "text": [
      "F1-Score: 0.7078486605909969\n",
      "Duration: 370.60150718688965\n"
     ]
    },
    {
     "name": "stderr",
     "output_type": "stream",
     "text": [
      "\u001b[32m[I 2023-03-10 18:03:25,202]\u001b[0m Trial 5 finished with value: 371.63946771621704 and parameters: {'lstm_units_L1': 63, 'lstm_units_L2': 21, 'dropout_L1': 0.31507046049762316, 'dropout_L2': 0.2813857301964924, 'learning_rate': 0.0074700524775879445}. Best is trial 0 with value: 370.47402238845825.\u001b[0m\n"
     ]
    },
    {
     "name": "stdout",
     "output_type": "stream",
     "text": [
      "F1-Score: 0.7772119258584299\n",
      "Duration: 371.63946771621704\n"
     ]
    },
    {
     "name": "stderr",
     "output_type": "stream",
     "text": [
      "\u001b[32m[I 2023-03-10 18:10:14,041]\u001b[0m Trial 6 finished with value: 405.5177352428436 and parameters: {'lstm_units_L1': 145, 'lstm_units_L2': 41, 'dropout_L1': 0.23992292713159352, 'dropout_L2': 0.46717826410881846, 'learning_rate': 0.00015554234111555466}. Best is trial 0 with value: 370.47402238845825.\u001b[0m\n"
     ]
    },
    {
     "name": "stdout",
     "output_type": "stream",
     "text": [
      "F1-Score: 0.5584782922472359\n",
      "Duration: 405.5177352428436\n"
     ]
    },
    {
     "name": "stderr",
     "output_type": "stream",
     "text": [
      "\u001b[32m[I 2023-03-10 18:16:25,176]\u001b[0m Trial 7 finished with value: 368.71571111679077 and parameters: {'lstm_units_L1': 36, 'lstm_units_L2': 23, 'dropout_L1': 0.30327656383462637, 'dropout_L2': 0.4658696979976995, 'learning_rate': 0.0015010539213144555}. Best is trial 7 with value: 368.71571111679077.\u001b[0m\n"
     ]
    },
    {
     "name": "stdout",
     "output_type": "stream",
     "text": [
      "F1-Score: 0.6875263133490982\n",
      "Duration: 368.71571111679077\n"
     ]
    },
    {
     "name": "stderr",
     "output_type": "stream",
     "text": [
      "\u001b[32m[I 2023-03-10 18:23:34,611]\u001b[0m Trial 8 finished with value: 425.8634684085846 and parameters: {'lstm_units_L1': 142, 'lstm_units_L2': 71, 'dropout_L1': 0.39450003110202675, 'dropout_L2': 0.08694178435588595, 'learning_rate': 0.004253038648547932}. Best is trial 7 with value: 368.71571111679077.\u001b[0m\n"
     ]
    },
    {
     "name": "stdout",
     "output_type": "stream",
     "text": [
      "F1-Score: 0.6867102569377099\n",
      "Duration: 425.8634684085846\n"
     ]
    },
    {
     "name": "stderr",
     "output_type": "stream",
     "text": [
      "\u001b[32m[I 2023-03-10 18:30:09,929]\u001b[0m Trial 9 finished with value: 392.93716621398926 and parameters: {'lstm_units_L1': 91, 'lstm_units_L2': 17, 'dropout_L1': 0.2386856208729728, 'dropout_L2': 0.0773347845829847, 'learning_rate': 0.006353256984433517}. Best is trial 7 with value: 368.71571111679077.\u001b[0m\n"
     ]
    },
    {
     "name": "stdout",
     "output_type": "stream",
     "text": [
      "F1-Score: 0.7264940146701312\n",
      "Duration: 392.93716621398926\n"
     ]
    },
    {
     "name": "stderr",
     "output_type": "stream",
     "text": [
      "\u001b[32m[I 2023-03-10 18:37:15,716]\u001b[0m Trial 10 finished with value: 422.17896795272827 and parameters: {'lstm_units_L1': 68, 'lstm_units_L2': 57, 'dropout_L1': 0.08168595665179049, 'dropout_L2': 0.3915862914559636, 'learning_rate': 9.329939915899365e-05}. Best is trial 7 with value: 368.71571111679077.\u001b[0m\n"
     ]
    },
    {
     "name": "stdout",
     "output_type": "stream",
     "text": [
      "F1-Score: 0.5610028328583287\n",
      "Duration: 422.17896795272827\n"
     ]
    },
    {
     "name": "stderr",
     "output_type": "stream",
     "text": [
      "\u001b[32m[I 2023-03-10 18:43:24,796]\u001b[0m Trial 11 finished with value: 365.8678209781647 and parameters: {'lstm_units_L1': 32, 'lstm_units_L2': 32, 'dropout_L1': 0.4887669892578789, 'dropout_L2': 0.37625736288214184, 'learning_rate': 0.0040714832591305285}. Best is trial 11 with value: 365.8678209781647.\u001b[0m\n"
     ]
    },
    {
     "name": "stdout",
     "output_type": "stream",
     "text": [
      "F1-Score: 0.7365565219345874\n",
      "Duration: 365.8678209781647\n"
     ]
    },
    {
     "name": "stderr",
     "output_type": "stream",
     "text": [
      "\u001b[32m[I 2023-03-10 18:49:39,072]\u001b[0m Trial 12 finished with value: 371.7192280292511 and parameters: {'lstm_units_L1': 53, 'lstm_units_L2': 30, 'dropout_L1': 0.4989576396514151, 'dropout_L2': 0.3931717009186437, 'learning_rate': 0.0029769520218039724}. Best is trial 11 with value: 365.8678209781647.\u001b[0m\n"
     ]
    },
    {
     "name": "stdout",
     "output_type": "stream",
     "text": [
      "F1-Score: 0.6893866454104837\n",
      "Duration: 371.7192280292511\n"
     ]
    },
    {
     "name": "stderr",
     "output_type": "stream",
     "text": [
      "\u001b[32m[I 2023-03-10 18:56:30,271]\u001b[0m Trial 13 finished with value: 407.5126223564148 and parameters: {'lstm_units_L1': 84, 'lstm_units_L2': 27, 'dropout_L1': 0.12889333723160415, 'dropout_L2': 0.39422189102464855, 'learning_rate': 0.004063816889320575}. Best is trial 11 with value: 365.8678209781647.\u001b[0m\n"
     ]
    },
    {
     "name": "stdout",
     "output_type": "stream",
     "text": [
      "F1-Score: 0.6669283221136463\n",
      "Duration: 407.5126223564148\n"
     ]
    },
    {
     "name": "stderr",
     "output_type": "stream",
     "text": [
      "\u001b[32m[I 2023-03-10 19:02:35,191]\u001b[0m Trial 14 finished with value: 362.5420253276825 and parameters: {'lstm_units_L1': 35, 'lstm_units_L2': 48, 'dropout_L1': 0.49445043972204883, 'dropout_L2': 0.44282311777744643, 'learning_rate': 0.0016492348874942958}. Best is trial 14 with value: 362.5420253276825.\u001b[0m\n"
     ]
    },
    {
     "name": "stdout",
     "output_type": "stream",
     "text": [
      "F1-Score: 0.635947275815247\n",
      "Duration: 362.5420253276825\n"
     ]
    },
    {
     "name": "stderr",
     "output_type": "stream",
     "text": [
      "\u001b[32m[I 2023-03-10 19:10:05,646]\u001b[0m Trial 15 finished with value: 446.8709411621094 and parameters: {'lstm_units_L1': 55, 'lstm_units_L2': 53, 'dropout_L1': 0.4543914379379333, 'dropout_L2': 0.3491133323694797, 'learning_rate': 0.0032297347674007464}. Best is trial 14 with value: 362.5420253276825.\u001b[0m\n"
     ]
    },
    {
     "name": "stdout",
     "output_type": "stream",
     "text": [
      "F1-Score: 0.6642384035349559\n",
      "Duration: 446.8709411621094\n"
     ]
    },
    {
     "name": "stderr",
     "output_type": "stream",
     "text": [
      "\u001b[32m[I 2023-03-10 19:17:35,235]\u001b[0m Trial 16 finished with value: 446.4223382472992 and parameters: {'lstm_units_L1': 76, 'lstm_units_L2': 68, 'dropout_L1': 0.4998934614454985, 'dropout_L2': 0.0030856745656068496, 'learning_rate': 0.006055241568848485}. Best is trial 14 with value: 362.5420253276825.\u001b[0m\n"
     ]
    },
    {
     "name": "stdout",
     "output_type": "stream",
     "text": [
      "F1-Score: 0.7783666152116702\n",
      "Duration: 446.4223382472992\n"
     ]
    },
    {
     "name": "stderr",
     "output_type": "stream",
     "text": [
      "\u001b[32m[I 2023-03-10 19:24:35,400]\u001b[0m Trial 17 finished with value: 417.70098400115967 and parameters: {'lstm_units_L1': 104, 'lstm_units_L2': 48, 'dropout_L1': 0.36299491402125594, 'dropout_L2': 0.4361245877047318, 'learning_rate': 0.0015357077018846297}. Best is trial 14 with value: 362.5420253276825.\u001b[0m\n"
     ]
    },
    {
     "name": "stdout",
     "output_type": "stream",
     "text": [
      "F1-Score: 0.6344327485380118\n",
      "Duration: 417.70098400115967\n"
     ]
    },
    {
     "name": "stderr",
     "output_type": "stream",
     "text": [
      "\u001b[32m[I 2023-03-10 19:31:47,915]\u001b[0m Trial 18 finished with value: 428.9208490848541 and parameters: {'lstm_units_L1': 50, 'lstm_units_L2': 77, 'dropout_L1': 0.17168843545307266, 'dropout_L2': 0.33668505818840555, 'learning_rate': 0.009310846560079983}. Best is trial 14 with value: 362.5420253276825.\u001b[0m\n"
     ]
    },
    {
     "name": "stdout",
     "output_type": "stream",
     "text": [
      "F1-Score: 0.7206446452098626\n",
      "Duration: 428.9208490848541\n"
     ]
    },
    {
     "name": "stderr",
     "output_type": "stream",
     "text": [
      "\u001b[32m[I 2023-03-10 19:38:05,051]\u001b[0m Trial 19 finished with value: 373.97844076156616 and parameters: {'lstm_units_L1': 33, 'lstm_units_L2': 42, 'dropout_L1': 0.45112702622298084, 'dropout_L2': 0.4226887239068904, 'learning_rate': 0.003833438896781295}. Best is trial 14 with value: 362.5420253276825.\u001b[0m\n"
     ]
    },
    {
     "name": "stdout",
     "output_type": "stream",
     "text": [
      "F1-Score: 0.6325140724299326\n",
      "Duration: 373.97844076156616\n"
     ]
    },
    {
     "name": "stderr",
     "output_type": "stream",
     "text": [
      "\u001b[32m[I 2023-03-10 19:45:05,371]\u001b[0m Trial 20 finished with value: 417.674684047699 and parameters: {'lstm_units_L1': 68, 'lstm_units_L2': 34, 'dropout_L1': 0.33808126501061064, 'dropout_L2': 0.1891643245615033, 'learning_rate': 0.005538693005564053}. Best is trial 14 with value: 362.5420253276825.\u001b[0m\n"
     ]
    },
    {
     "name": "stdout",
     "output_type": "stream",
     "text": [
      "F1-Score: 0.7048446405589264\n",
      "Duration: 417.674684047699\n"
     ]
    },
    {
     "name": "stderr",
     "output_type": "stream",
     "text": [
      "\u001b[32m[I 2023-03-10 19:51:19,231]\u001b[0m Trial 21 finished with value: 370.1279730796814 and parameters: {'lstm_units_L1': 43, 'lstm_units_L2': 25, 'dropout_L1': 0.3012621845605257, 'dropout_L2': 0.4665290232608098, 'learning_rate': 0.0012982375762046027}. Best is trial 14 with value: 362.5420253276825.\u001b[0m\n"
     ]
    },
    {
     "name": "stdout",
     "output_type": "stream",
     "text": [
      "F1-Score: 0.6522923040739991\n",
      "Duration: 370.1279730796814\n"
     ]
    },
    {
     "name": "stderr",
     "output_type": "stream",
     "text": [
      "\u001b[32m[I 2023-03-10 19:57:27,197]\u001b[0m Trial 22 finished with value: 364.654958486557 and parameters: {'lstm_units_L1': 35, 'lstm_units_L2': 16, 'dropout_L1': 0.4312873373847269, 'dropout_L2': 0.4426911729556327, 'learning_rate': 0.0023380104568624313}. Best is trial 14 with value: 362.5420253276825.\u001b[0m\n"
     ]
    },
    {
     "name": "stdout",
     "output_type": "stream",
     "text": [
      "F1-Score: 0.6274607557396329\n",
      "Duration: 364.654958486557\n"
     ]
    },
    {
     "name": "stderr",
     "output_type": "stream",
     "text": [
      "\u001b[32m[I 2023-03-10 20:03:37,062]\u001b[0m Trial 23 finished with value: 366.99341464042664 and parameters: {'lstm_units_L1': 46, 'lstm_units_L2': 16, 'dropout_L1': 0.42555363423001524, 'dropout_L2': 0.3648775943247589, 'learning_rate': 0.002642267569815532}. Best is trial 14 with value: 362.5420253276825.\u001b[0m\n"
     ]
    },
    {
     "name": "stdout",
     "output_type": "stream",
     "text": [
      "F1-Score: 0.6244105071034255\n",
      "Duration: 366.99341464042664\n"
     ]
    },
    {
     "name": "stderr",
     "output_type": "stream",
     "text": [
      "\u001b[32m[I 2023-03-10 20:09:49,814]\u001b[0m Trial 24 finished with value: 369.1022710800171 and parameters: {'lstm_units_L1': 61, 'lstm_units_L2': 31, 'dropout_L1': 0.4692814340462357, 'dropout_L2': 0.30077303768549535, 'learning_rate': 0.0008680980439254513}. Best is trial 14 with value: 362.5420253276825.\u001b[0m\n"
     ]
    },
    {
     "name": "stdout",
     "output_type": "stream",
     "text": [
      "F1-Score: 0.5633042924383406\n",
      "Duration: 369.1022710800171\n"
     ]
    }
   ],
   "source": [
    "study4=optuna.create_study(study_name=\"BO (Time)\",\n",
    "                          direction=\"minimize\", \n",
    "                          sampler=optuna.samplers.TPESampler(), \n",
    "                          pruner=optuna.pruners.NopPruner())\n",
    "study4.optimize(objective_fun_time,n_trials=25)"
   ]
  },
  {
   "cell_type": "code",
   "execution_count": 16,
   "id": "5d65d7ab",
   "metadata": {
    "execution": {
     "iopub.execute_input": "2023-03-10T20:09:49.894350Z",
     "iopub.status.busy": "2023-03-10T20:09:49.893899Z",
     "iopub.status.idle": "2023-03-10T20:09:49.921345Z",
     "shell.execute_reply": "2023-03-10T20:09:49.920340Z"
    },
    "papermill": {
     "duration": 0.061069,
     "end_time": "2023-03-10T20:09:49.924215",
     "exception": false,
     "start_time": "2023-03-10T20:09:49.863146",
     "status": "completed"
    },
    "tags": []
   },
   "outputs": [
    {
     "data": {
      "text/html": [
       "<div>                            <div id=\"b9b08642-0963-4ac9-9389-f94e5ee8c6fc\" class=\"plotly-graph-div\" style=\"height:525px; width:100%;\"></div>            <script type=\"text/javascript\">                require([\"plotly\"], function(Plotly) {                    window.PLOTLYENV=window.PLOTLYENV || {};                                    if (document.getElementById(\"b9b08642-0963-4ac9-9389-f94e5ee8c6fc\")) {                    Plotly.newPlot(                        \"b9b08642-0963-4ac9-9389-f94e5ee8c6fc\",                        [{\"mode\":\"markers\",\"name\":\"Objective Value\",\"x\":[0,1,2,3,4,5,6,7,8,9,10,11,12,13,14,15,16,17,18,19,20,21,22,23,24],\"y\":[370.47402238845825,423.47449350357056,422.67722392082214,405.94931507110596,370.60150718688965,371.63946771621704,405.5177352428436,368.71571111679077,425.8634684085846,392.93716621398926,422.17896795272827,365.8678209781647,371.7192280292511,407.5126223564148,362.5420253276825,446.8709411621094,446.4223382472992,417.70098400115967,428.9208490848541,373.97844076156616,417.674684047699,370.1279730796814,364.654958486557,366.99341464042664,369.1022710800171],\"type\":\"scatter\"},{\"name\":\"Best Value\",\"x\":[0,1,2,3,4,5,6,7,8,9,10,11,12,13,14,15,16,17,18,19,20,21,22,23,24],\"y\":[370.47402238845825,370.47402238845825,370.47402238845825,370.47402238845825,370.47402238845825,370.47402238845825,370.47402238845825,368.71571111679077,368.71571111679077,368.71571111679077,368.71571111679077,365.8678209781647,365.8678209781647,365.8678209781647,362.5420253276825,362.5420253276825,362.5420253276825,362.5420253276825,362.5420253276825,362.5420253276825,362.5420253276825,362.5420253276825,362.5420253276825,362.5420253276825,362.5420253276825],\"type\":\"scatter\"}],                        {\"title\":{\"text\":\"Optimization History Plot\"},\"xaxis\":{\"title\":{\"text\":\"Trial\"}},\"yaxis\":{\"title\":{\"text\":\"Objective Value\"}},\"template\":{\"data\":{\"histogram2dcontour\":[{\"type\":\"histogram2dcontour\",\"colorbar\":{\"outlinewidth\":0,\"ticks\":\"\"},\"colorscale\":[[0.0,\"#0d0887\"],[0.1111111111111111,\"#46039f\"],[0.2222222222222222,\"#7201a8\"],[0.3333333333333333,\"#9c179e\"],[0.4444444444444444,\"#bd3786\"],[0.5555555555555556,\"#d8576b\"],[0.6666666666666666,\"#ed7953\"],[0.7777777777777778,\"#fb9f3a\"],[0.8888888888888888,\"#fdca26\"],[1.0,\"#f0f921\"]]}],\"choropleth\":[{\"type\":\"choropleth\",\"colorbar\":{\"outlinewidth\":0,\"ticks\":\"\"}}],\"histogram2d\":[{\"type\":\"histogram2d\",\"colorbar\":{\"outlinewidth\":0,\"ticks\":\"\"},\"colorscale\":[[0.0,\"#0d0887\"],[0.1111111111111111,\"#46039f\"],[0.2222222222222222,\"#7201a8\"],[0.3333333333333333,\"#9c179e\"],[0.4444444444444444,\"#bd3786\"],[0.5555555555555556,\"#d8576b\"],[0.6666666666666666,\"#ed7953\"],[0.7777777777777778,\"#fb9f3a\"],[0.8888888888888888,\"#fdca26\"],[1.0,\"#f0f921\"]]}],\"heatmap\":[{\"type\":\"heatmap\",\"colorbar\":{\"outlinewidth\":0,\"ticks\":\"\"},\"colorscale\":[[0.0,\"#0d0887\"],[0.1111111111111111,\"#46039f\"],[0.2222222222222222,\"#7201a8\"],[0.3333333333333333,\"#9c179e\"],[0.4444444444444444,\"#bd3786\"],[0.5555555555555556,\"#d8576b\"],[0.6666666666666666,\"#ed7953\"],[0.7777777777777778,\"#fb9f3a\"],[0.8888888888888888,\"#fdca26\"],[1.0,\"#f0f921\"]]}],\"heatmapgl\":[{\"type\":\"heatmapgl\",\"colorbar\":{\"outlinewidth\":0,\"ticks\":\"\"},\"colorscale\":[[0.0,\"#0d0887\"],[0.1111111111111111,\"#46039f\"],[0.2222222222222222,\"#7201a8\"],[0.3333333333333333,\"#9c179e\"],[0.4444444444444444,\"#bd3786\"],[0.5555555555555556,\"#d8576b\"],[0.6666666666666666,\"#ed7953\"],[0.7777777777777778,\"#fb9f3a\"],[0.8888888888888888,\"#fdca26\"],[1.0,\"#f0f921\"]]}],\"contourcarpet\":[{\"type\":\"contourcarpet\",\"colorbar\":{\"outlinewidth\":0,\"ticks\":\"\"}}],\"contour\":[{\"type\":\"contour\",\"colorbar\":{\"outlinewidth\":0,\"ticks\":\"\"},\"colorscale\":[[0.0,\"#0d0887\"],[0.1111111111111111,\"#46039f\"],[0.2222222222222222,\"#7201a8\"],[0.3333333333333333,\"#9c179e\"],[0.4444444444444444,\"#bd3786\"],[0.5555555555555556,\"#d8576b\"],[0.6666666666666666,\"#ed7953\"],[0.7777777777777778,\"#fb9f3a\"],[0.8888888888888888,\"#fdca26\"],[1.0,\"#f0f921\"]]}],\"surface\":[{\"type\":\"surface\",\"colorbar\":{\"outlinewidth\":0,\"ticks\":\"\"},\"colorscale\":[[0.0,\"#0d0887\"],[0.1111111111111111,\"#46039f\"],[0.2222222222222222,\"#7201a8\"],[0.3333333333333333,\"#9c179e\"],[0.4444444444444444,\"#bd3786\"],[0.5555555555555556,\"#d8576b\"],[0.6666666666666666,\"#ed7953\"],[0.7777777777777778,\"#fb9f3a\"],[0.8888888888888888,\"#fdca26\"],[1.0,\"#f0f921\"]]}],\"mesh3d\":[{\"type\":\"mesh3d\",\"colorbar\":{\"outlinewidth\":0,\"ticks\":\"\"}}],\"scatter\":[{\"fillpattern\":{\"fillmode\":\"overlay\",\"size\":10,\"solidity\":0.2},\"type\":\"scatter\"}],\"parcoords\":[{\"type\":\"parcoords\",\"line\":{\"colorbar\":{\"outlinewidth\":0,\"ticks\":\"\"}}}],\"scatterpolargl\":[{\"type\":\"scatterpolargl\",\"marker\":{\"colorbar\":{\"outlinewidth\":0,\"ticks\":\"\"}}}],\"bar\":[{\"error_x\":{\"color\":\"#2a3f5f\"},\"error_y\":{\"color\":\"#2a3f5f\"},\"marker\":{\"line\":{\"color\":\"#E5ECF6\",\"width\":0.5},\"pattern\":{\"fillmode\":\"overlay\",\"size\":10,\"solidity\":0.2}},\"type\":\"bar\"}],\"scattergeo\":[{\"type\":\"scattergeo\",\"marker\":{\"colorbar\":{\"outlinewidth\":0,\"ticks\":\"\"}}}],\"scatterpolar\":[{\"type\":\"scatterpolar\",\"marker\":{\"colorbar\":{\"outlinewidth\":0,\"ticks\":\"\"}}}],\"histogram\":[{\"marker\":{\"pattern\":{\"fillmode\":\"overlay\",\"size\":10,\"solidity\":0.2}},\"type\":\"histogram\"}],\"scattergl\":[{\"type\":\"scattergl\",\"marker\":{\"colorbar\":{\"outlinewidth\":0,\"ticks\":\"\"}}}],\"scatter3d\":[{\"type\":\"scatter3d\",\"line\":{\"colorbar\":{\"outlinewidth\":0,\"ticks\":\"\"}},\"marker\":{\"colorbar\":{\"outlinewidth\":0,\"ticks\":\"\"}}}],\"scattermapbox\":[{\"type\":\"scattermapbox\",\"marker\":{\"colorbar\":{\"outlinewidth\":0,\"ticks\":\"\"}}}],\"scatterternary\":[{\"type\":\"scatterternary\",\"marker\":{\"colorbar\":{\"outlinewidth\":0,\"ticks\":\"\"}}}],\"scattercarpet\":[{\"type\":\"scattercarpet\",\"marker\":{\"colorbar\":{\"outlinewidth\":0,\"ticks\":\"\"}}}],\"carpet\":[{\"aaxis\":{\"endlinecolor\":\"#2a3f5f\",\"gridcolor\":\"white\",\"linecolor\":\"white\",\"minorgridcolor\":\"white\",\"startlinecolor\":\"#2a3f5f\"},\"baxis\":{\"endlinecolor\":\"#2a3f5f\",\"gridcolor\":\"white\",\"linecolor\":\"white\",\"minorgridcolor\":\"white\",\"startlinecolor\":\"#2a3f5f\"},\"type\":\"carpet\"}],\"table\":[{\"cells\":{\"fill\":{\"color\":\"#EBF0F8\"},\"line\":{\"color\":\"white\"}},\"header\":{\"fill\":{\"color\":\"#C8D4E3\"},\"line\":{\"color\":\"white\"}},\"type\":\"table\"}],\"barpolar\":[{\"marker\":{\"line\":{\"color\":\"#E5ECF6\",\"width\":0.5},\"pattern\":{\"fillmode\":\"overlay\",\"size\":10,\"solidity\":0.2}},\"type\":\"barpolar\"}],\"pie\":[{\"automargin\":true,\"type\":\"pie\"}]},\"layout\":{\"autotypenumbers\":\"strict\",\"colorway\":[\"#636efa\",\"#EF553B\",\"#00cc96\",\"#ab63fa\",\"#FFA15A\",\"#19d3f3\",\"#FF6692\",\"#B6E880\",\"#FF97FF\",\"#FECB52\"],\"font\":{\"color\":\"#2a3f5f\"},\"hovermode\":\"closest\",\"hoverlabel\":{\"align\":\"left\"},\"paper_bgcolor\":\"white\",\"plot_bgcolor\":\"#E5ECF6\",\"polar\":{\"bgcolor\":\"#E5ECF6\",\"angularaxis\":{\"gridcolor\":\"white\",\"linecolor\":\"white\",\"ticks\":\"\"},\"radialaxis\":{\"gridcolor\":\"white\",\"linecolor\":\"white\",\"ticks\":\"\"}},\"ternary\":{\"bgcolor\":\"#E5ECF6\",\"aaxis\":{\"gridcolor\":\"white\",\"linecolor\":\"white\",\"ticks\":\"\"},\"baxis\":{\"gridcolor\":\"white\",\"linecolor\":\"white\",\"ticks\":\"\"},\"caxis\":{\"gridcolor\":\"white\",\"linecolor\":\"white\",\"ticks\":\"\"}},\"coloraxis\":{\"colorbar\":{\"outlinewidth\":0,\"ticks\":\"\"}},\"colorscale\":{\"sequential\":[[0.0,\"#0d0887\"],[0.1111111111111111,\"#46039f\"],[0.2222222222222222,\"#7201a8\"],[0.3333333333333333,\"#9c179e\"],[0.4444444444444444,\"#bd3786\"],[0.5555555555555556,\"#d8576b\"],[0.6666666666666666,\"#ed7953\"],[0.7777777777777778,\"#fb9f3a\"],[0.8888888888888888,\"#fdca26\"],[1.0,\"#f0f921\"]],\"sequentialminus\":[[0.0,\"#0d0887\"],[0.1111111111111111,\"#46039f\"],[0.2222222222222222,\"#7201a8\"],[0.3333333333333333,\"#9c179e\"],[0.4444444444444444,\"#bd3786\"],[0.5555555555555556,\"#d8576b\"],[0.6666666666666666,\"#ed7953\"],[0.7777777777777778,\"#fb9f3a\"],[0.8888888888888888,\"#fdca26\"],[1.0,\"#f0f921\"]],\"diverging\":[[0,\"#8e0152\"],[0.1,\"#c51b7d\"],[0.2,\"#de77ae\"],[0.3,\"#f1b6da\"],[0.4,\"#fde0ef\"],[0.5,\"#f7f7f7\"],[0.6,\"#e6f5d0\"],[0.7,\"#b8e186\"],[0.8,\"#7fbc41\"],[0.9,\"#4d9221\"],[1,\"#276419\"]]},\"xaxis\":{\"gridcolor\":\"white\",\"linecolor\":\"white\",\"ticks\":\"\",\"title\":{\"standoff\":15},\"zerolinecolor\":\"white\",\"automargin\":true,\"zerolinewidth\":2},\"yaxis\":{\"gridcolor\":\"white\",\"linecolor\":\"white\",\"ticks\":\"\",\"title\":{\"standoff\":15},\"zerolinecolor\":\"white\",\"automargin\":true,\"zerolinewidth\":2},\"scene\":{\"xaxis\":{\"backgroundcolor\":\"#E5ECF6\",\"gridcolor\":\"white\",\"linecolor\":\"white\",\"showbackground\":true,\"ticks\":\"\",\"zerolinecolor\":\"white\",\"gridwidth\":2},\"yaxis\":{\"backgroundcolor\":\"#E5ECF6\",\"gridcolor\":\"white\",\"linecolor\":\"white\",\"showbackground\":true,\"ticks\":\"\",\"zerolinecolor\":\"white\",\"gridwidth\":2},\"zaxis\":{\"backgroundcolor\":\"#E5ECF6\",\"gridcolor\":\"white\",\"linecolor\":\"white\",\"showbackground\":true,\"ticks\":\"\",\"zerolinecolor\":\"white\",\"gridwidth\":2}},\"shapedefaults\":{\"line\":{\"color\":\"#2a3f5f\"}},\"annotationdefaults\":{\"arrowcolor\":\"#2a3f5f\",\"arrowhead\":0,\"arrowwidth\":1},\"geo\":{\"bgcolor\":\"white\",\"landcolor\":\"#E5ECF6\",\"subunitcolor\":\"white\",\"showland\":true,\"showlakes\":true,\"lakecolor\":\"white\"},\"title\":{\"x\":0.05},\"mapbox\":{\"style\":\"light\"}}}},                        {\"responsive\": true}                    ).then(function(){\n",
       "                            \n",
       "var gd = document.getElementById('b9b08642-0963-4ac9-9389-f94e5ee8c6fc');\n",
       "var x = new MutationObserver(function (mutations, observer) {{\n",
       "        var display = window.getComputedStyle(gd).display;\n",
       "        if (!display || display === 'none') {{\n",
       "            console.log([gd, 'removed!']);\n",
       "            Plotly.purge(gd);\n",
       "            observer.disconnect();\n",
       "        }}\n",
       "}});\n",
       "\n",
       "// Listen for the removal of the full notebook cells\n",
       "var notebookContainer = gd.closest('#notebook-container');\n",
       "if (notebookContainer) {{\n",
       "    x.observe(notebookContainer, {childList: true});\n",
       "}}\n",
       "\n",
       "// Listen for the clearing of the current output cell\n",
       "var outputEl = gd.closest('.output');\n",
       "if (outputEl) {{\n",
       "    x.observe(outputEl, {childList: true});\n",
       "}}\n",
       "\n",
       "                        })                };                });            </script>        </div>"
      ]
     },
     "metadata": {},
     "output_type": "display_data"
    }
   ],
   "source": [
    "plot_optimization_history(study4)"
   ]
  },
  {
   "cell_type": "code",
   "execution_count": 17,
   "id": "557786ff",
   "metadata": {
    "execution": {
     "iopub.execute_input": "2023-03-10T20:09:49.962763Z",
     "iopub.status.busy": "2023-03-10T20:09:49.962333Z",
     "iopub.status.idle": "2023-03-10T20:09:50.013192Z",
     "shell.execute_reply": "2023-03-10T20:09:50.012203Z"
    },
    "papermill": {
     "duration": 0.073277,
     "end_time": "2023-03-10T20:09:50.016235",
     "exception": false,
     "start_time": "2023-03-10T20:09:49.942958",
     "status": "completed"
    },
    "tags": []
   },
   "outputs": [
    {
     "data": {
      "text/html": [
       "<div>                            <div id=\"555ea396-d3e2-4f90-b558-3b9b0e99a8d7\" class=\"plotly-graph-div\" style=\"height:525px; width:100%;\"></div>            <script type=\"text/javascript\">                require([\"plotly\"], function(Plotly) {                    window.PLOTLYENV=window.PLOTLYENV || {};                                    if (document.getElementById(\"555ea396-d3e2-4f90-b558-3b9b0e99a8d7\")) {                    Plotly.newPlot(                        \"555ea396-d3e2-4f90-b558-3b9b0e99a8d7\",                        [{\"marker\":{\"maxdisplayed\":10},\"mode\":\"lines+markers\",\"name\":\"Trial0\",\"x\":[0,1,2,3,4,5,6,7,8,9,10,11,12,13,14,15,16,17,18,19,20,21,22,23,24],\"y\":[0.5594576001167297,0.4911300539970398,0.44294360280036926,0.4352142810821533,0.42013248801231384,0.38003164529800415,0.43442052602767944,0.4511094391345978,0.4679475724697113,0.5364527702331543,0.5205228924751282,0.5346956253051758,0.6187078356742859,0.518355667591095,0.713145911693573,0.6030451655387878,0.7065812349319458,0.7872599363327026,0.6495155096054077,0.746813178062439,0.7292968034744263,0.7164801955223083,0.7698171138763428,0.7414891123771667,0.8207356929779053],\"type\":\"scatter\"},{\"marker\":{\"maxdisplayed\":10},\"mode\":\"lines+markers\",\"name\":\"Trial1\",\"x\":[0,1,2,3,4,5,6,7,8,9,10,11,12,13,14,15,16,17,18,19,20,21,22,23,24],\"y\":[0.5847872495651245,0.5029719471931458,0.47331011295318604,0.5256079435348511,0.4384850263595581,0.46242308616638184,0.4322811961174011,0.43534132838249207,0.43964818120002747,0.5838693976402283,0.4689400792121887,0.5441455841064453,0.5184957981109619,0.6098227500915527,0.615260124206543,0.6291943788528442,0.6386443376541138,0.6727889776229858,0.6628629565238953,0.7597574591636658,0.7630038857460022,0.7135390639305115,0.7647696137428284,0.7580012083053589,0.8335340023040771],\"type\":\"scatter\"},{\"marker\":{\"maxdisplayed\":10},\"mode\":\"lines+markers\",\"name\":\"Trial2\",\"x\":[0,1,2,3,4,5,6,7,8,9,10,11,12,13,14,15,16,17,18,19,20,21,22,23,24],\"y\":[0.538149893283844,0.5068876147270203,0.4595944285392761,0.45864951610565186,0.4571235775947571,0.43854501843452454,0.4590219259262085,0.4544641375541687,0.4561992287635803,0.48913782835006714,0.49625158309936523,0.47814491391181946,0.5836705565452576,0.5849127173423767,0.620936393737793,0.5852448344230652,0.7731013894081116,0.6661780476570129,0.6461025476455688,0.7008119821548462,0.7535615563392639,0.7899292707443237,0.7758310437202454,0.7072936296463013,0.9492807388305664],\"type\":\"scatter\"},{\"marker\":{\"maxdisplayed\":10},\"mode\":\"lines+markers\",\"name\":\"Trial3\",\"x\":[0,1,2,3,4,5,6,7,8,9,10,11,12,13,14,15,16,17,18,19,20,21,22,23,24],\"y\":[0.6760348081588745,0.6430122256278992,0.5878304839134216,0.532435417175293,0.4646947979927063,0.44666820764541626,0.43645286560058594,0.4705272912979126,0.4634363055229187,0.6070104241371155,0.5611202716827393,0.5449779033660889,0.5700697898864746,0.7515161633491516,0.8009875416755676,0.7212690114974976,0.9171009063720703,0.9224813580513,0.7222377061843872,1.0748858451843262,0.8644605875015259,0.9953346848487854,0.8945907354354858,1.022702932357788,0.9122315645217896],\"type\":\"scatter\"},{\"marker\":{\"maxdisplayed\":10},\"mode\":\"lines+markers\",\"name\":\"Trial4\",\"x\":[0,1,2,3,4,5,6,7,8,9,10,11,12,13,14,15,16,17,18,19,20,21,22,23,24],\"y\":[0.6033174395561218,0.49663498997688293,0.4433191120624542,0.4285382926464081,0.47291913628578186,0.48099756240844727,0.5500050783157349,0.509037971496582,0.4475019574165344,0.6022641658782959,0.6795883178710938,0.6229018568992615,0.6459139585494995,0.8653563261032104,0.6548197865486145,0.6637025475502014,0.9019767642021179,0.8098993301391602,0.8740411400794983,0.8949329257011414,0.8158637285232544,1.0083016157150269,0.7193817496299744,0.9307289719581604,0.8580768704414368],\"type\":\"scatter\"},{\"marker\":{\"maxdisplayed\":10},\"mode\":\"lines+markers\",\"name\":\"Trial5\",\"x\":[0,1,2,3,4,5,6,7,8,9,10,11,12,13,14,15,16,17,18,19,20,21,22,23,24],\"y\":[0.5500312447547913,0.4530748128890991,0.40913406014442444,0.4127331078052521,0.3933980464935303,0.3673154413700104,0.43634721636772156,0.49530255794525146,0.49463602900505066,0.6016378402709961,0.5532230734825134,0.4818445146083832,0.5467320084571838,0.7505260109901428,0.5790525674819946,0.4580722749233246,0.7392514944076538,0.6671847105026245,0.5546282529830933,0.5683268904685974,0.7285128831863403,0.7118269801139832,0.5765773057937622,0.6752559542655945,0.8353003859519958],\"type\":\"scatter\"},{\"marker\":{\"maxdisplayed\":10},\"mode\":\"lines+markers\",\"name\":\"Trial6\",\"x\":[0,1,2,3,4,5,6,7,8,9,10,11,12,13,14,15,16,17,18,19,20,21,22,23,24],\"y\":[0.6631040573120117,0.6052189469337463,0.5548099279403687,0.545306384563446,0.4910733699798584,0.47784408926963806,0.5178388357162476,0.4723145067691803,0.4910021126270294,0.48587456345558167,0.48996224999427795,0.4876062870025635,0.48135825991630554,0.4699667692184448,0.47653400897979736,0.4739854037761688,0.5147776007652283,0.4873514473438263,0.5070984959602356,0.49167925119400024,0.5104710459709167,0.5032621622085571,0.4807716906070709,0.5200387835502625,0.5145372748374939],\"type\":\"scatter\"},{\"marker\":{\"maxdisplayed\":10},\"mode\":\"lines+markers\",\"name\":\"Trial7\",\"x\":[0,1,2,3,4,5,6,7,8,9,10,11,12,13,14,15,16,17,18,19,20,21,22,23,24],\"y\":[0.6138877272605896,0.5457442998886108,0.51799076795578,0.5186427235603333,0.520334005355835,0.4964756667613983,0.4995279908180237,0.5335591435432434,0.5132484436035156,0.5440539121627808,0.5627431273460388,0.5792372822761536,0.5260673761367798,0.5321581959724426,0.5628252029418945,0.5796902775764465,0.611668586730957,0.5962802767753601,0.5975781083106995,0.6642451286315918,0.6254620552062988,0.5669324994087219,0.7611126899719238,0.7075424790382385,0.6238300800323486],\"type\":\"scatter\"},{\"marker\":{\"maxdisplayed\":10},\"mode\":\"lines+markers\",\"name\":\"Trial8\",\"x\":[0,1,2,3,4,5,6,7,8,9,10,11,12,13,14,15,16,17,18,19,20,21,22,23,24],\"y\":[0.7021514773368835,0.6218002438545227,0.7064580917358398,0.5899779200553894,0.5490760207176208,0.5852887630462646,0.4977805018424988,0.46436887979507446,0.4531382620334625,0.4649573564529419,0.47757688164711,0.4735881984233856,0.5961777567863464,0.6092126965522766,0.6192147135734558,0.6781057119369507,0.6937996745109558,0.6767063736915588,0.801936149597168,0.7953969836235046,0.7585644721984863,0.8477333784103394,0.8044115304946899,0.7427399158477783,0.7960622310638428],\"type\":\"scatter\"},{\"marker\":{\"maxdisplayed\":10},\"mode\":\"lines+markers\",\"name\":\"Trial9\",\"x\":[0,1,2,3,4,5,6,7,8,9,10,11,12,13,14,15,16,17,18,19,20,21,22,23,24],\"y\":[0.6185337901115417,0.49519094824790955,0.425304651260376,0.45085614919662476,0.39721354842185974,0.39598920941352844,0.40667423605918884,0.4299001097679138,0.48776718974113464,0.5476747155189514,0.5446142554283142,0.52879399061203,0.704916775226593,0.6451200246810913,0.5990464687347412,0.664840042591095,0.6567088961601257,0.7444583177566528,0.6740034818649292,0.6493316888809204,0.7101731896400452,0.771275520324707,0.6888677477836609,0.6711083054542542,0.7422642707824707],\"type\":\"scatter\"},{\"marker\":{\"maxdisplayed\":10},\"mode\":\"lines+markers\",\"name\":\"Trial10\",\"x\":[0,1,2,3,4,5,6,7,8,9,10,11,12,13,14,15,16,17,18,19,20,21,22,23,24],\"y\":[0.7299870848655701,0.6168830394744873,0.5899016261100769,0.5676601529121399,0.5595533847808838,0.5602012276649475,0.5522904396057129,0.5545588135719299,0.5457605719566345,0.5590485334396362,0.49393677711486816,0.49060583114624023,0.4830697178840637,0.4827841520309448,0.4766322672367096,0.5030035376548767,0.4731728136539459,0.47563835978507996,0.4884491562843323,0.4769493341445923,0.4768611788749695,0.4724672734737396,0.4795978367328644,0.464925080537796,0.4709439277648926],\"type\":\"scatter\"},{\"marker\":{\"maxdisplayed\":10},\"mode\":\"lines+markers\",\"name\":\"Trial11\",\"x\":[0,1,2,3,4,5,6,7,8,9,10,11,12,13,14,15,16,17,18,19,20,21,22,23,24],\"y\":[0.553957462310791,0.49084627628326416,0.5061266422271729,0.5719921588897705,0.47377920150756836,0.4338203966617584,0.4551212787628174,0.45349979400634766,0.4309260845184326,0.4734489321708679,0.4627632200717926,0.5150455236434937,0.5080377459526062,0.47083133459091187,0.6123625636100769,0.5563098788261414,0.7276226282119751,0.5593992471694946,0.6566389799118042,0.6607877016067505,0.6735261678695679,0.7175916433334351,0.7197787761688232,0.6998216509819031,0.7699609398841858],\"type\":\"scatter\"},{\"marker\":{\"maxdisplayed\":10},\"mode\":\"lines+markers\",\"name\":\"Trial12\",\"x\":[0,1,2,3,4,5,6,7,8,9,10,11,12,13,14,15,16,17,18,19,20,21,22,23,24],\"y\":[0.5283069014549255,0.47492778301239014,0.46565020084381104,0.46725744009017944,0.4612846374511719,0.4341907203197479,0.4485399127006531,0.4113491475582123,0.40481022000312805,0.4712233245372772,0.4935649633407593,0.4648393392562866,0.5043462514877319,0.5372456908226013,0.5430867075920105,0.5536471605300903,0.685131847858429,0.7355844974517822,0.6219967603683472,0.5672504901885986,0.716558039188385,0.6505169868469238,0.768070638179779,0.6550772786140442,0.7151428461074829],\"type\":\"scatter\"},{\"marker\":{\"maxdisplayed\":10},\"mode\":\"lines+markers\",\"name\":\"Trial13\",\"x\":[0,1,2,3,4,5,6,7,8,9,10,11,12,13,14,15,16,17,18,19,20,21,22,23,24],\"y\":[0.5472583174705505,0.5164467692375183,0.46083423495292664,0.4281623065471649,0.4293668270111084,0.4249829351902008,0.4232812821865082,0.4455428719520569,0.4249895513057709,0.4744313061237335,0.4642000198364258,0.4831782877445221,0.5814077258110046,0.4849274158477783,0.5503497123718262,0.6541218757629395,0.6666226387023926,0.6437521576881409,0.6953709125518799,0.7118447422981262,0.7422702312469482,0.742764413356781,0.7168635129928589,0.6881880760192871,0.7591489553451538],\"type\":\"scatter\"},{\"marker\":{\"maxdisplayed\":10},\"mode\":\"lines+markers\",\"name\":\"Trial14\",\"x\":[0,1,2,3,4,5,6,7,8,9,10,11,12,13,14,15,16,17,18,19,20,21,22,23,24],\"y\":[0.5695887207984924,0.5328922867774963,0.495048850774765,0.4648994207382202,0.48088645935058594,0.46189430356025696,0.4592844247817993,0.449480801820755,0.4826425611972809,0.5282595753669739,0.5056893229484558,0.567256510257721,0.5535936951637268,0.5468352437019348,0.6101916432380676,0.5924091339111328,0.7473435401916504,0.5839657187461853,0.6401974558830261,0.7506570219993591,0.6659258604049683,0.7324300408363342,0.7493739128112793,0.7655576467514038,0.7862268686294556],\"type\":\"scatter\"},{\"marker\":{\"maxdisplayed\":10},\"mode\":\"lines+markers\",\"name\":\"Trial15\",\"x\":[0,1,2,3,4,5,6,7,8,9,10,11,12,13,14,15,16,17,18,19,20,21,22,23,24],\"y\":[0.5482223033905029,0.5247886776924133,0.5313541889190674,0.5411372780799866,0.4986967146396637,0.4862068295478821,0.6031588315963745,0.5687934756278992,0.5707082748413086,0.6329798698425293,0.585128903388977,0.5405681133270264,0.710189700126648,0.6982890963554382,0.6627131700515747,0.6711762547492981,0.723163902759552,0.661782443523407,0.7537971138954163,0.8414071202278137,0.7661870718002319,0.8435185551643372,0.905531644821167,0.9353533983230591,0.9465380311012268],\"type\":\"scatter\"},{\"marker\":{\"maxdisplayed\":10},\"mode\":\"lines+markers\",\"name\":\"Trial16\",\"x\":[0,1,2,3,4,5,6,7,8,9,10,11,12,13,14,15,16,17,18,19,20,21,22,23,24],\"y\":[0.634073793888092,0.5940073132514954,0.5485482215881348,0.4830576181411743,0.4037070572376251,0.40272870659828186,0.404712051153183,0.41700828075408936,0.4451054632663727,0.5114603042602539,0.54986572265625,0.5380757451057434,0.47928160429000854,0.5176969766616821,0.5334973335266113,0.5397753119468689,0.5807600021362305,0.571612536907196,0.6593962907791138,0.607874870300293,0.6318814754486084,0.773877739906311,0.6834996938705444,0.651360034942627,0.689123272895813],\"type\":\"scatter\"},{\"marker\":{\"maxdisplayed\":10},\"mode\":\"lines+markers\",\"name\":\"Trial17\",\"x\":[0,1,2,3,4,5,6,7,8,9,10,11,12,13,14,15,16,17,18,19,20,21,22,23,24],\"y\":[0.5355082750320435,0.5012539029121399,0.5201788544654846,0.4767967164516449,0.467968225479126,0.4390862286090851,0.44253045320510864,0.47377532720565796,0.47892576456069946,0.49778082966804504,0.5359713435173035,0.483604371547699,0.5326316952705383,0.5438674092292786,0.5870110392570496,0.6412597894668579,0.6427315473556519,0.7307847142219543,0.6834597587585449,0.737938642501831,0.7984858155250549,0.7116822004318237,0.729051411151886,0.7805953025817871,0.7273728847503662],\"type\":\"scatter\"},{\"marker\":{\"maxdisplayed\":10},\"mode\":\"lines+markers\",\"name\":\"Trial18\",\"x\":[0,1,2,3,4,5,6,7,8,9,10,11,12,13,14,15,16,17,18,19,20,21,22,23,24],\"y\":[0.6090385913848877,0.6065179705619812,0.4819142520427704,0.4766917824745178,0.5172269344329834,0.4160539507865906,0.4913274347782135,0.4652078151702881,0.5298835635185242,0.8188961148262024,0.7042974829673767,0.8270585536956787,0.7636438608169556,0.6706919074058533,0.8855840563774109,0.6924059391021729,0.7717888355255127,0.8127753138542175,0.6717996001243591,0.7129683494567871,0.6765701770782471,1.0205379724502563,0.9318370223045349,1.150507926940918,1.0489510297775269],\"type\":\"scatter\"},{\"marker\":{\"maxdisplayed\":10},\"mode\":\"lines+markers\",\"name\":\"Trial19\",\"x\":[0,1,2,3,4,5,6,7,8,9,10,11,12,13,14,15,16,17,18,19,20,21,22,23,24],\"y\":[0.613886296749115,0.4792001247406006,0.44171443581581116,0.4248742461204529,0.4097225069999695,0.3943970203399658,0.4299464225769043,0.41445425152778625,0.4892570376396179,0.47010189294815063,0.4701777398586273,0.4350399076938629,0.48477813601493835,0.5898908972740173,0.767671525478363,0.6699672341346741,0.6391043066978455,0.6115093231201172,0.6203798651695251,0.726296067237854,0.6777335405349731,0.6918531656265259,0.6807922720909119,0.6254948973655701,0.8270722031593323],\"type\":\"scatter\"},{\"marker\":{\"maxdisplayed\":10},\"mode\":\"lines+markers\",\"name\":\"Trial20\",\"x\":[0,1,2,3,4,5,6,7,8,9,10,11,12,13,14,15,16,17,18,19,20,21,22,23,24],\"y\":[0.640914261341095,0.505957841873169,0.4980041980743408,0.45630136132240295,0.4030602276325226,0.4068872928619385,0.48027029633522034,0.5289989709854126,0.517602801322937,0.5408340096473694,0.5270441770553589,0.6022160053253174,0.6192271709442139,0.7312325239181519,0.5449150204658508,0.5985444784164429,0.6924207210540771,0.6430227160453796,0.6988803744316101,0.7947117686271667,0.66800457239151,0.7607789039611816,0.7227787971496582,0.7795712351799011,0.8440353870391846],\"type\":\"scatter\"},{\"marker\":{\"maxdisplayed\":10},\"mode\":\"lines+markers\",\"name\":\"Trial21\",\"x\":[0,1,2,3,4,5,6,7,8,9,10,11,12,13,14,15,16,17,18,19,20,21,22,23,24],\"y\":[0.5900914072990417,0.523468017578125,0.4720112979412079,0.4805475175380707,0.4483957886695862,0.45836520195007324,0.44700127840042114,0.4305554926395416,0.4325539767742157,0.4426477253437042,0.429614394903183,0.435859352350235,0.4315257668495178,0.46727749705314636,0.455414354801178,0.5147192478179932,0.5193350315093994,0.5058162212371826,0.573333740234375,0.48481330275535583,0.5318237543106079,0.6394418478012085,0.5547115206718445,0.6262663006782532,0.6675417423248291],\"type\":\"scatter\"},{\"marker\":{\"maxdisplayed\":10},\"mode\":\"lines+markers\",\"name\":\"Trial22\",\"x\":[0,1,2,3,4,5,6,7,8,9,10,11,12,13,14,15,16,17,18,19,20,21,22,23,24],\"y\":[0.5592707991600037,0.5084468126296997,0.4761699438095093,0.48840704560279846,0.4801527261734009,0.4615984857082367,0.4759615957736969,0.44681164622306824,0.4585781395435333,0.4923148453235626,0.5103358030319214,0.5321804881095886,0.535489022731781,0.5597996115684509,0.6028255224227905,0.5697894096374512,0.6219434142112732,0.5538076162338257,0.5984349250793457,0.6044254302978516,0.6392918825149536,0.6747205257415771,0.6968421339988708,0.6854236721992493,0.7335761189460754],\"type\":\"scatter\"},{\"marker\":{\"maxdisplayed\":10},\"mode\":\"lines+markers\",\"name\":\"Trial23\",\"x\":[0,1,2,3,4,5,6,7,8,9,10,11,12,13,14,15,16,17,18,19,20,21,22,23,24],\"y\":[0.5542472004890442,0.4715277850627899,0.46204835176467896,0.5065820813179016,0.4328221380710602,0.43828269839286804,0.4350281357765198,0.4237837493419647,0.4092129170894623,0.49268877506256104,0.4737735688686371,0.5315863490104675,0.5019687414169312,0.5742738842964172,0.6816163659095764,0.5907737612724304,0.6208541989326477,0.6067712306976318,0.7720714211463928,0.876440703868866,0.7062468528747559,0.7698873281478882,0.7528674006462097,0.7435890436172485,0.7734940052032471],\"type\":\"scatter\"},{\"marker\":{\"maxdisplayed\":10},\"mode\":\"lines+markers\",\"name\":\"Trial24\",\"x\":[0,1,2,3,4,5,6,7,8,9,10,11,12,13,14,15,16,17,18,19,20,21,22,23,24],\"y\":[0.5963993072509766,0.64984530210495,0.5929058790206909,0.5667858123779297,0.5346296429634094,0.5173460245132446,0.568973958492279,0.5134760737419128,0.5446479320526123,0.549688994884491,0.5657870173454285,0.5176324248313904,0.5249639749526978,0.5744588971138,0.5231306552886963,0.5565333962440491,0.621954083442688,0.6033516526222229,0.6260919570922852,0.6357213258743286,0.5992481708526611,0.6698366403579712,0.7389755845069885,0.7157848477363586,0.7114530801773071],\"type\":\"scatter\"}],                        {\"showlegend\":false,\"title\":{\"text\":\"Intermediate Values Plot\"},\"xaxis\":{\"title\":{\"text\":\"Step\"}},\"yaxis\":{\"title\":{\"text\":\"Intermediate Value\"}},\"template\":{\"data\":{\"histogram2dcontour\":[{\"type\":\"histogram2dcontour\",\"colorbar\":{\"outlinewidth\":0,\"ticks\":\"\"},\"colorscale\":[[0.0,\"#0d0887\"],[0.1111111111111111,\"#46039f\"],[0.2222222222222222,\"#7201a8\"],[0.3333333333333333,\"#9c179e\"],[0.4444444444444444,\"#bd3786\"],[0.5555555555555556,\"#d8576b\"],[0.6666666666666666,\"#ed7953\"],[0.7777777777777778,\"#fb9f3a\"],[0.8888888888888888,\"#fdca26\"],[1.0,\"#f0f921\"]]}],\"choropleth\":[{\"type\":\"choropleth\",\"colorbar\":{\"outlinewidth\":0,\"ticks\":\"\"}}],\"histogram2d\":[{\"type\":\"histogram2d\",\"colorbar\":{\"outlinewidth\":0,\"ticks\":\"\"},\"colorscale\":[[0.0,\"#0d0887\"],[0.1111111111111111,\"#46039f\"],[0.2222222222222222,\"#7201a8\"],[0.3333333333333333,\"#9c179e\"],[0.4444444444444444,\"#bd3786\"],[0.5555555555555556,\"#d8576b\"],[0.6666666666666666,\"#ed7953\"],[0.7777777777777778,\"#fb9f3a\"],[0.8888888888888888,\"#fdca26\"],[1.0,\"#f0f921\"]]}],\"heatmap\":[{\"type\":\"heatmap\",\"colorbar\":{\"outlinewidth\":0,\"ticks\":\"\"},\"colorscale\":[[0.0,\"#0d0887\"],[0.1111111111111111,\"#46039f\"],[0.2222222222222222,\"#7201a8\"],[0.3333333333333333,\"#9c179e\"],[0.4444444444444444,\"#bd3786\"],[0.5555555555555556,\"#d8576b\"],[0.6666666666666666,\"#ed7953\"],[0.7777777777777778,\"#fb9f3a\"],[0.8888888888888888,\"#fdca26\"],[1.0,\"#f0f921\"]]}],\"heatmapgl\":[{\"type\":\"heatmapgl\",\"colorbar\":{\"outlinewidth\":0,\"ticks\":\"\"},\"colorscale\":[[0.0,\"#0d0887\"],[0.1111111111111111,\"#46039f\"],[0.2222222222222222,\"#7201a8\"],[0.3333333333333333,\"#9c179e\"],[0.4444444444444444,\"#bd3786\"],[0.5555555555555556,\"#d8576b\"],[0.6666666666666666,\"#ed7953\"],[0.7777777777777778,\"#fb9f3a\"],[0.8888888888888888,\"#fdca26\"],[1.0,\"#f0f921\"]]}],\"contourcarpet\":[{\"type\":\"contourcarpet\",\"colorbar\":{\"outlinewidth\":0,\"ticks\":\"\"}}],\"contour\":[{\"type\":\"contour\",\"colorbar\":{\"outlinewidth\":0,\"ticks\":\"\"},\"colorscale\":[[0.0,\"#0d0887\"],[0.1111111111111111,\"#46039f\"],[0.2222222222222222,\"#7201a8\"],[0.3333333333333333,\"#9c179e\"],[0.4444444444444444,\"#bd3786\"],[0.5555555555555556,\"#d8576b\"],[0.6666666666666666,\"#ed7953\"],[0.7777777777777778,\"#fb9f3a\"],[0.8888888888888888,\"#fdca26\"],[1.0,\"#f0f921\"]]}],\"surface\":[{\"type\":\"surface\",\"colorbar\":{\"outlinewidth\":0,\"ticks\":\"\"},\"colorscale\":[[0.0,\"#0d0887\"],[0.1111111111111111,\"#46039f\"],[0.2222222222222222,\"#7201a8\"],[0.3333333333333333,\"#9c179e\"],[0.4444444444444444,\"#bd3786\"],[0.5555555555555556,\"#d8576b\"],[0.6666666666666666,\"#ed7953\"],[0.7777777777777778,\"#fb9f3a\"],[0.8888888888888888,\"#fdca26\"],[1.0,\"#f0f921\"]]}],\"mesh3d\":[{\"type\":\"mesh3d\",\"colorbar\":{\"outlinewidth\":0,\"ticks\":\"\"}}],\"scatter\":[{\"fillpattern\":{\"fillmode\":\"overlay\",\"size\":10,\"solidity\":0.2},\"type\":\"scatter\"}],\"parcoords\":[{\"type\":\"parcoords\",\"line\":{\"colorbar\":{\"outlinewidth\":0,\"ticks\":\"\"}}}],\"scatterpolargl\":[{\"type\":\"scatterpolargl\",\"marker\":{\"colorbar\":{\"outlinewidth\":0,\"ticks\":\"\"}}}],\"bar\":[{\"error_x\":{\"color\":\"#2a3f5f\"},\"error_y\":{\"color\":\"#2a3f5f\"},\"marker\":{\"line\":{\"color\":\"#E5ECF6\",\"width\":0.5},\"pattern\":{\"fillmode\":\"overlay\",\"size\":10,\"solidity\":0.2}},\"type\":\"bar\"}],\"scattergeo\":[{\"type\":\"scattergeo\",\"marker\":{\"colorbar\":{\"outlinewidth\":0,\"ticks\":\"\"}}}],\"scatterpolar\":[{\"type\":\"scatterpolar\",\"marker\":{\"colorbar\":{\"outlinewidth\":0,\"ticks\":\"\"}}}],\"histogram\":[{\"marker\":{\"pattern\":{\"fillmode\":\"overlay\",\"size\":10,\"solidity\":0.2}},\"type\":\"histogram\"}],\"scattergl\":[{\"type\":\"scattergl\",\"marker\":{\"colorbar\":{\"outlinewidth\":0,\"ticks\":\"\"}}}],\"scatter3d\":[{\"type\":\"scatter3d\",\"line\":{\"colorbar\":{\"outlinewidth\":0,\"ticks\":\"\"}},\"marker\":{\"colorbar\":{\"outlinewidth\":0,\"ticks\":\"\"}}}],\"scattermapbox\":[{\"type\":\"scattermapbox\",\"marker\":{\"colorbar\":{\"outlinewidth\":0,\"ticks\":\"\"}}}],\"scatterternary\":[{\"type\":\"scatterternary\",\"marker\":{\"colorbar\":{\"outlinewidth\":0,\"ticks\":\"\"}}}],\"scattercarpet\":[{\"type\":\"scattercarpet\",\"marker\":{\"colorbar\":{\"outlinewidth\":0,\"ticks\":\"\"}}}],\"carpet\":[{\"aaxis\":{\"endlinecolor\":\"#2a3f5f\",\"gridcolor\":\"white\",\"linecolor\":\"white\",\"minorgridcolor\":\"white\",\"startlinecolor\":\"#2a3f5f\"},\"baxis\":{\"endlinecolor\":\"#2a3f5f\",\"gridcolor\":\"white\",\"linecolor\":\"white\",\"minorgridcolor\":\"white\",\"startlinecolor\":\"#2a3f5f\"},\"type\":\"carpet\"}],\"table\":[{\"cells\":{\"fill\":{\"color\":\"#EBF0F8\"},\"line\":{\"color\":\"white\"}},\"header\":{\"fill\":{\"color\":\"#C8D4E3\"},\"line\":{\"color\":\"white\"}},\"type\":\"table\"}],\"barpolar\":[{\"marker\":{\"line\":{\"color\":\"#E5ECF6\",\"width\":0.5},\"pattern\":{\"fillmode\":\"overlay\",\"size\":10,\"solidity\":0.2}},\"type\":\"barpolar\"}],\"pie\":[{\"automargin\":true,\"type\":\"pie\"}]},\"layout\":{\"autotypenumbers\":\"strict\",\"colorway\":[\"#636efa\",\"#EF553B\",\"#00cc96\",\"#ab63fa\",\"#FFA15A\",\"#19d3f3\",\"#FF6692\",\"#B6E880\",\"#FF97FF\",\"#FECB52\"],\"font\":{\"color\":\"#2a3f5f\"},\"hovermode\":\"closest\",\"hoverlabel\":{\"align\":\"left\"},\"paper_bgcolor\":\"white\",\"plot_bgcolor\":\"#E5ECF6\",\"polar\":{\"bgcolor\":\"#E5ECF6\",\"angularaxis\":{\"gridcolor\":\"white\",\"linecolor\":\"white\",\"ticks\":\"\"},\"radialaxis\":{\"gridcolor\":\"white\",\"linecolor\":\"white\",\"ticks\":\"\"}},\"ternary\":{\"bgcolor\":\"#E5ECF6\",\"aaxis\":{\"gridcolor\":\"white\",\"linecolor\":\"white\",\"ticks\":\"\"},\"baxis\":{\"gridcolor\":\"white\",\"linecolor\":\"white\",\"ticks\":\"\"},\"caxis\":{\"gridcolor\":\"white\",\"linecolor\":\"white\",\"ticks\":\"\"}},\"coloraxis\":{\"colorbar\":{\"outlinewidth\":0,\"ticks\":\"\"}},\"colorscale\":{\"sequential\":[[0.0,\"#0d0887\"],[0.1111111111111111,\"#46039f\"],[0.2222222222222222,\"#7201a8\"],[0.3333333333333333,\"#9c179e\"],[0.4444444444444444,\"#bd3786\"],[0.5555555555555556,\"#d8576b\"],[0.6666666666666666,\"#ed7953\"],[0.7777777777777778,\"#fb9f3a\"],[0.8888888888888888,\"#fdca26\"],[1.0,\"#f0f921\"]],\"sequentialminus\":[[0.0,\"#0d0887\"],[0.1111111111111111,\"#46039f\"],[0.2222222222222222,\"#7201a8\"],[0.3333333333333333,\"#9c179e\"],[0.4444444444444444,\"#bd3786\"],[0.5555555555555556,\"#d8576b\"],[0.6666666666666666,\"#ed7953\"],[0.7777777777777778,\"#fb9f3a\"],[0.8888888888888888,\"#fdca26\"],[1.0,\"#f0f921\"]],\"diverging\":[[0,\"#8e0152\"],[0.1,\"#c51b7d\"],[0.2,\"#de77ae\"],[0.3,\"#f1b6da\"],[0.4,\"#fde0ef\"],[0.5,\"#f7f7f7\"],[0.6,\"#e6f5d0\"],[0.7,\"#b8e186\"],[0.8,\"#7fbc41\"],[0.9,\"#4d9221\"],[1,\"#276419\"]]},\"xaxis\":{\"gridcolor\":\"white\",\"linecolor\":\"white\",\"ticks\":\"\",\"title\":{\"standoff\":15},\"zerolinecolor\":\"white\",\"automargin\":true,\"zerolinewidth\":2},\"yaxis\":{\"gridcolor\":\"white\",\"linecolor\":\"white\",\"ticks\":\"\",\"title\":{\"standoff\":15},\"zerolinecolor\":\"white\",\"automargin\":true,\"zerolinewidth\":2},\"scene\":{\"xaxis\":{\"backgroundcolor\":\"#E5ECF6\",\"gridcolor\":\"white\",\"linecolor\":\"white\",\"showbackground\":true,\"ticks\":\"\",\"zerolinecolor\":\"white\",\"gridwidth\":2},\"yaxis\":{\"backgroundcolor\":\"#E5ECF6\",\"gridcolor\":\"white\",\"linecolor\":\"white\",\"showbackground\":true,\"ticks\":\"\",\"zerolinecolor\":\"white\",\"gridwidth\":2},\"zaxis\":{\"backgroundcolor\":\"#E5ECF6\",\"gridcolor\":\"white\",\"linecolor\":\"white\",\"showbackground\":true,\"ticks\":\"\",\"zerolinecolor\":\"white\",\"gridwidth\":2}},\"shapedefaults\":{\"line\":{\"color\":\"#2a3f5f\"}},\"annotationdefaults\":{\"arrowcolor\":\"#2a3f5f\",\"arrowhead\":0,\"arrowwidth\":1},\"geo\":{\"bgcolor\":\"white\",\"landcolor\":\"#E5ECF6\",\"subunitcolor\":\"white\",\"showland\":true,\"showlakes\":true,\"lakecolor\":\"white\"},\"title\":{\"x\":0.05},\"mapbox\":{\"style\":\"light\"}}}},                        {\"responsive\": true}                    ).then(function(){\n",
       "                            \n",
       "var gd = document.getElementById('555ea396-d3e2-4f90-b558-3b9b0e99a8d7');\n",
       "var x = new MutationObserver(function (mutations, observer) {{\n",
       "        var display = window.getComputedStyle(gd).display;\n",
       "        if (!display || display === 'none') {{\n",
       "            console.log([gd, 'removed!']);\n",
       "            Plotly.purge(gd);\n",
       "            observer.disconnect();\n",
       "        }}\n",
       "}});\n",
       "\n",
       "// Listen for the removal of the full notebook cells\n",
       "var notebookContainer = gd.closest('#notebook-container');\n",
       "if (notebookContainer) {{\n",
       "    x.observe(notebookContainer, {childList: true});\n",
       "}}\n",
       "\n",
       "// Listen for the clearing of the current output cell\n",
       "var outputEl = gd.closest('.output');\n",
       "if (outputEl) {{\n",
       "    x.observe(outputEl, {childList: true});\n",
       "}}\n",
       "\n",
       "                        })                };                });            </script>        </div>"
      ]
     },
     "metadata": {},
     "output_type": "display_data"
    }
   ],
   "source": [
    "plot_intermediate_values(study4)"
   ]
  },
  {
   "cell_type": "code",
   "execution_count": 18,
   "id": "bf8f4d97",
   "metadata": {
    "execution": {
     "iopub.execute_input": "2023-03-10T20:09:50.056676Z",
     "iopub.status.busy": "2023-03-10T20:09:50.056214Z",
     "iopub.status.idle": "2023-03-10T20:09:50.709084Z",
     "shell.execute_reply": "2023-03-10T20:09:50.708268Z"
    },
    "papermill": {
     "duration": 0.675381,
     "end_time": "2023-03-10T20:09:50.711405",
     "exception": false,
     "start_time": "2023-03-10T20:09:50.036024",
     "status": "completed"
    },
    "tags": []
   },
   "outputs": [
    {
     "data": {
      "text/html": [
       "<div>                            <div id=\"d4e0006a-1a7e-43f2-a617-d726d5fd6b9a\" class=\"plotly-graph-div\" style=\"height:525px; width:100%;\"></div>            <script type=\"text/javascript\">                require([\"plotly\"], function(Plotly) {                    window.PLOTLYENV=window.PLOTLYENV || {};                                    if (document.getElementById(\"d4e0006a-1a7e-43f2-a617-d726d5fd6b9a\")) {                    Plotly.newPlot(                        \"d4e0006a-1a7e-43f2-a617-d726d5fd6b9a\",                        [{\"cliponaxis\":false,\"hovertemplate\":[\"dropout_L2 (FloatDistribution): 0.02018312802993472<extra></extra>\",\"learning_rate (FloatDistribution): 0.02646578313494256<extra></extra>\",\"dropout_L1 (FloatDistribution): 0.08223447040737143<extra></extra>\",\"lstm_units_L2 (IntDistribution): 0.42023639934794504<extra></extra>\",\"lstm_units_L1 (IntDistribution): 0.45088021907980635<extra></extra>\"],\"marker\":{\"color\":\"rgb(66,146,198)\"},\"orientation\":\"h\",\"text\":[\"0.02\",\"0.03\",\"0.08\",\"0.42\",\"0.45\"],\"textposition\":\"outside\",\"x\":[0.02018312802993472,0.02646578313494256,0.08223447040737143,0.42023639934794504,0.45088021907980635],\"y\":[\"dropout_L2\",\"learning_rate\",\"dropout_L1\",\"lstm_units_L2\",\"lstm_units_L1\"],\"type\":\"bar\"}],                        {\"showlegend\":false,\"title\":{\"text\":\"Hyperparameter Importances\"},\"xaxis\":{\"title\":{\"text\":\"Importance for Objective Value\"}},\"yaxis\":{\"title\":{\"text\":\"Hyperparameter\"}},\"template\":{\"data\":{\"histogram2dcontour\":[{\"type\":\"histogram2dcontour\",\"colorbar\":{\"outlinewidth\":0,\"ticks\":\"\"},\"colorscale\":[[0.0,\"#0d0887\"],[0.1111111111111111,\"#46039f\"],[0.2222222222222222,\"#7201a8\"],[0.3333333333333333,\"#9c179e\"],[0.4444444444444444,\"#bd3786\"],[0.5555555555555556,\"#d8576b\"],[0.6666666666666666,\"#ed7953\"],[0.7777777777777778,\"#fb9f3a\"],[0.8888888888888888,\"#fdca26\"],[1.0,\"#f0f921\"]]}],\"choropleth\":[{\"type\":\"choropleth\",\"colorbar\":{\"outlinewidth\":0,\"ticks\":\"\"}}],\"histogram2d\":[{\"type\":\"histogram2d\",\"colorbar\":{\"outlinewidth\":0,\"ticks\":\"\"},\"colorscale\":[[0.0,\"#0d0887\"],[0.1111111111111111,\"#46039f\"],[0.2222222222222222,\"#7201a8\"],[0.3333333333333333,\"#9c179e\"],[0.4444444444444444,\"#bd3786\"],[0.5555555555555556,\"#d8576b\"],[0.6666666666666666,\"#ed7953\"],[0.7777777777777778,\"#fb9f3a\"],[0.8888888888888888,\"#fdca26\"],[1.0,\"#f0f921\"]]}],\"heatmap\":[{\"type\":\"heatmap\",\"colorbar\":{\"outlinewidth\":0,\"ticks\":\"\"},\"colorscale\":[[0.0,\"#0d0887\"],[0.1111111111111111,\"#46039f\"],[0.2222222222222222,\"#7201a8\"],[0.3333333333333333,\"#9c179e\"],[0.4444444444444444,\"#bd3786\"],[0.5555555555555556,\"#d8576b\"],[0.6666666666666666,\"#ed7953\"],[0.7777777777777778,\"#fb9f3a\"],[0.8888888888888888,\"#fdca26\"],[1.0,\"#f0f921\"]]}],\"heatmapgl\":[{\"type\":\"heatmapgl\",\"colorbar\":{\"outlinewidth\":0,\"ticks\":\"\"},\"colorscale\":[[0.0,\"#0d0887\"],[0.1111111111111111,\"#46039f\"],[0.2222222222222222,\"#7201a8\"],[0.3333333333333333,\"#9c179e\"],[0.4444444444444444,\"#bd3786\"],[0.5555555555555556,\"#d8576b\"],[0.6666666666666666,\"#ed7953\"],[0.7777777777777778,\"#fb9f3a\"],[0.8888888888888888,\"#fdca26\"],[1.0,\"#f0f921\"]]}],\"contourcarpet\":[{\"type\":\"contourcarpet\",\"colorbar\":{\"outlinewidth\":0,\"ticks\":\"\"}}],\"contour\":[{\"type\":\"contour\",\"colorbar\":{\"outlinewidth\":0,\"ticks\":\"\"},\"colorscale\":[[0.0,\"#0d0887\"],[0.1111111111111111,\"#46039f\"],[0.2222222222222222,\"#7201a8\"],[0.3333333333333333,\"#9c179e\"],[0.4444444444444444,\"#bd3786\"],[0.5555555555555556,\"#d8576b\"],[0.6666666666666666,\"#ed7953\"],[0.7777777777777778,\"#fb9f3a\"],[0.8888888888888888,\"#fdca26\"],[1.0,\"#f0f921\"]]}],\"surface\":[{\"type\":\"surface\",\"colorbar\":{\"outlinewidth\":0,\"ticks\":\"\"},\"colorscale\":[[0.0,\"#0d0887\"],[0.1111111111111111,\"#46039f\"],[0.2222222222222222,\"#7201a8\"],[0.3333333333333333,\"#9c179e\"],[0.4444444444444444,\"#bd3786\"],[0.5555555555555556,\"#d8576b\"],[0.6666666666666666,\"#ed7953\"],[0.7777777777777778,\"#fb9f3a\"],[0.8888888888888888,\"#fdca26\"],[1.0,\"#f0f921\"]]}],\"mesh3d\":[{\"type\":\"mesh3d\",\"colorbar\":{\"outlinewidth\":0,\"ticks\":\"\"}}],\"scatter\":[{\"fillpattern\":{\"fillmode\":\"overlay\",\"size\":10,\"solidity\":0.2},\"type\":\"scatter\"}],\"parcoords\":[{\"type\":\"parcoords\",\"line\":{\"colorbar\":{\"outlinewidth\":0,\"ticks\":\"\"}}}],\"scatterpolargl\":[{\"type\":\"scatterpolargl\",\"marker\":{\"colorbar\":{\"outlinewidth\":0,\"ticks\":\"\"}}}],\"bar\":[{\"error_x\":{\"color\":\"#2a3f5f\"},\"error_y\":{\"color\":\"#2a3f5f\"},\"marker\":{\"line\":{\"color\":\"#E5ECF6\",\"width\":0.5},\"pattern\":{\"fillmode\":\"overlay\",\"size\":10,\"solidity\":0.2}},\"type\":\"bar\"}],\"scattergeo\":[{\"type\":\"scattergeo\",\"marker\":{\"colorbar\":{\"outlinewidth\":0,\"ticks\":\"\"}}}],\"scatterpolar\":[{\"type\":\"scatterpolar\",\"marker\":{\"colorbar\":{\"outlinewidth\":0,\"ticks\":\"\"}}}],\"histogram\":[{\"marker\":{\"pattern\":{\"fillmode\":\"overlay\",\"size\":10,\"solidity\":0.2}},\"type\":\"histogram\"}],\"scattergl\":[{\"type\":\"scattergl\",\"marker\":{\"colorbar\":{\"outlinewidth\":0,\"ticks\":\"\"}}}],\"scatter3d\":[{\"type\":\"scatter3d\",\"line\":{\"colorbar\":{\"outlinewidth\":0,\"ticks\":\"\"}},\"marker\":{\"colorbar\":{\"outlinewidth\":0,\"ticks\":\"\"}}}],\"scattermapbox\":[{\"type\":\"scattermapbox\",\"marker\":{\"colorbar\":{\"outlinewidth\":0,\"ticks\":\"\"}}}],\"scatterternary\":[{\"type\":\"scatterternary\",\"marker\":{\"colorbar\":{\"outlinewidth\":0,\"ticks\":\"\"}}}],\"scattercarpet\":[{\"type\":\"scattercarpet\",\"marker\":{\"colorbar\":{\"outlinewidth\":0,\"ticks\":\"\"}}}],\"carpet\":[{\"aaxis\":{\"endlinecolor\":\"#2a3f5f\",\"gridcolor\":\"white\",\"linecolor\":\"white\",\"minorgridcolor\":\"white\",\"startlinecolor\":\"#2a3f5f\"},\"baxis\":{\"endlinecolor\":\"#2a3f5f\",\"gridcolor\":\"white\",\"linecolor\":\"white\",\"minorgridcolor\":\"white\",\"startlinecolor\":\"#2a3f5f\"},\"type\":\"carpet\"}],\"table\":[{\"cells\":{\"fill\":{\"color\":\"#EBF0F8\"},\"line\":{\"color\":\"white\"}},\"header\":{\"fill\":{\"color\":\"#C8D4E3\"},\"line\":{\"color\":\"white\"}},\"type\":\"table\"}],\"barpolar\":[{\"marker\":{\"line\":{\"color\":\"#E5ECF6\",\"width\":0.5},\"pattern\":{\"fillmode\":\"overlay\",\"size\":10,\"solidity\":0.2}},\"type\":\"barpolar\"}],\"pie\":[{\"automargin\":true,\"type\":\"pie\"}]},\"layout\":{\"autotypenumbers\":\"strict\",\"colorway\":[\"#636efa\",\"#EF553B\",\"#00cc96\",\"#ab63fa\",\"#FFA15A\",\"#19d3f3\",\"#FF6692\",\"#B6E880\",\"#FF97FF\",\"#FECB52\"],\"font\":{\"color\":\"#2a3f5f\"},\"hovermode\":\"closest\",\"hoverlabel\":{\"align\":\"left\"},\"paper_bgcolor\":\"white\",\"plot_bgcolor\":\"#E5ECF6\",\"polar\":{\"bgcolor\":\"#E5ECF6\",\"angularaxis\":{\"gridcolor\":\"white\",\"linecolor\":\"white\",\"ticks\":\"\"},\"radialaxis\":{\"gridcolor\":\"white\",\"linecolor\":\"white\",\"ticks\":\"\"}},\"ternary\":{\"bgcolor\":\"#E5ECF6\",\"aaxis\":{\"gridcolor\":\"white\",\"linecolor\":\"white\",\"ticks\":\"\"},\"baxis\":{\"gridcolor\":\"white\",\"linecolor\":\"white\",\"ticks\":\"\"},\"caxis\":{\"gridcolor\":\"white\",\"linecolor\":\"white\",\"ticks\":\"\"}},\"coloraxis\":{\"colorbar\":{\"outlinewidth\":0,\"ticks\":\"\"}},\"colorscale\":{\"sequential\":[[0.0,\"#0d0887\"],[0.1111111111111111,\"#46039f\"],[0.2222222222222222,\"#7201a8\"],[0.3333333333333333,\"#9c179e\"],[0.4444444444444444,\"#bd3786\"],[0.5555555555555556,\"#d8576b\"],[0.6666666666666666,\"#ed7953\"],[0.7777777777777778,\"#fb9f3a\"],[0.8888888888888888,\"#fdca26\"],[1.0,\"#f0f921\"]],\"sequentialminus\":[[0.0,\"#0d0887\"],[0.1111111111111111,\"#46039f\"],[0.2222222222222222,\"#7201a8\"],[0.3333333333333333,\"#9c179e\"],[0.4444444444444444,\"#bd3786\"],[0.5555555555555556,\"#d8576b\"],[0.6666666666666666,\"#ed7953\"],[0.7777777777777778,\"#fb9f3a\"],[0.8888888888888888,\"#fdca26\"],[1.0,\"#f0f921\"]],\"diverging\":[[0,\"#8e0152\"],[0.1,\"#c51b7d\"],[0.2,\"#de77ae\"],[0.3,\"#f1b6da\"],[0.4,\"#fde0ef\"],[0.5,\"#f7f7f7\"],[0.6,\"#e6f5d0\"],[0.7,\"#b8e186\"],[0.8,\"#7fbc41\"],[0.9,\"#4d9221\"],[1,\"#276419\"]]},\"xaxis\":{\"gridcolor\":\"white\",\"linecolor\":\"white\",\"ticks\":\"\",\"title\":{\"standoff\":15},\"zerolinecolor\":\"white\",\"automargin\":true,\"zerolinewidth\":2},\"yaxis\":{\"gridcolor\":\"white\",\"linecolor\":\"white\",\"ticks\":\"\",\"title\":{\"standoff\":15},\"zerolinecolor\":\"white\",\"automargin\":true,\"zerolinewidth\":2},\"scene\":{\"xaxis\":{\"backgroundcolor\":\"#E5ECF6\",\"gridcolor\":\"white\",\"linecolor\":\"white\",\"showbackground\":true,\"ticks\":\"\",\"zerolinecolor\":\"white\",\"gridwidth\":2},\"yaxis\":{\"backgroundcolor\":\"#E5ECF6\",\"gridcolor\":\"white\",\"linecolor\":\"white\",\"showbackground\":true,\"ticks\":\"\",\"zerolinecolor\":\"white\",\"gridwidth\":2},\"zaxis\":{\"backgroundcolor\":\"#E5ECF6\",\"gridcolor\":\"white\",\"linecolor\":\"white\",\"showbackground\":true,\"ticks\":\"\",\"zerolinecolor\":\"white\",\"gridwidth\":2}},\"shapedefaults\":{\"line\":{\"color\":\"#2a3f5f\"}},\"annotationdefaults\":{\"arrowcolor\":\"#2a3f5f\",\"arrowhead\":0,\"arrowwidth\":1},\"geo\":{\"bgcolor\":\"white\",\"landcolor\":\"#E5ECF6\",\"subunitcolor\":\"white\",\"showland\":true,\"showlakes\":true,\"lakecolor\":\"white\"},\"title\":{\"x\":0.05},\"mapbox\":{\"style\":\"light\"}}}},                        {\"responsive\": true}                    ).then(function(){\n",
       "                            \n",
       "var gd = document.getElementById('d4e0006a-1a7e-43f2-a617-d726d5fd6b9a');\n",
       "var x = new MutationObserver(function (mutations, observer) {{\n",
       "        var display = window.getComputedStyle(gd).display;\n",
       "        if (!display || display === 'none') {{\n",
       "            console.log([gd, 'removed!']);\n",
       "            Plotly.purge(gd);\n",
       "            observer.disconnect();\n",
       "        }}\n",
       "}});\n",
       "\n",
       "// Listen for the removal of the full notebook cells\n",
       "var notebookContainer = gd.closest('#notebook-container');\n",
       "if (notebookContainer) {{\n",
       "    x.observe(notebookContainer, {childList: true});\n",
       "}}\n",
       "\n",
       "// Listen for the clearing of the current output cell\n",
       "var outputEl = gd.closest('.output');\n",
       "if (outputEl) {{\n",
       "    x.observe(outputEl, {childList: true});\n",
       "}}\n",
       "\n",
       "                        })                };                });            </script>        </div>"
      ]
     },
     "metadata": {},
     "output_type": "display_data"
    }
   ],
   "source": [
    "plot_param_importances(study4)"
   ]
  },
  {
   "cell_type": "code",
   "execution_count": 19,
   "id": "4d024c84",
   "metadata": {
    "execution": {
     "iopub.execute_input": "2023-03-10T20:09:50.740235Z",
     "iopub.status.busy": "2023-03-10T20:09:50.739511Z",
     "iopub.status.idle": "2023-03-10T20:09:50.748076Z",
     "shell.execute_reply": "2023-03-10T20:09:50.746895Z"
    },
    "papermill": {
     "duration": 0.025574,
     "end_time": "2023-03-10T20:09:50.750520",
     "exception": false,
     "start_time": "2023-03-10T20:09:50.724946",
     "status": "completed"
    },
    "tags": []
   },
   "outputs": [
    {
     "name": "stdout",
     "output_type": "stream",
     "text": [
      "Best trial:\n",
      "  Value:  362.5420253276825\n",
      "  Params: \n",
      "    lstm_units_L1: 35\n",
      "    lstm_units_L2: 48\n",
      "    dropout_L1: 0.49445043972204883\n",
      "    dropout_L2: 0.44282311777744643\n",
      "    learning_rate: 0.0016492348874942958\n"
     ]
    }
   ],
   "source": [
    "print(\"Best trial:\")\n",
    "trial = study4.best_trial\n",
    "\n",
    "print(\"  Value: \", trial.value)\n",
    "\n",
    "print(\"  Params: \")\n",
    "for key, value in trial.params.items():\n",
    "    print(\"    {}: {}\".format(key, value))"
   ]
  }
 ],
 "metadata": {
  "kernelspec": {
   "display_name": "Python 3",
   "language": "python",
   "name": "python3"
  },
  "language_info": {
   "codemirror_mode": {
    "name": "ipython",
    "version": 3
   },
   "file_extension": ".py",
   "mimetype": "text/x-python",
   "name": "python",
   "nbconvert_exporter": "python",
   "pygments_lexer": "ipython3",
   "version": "3.7.12"
  },
  "papermill": {
   "default_parameters": {},
   "duration": 20017.87118,
   "end_time": "2023-03-10T20:09:54.187822",
   "environment_variables": {},
   "exception": null,
   "input_path": "__notebook__.ipynb",
   "output_path": "__notebook__.ipynb",
   "parameters": {},
   "start_time": "2023-03-10T14:36:16.316642",
   "version": "2.3.4"
  }
 },
 "nbformat": 4,
 "nbformat_minor": 5
}
