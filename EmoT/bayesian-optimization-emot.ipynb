{
 "cells": [
  {
   "cell_type": "markdown",
   "id": "a2509b0c",
   "metadata": {
    "papermill": {
     "duration": 0.008745,
     "end_time": "2023-03-09T13:46:36.920586",
     "exception": false,
     "start_time": "2023-03-09T13:46:36.911841",
     "status": "completed"
    },
    "tags": []
   },
   "source": [
    "# Data and Library Importing"
   ]
  },
  {
   "cell_type": "code",
   "execution_count": 1,
   "id": "d1efd820",
   "metadata": {
    "_execution_state": "idle",
    "_uuid": "051d70d956493feee0c6d64651c6a088724dca2a",
    "execution": {
     "iopub.execute_input": "2023-03-09T13:46:36.935283Z",
     "iopub.status.busy": "2023-03-09T13:46:36.934658Z",
     "iopub.status.idle": "2023-03-09T13:46:44.144480Z",
     "shell.execute_reply": "2023-03-09T13:46:44.143453Z"
    },
    "papermill": {
     "duration": 7.220006,
     "end_time": "2023-03-09T13:46:44.147038",
     "exception": false,
     "start_time": "2023-03-09T13:46:36.927032",
     "status": "completed"
    },
    "tags": []
   },
   "outputs": [],
   "source": [
    "import matplotlib.pyplot as plt\n",
    "import numpy as np\n",
    "import pandas as pd\n",
    "import seaborn as sns\n",
    "\n",
    "from sklearn.metrics import confusion_matrix,classification_report,f1_score\n",
    "\n",
    "import time\n",
    "import optuna\n",
    "from optuna.integration import TFKerasPruningCallback\n",
    "from optuna.visualization import plot_intermediate_values\n",
    "from optuna.visualization import plot_optimization_history\n",
    "from optuna.visualization import plot_param_importances\n",
    "from optuna.visualization import plot_contour\n",
    "from optuna.visualization import plot_pareto_front\n",
    "\n",
    "from tensorflow.keras import Sequential\n",
    "from tensorflow.keras.backend import clear_session\n",
    "from tensorflow.keras.layers import Input,Dense,concatenate,Dropout,Conv1D,Bidirectional,Embedding,LSTM,SimpleRNN,GlobalAveragePooling1D\n",
    "from tensorflow.keras.models import Model,load_model\n",
    "from tensorflow.keras.optimizers import Adam\n",
    "from tensorflow.keras.utils import plot_model\n",
    "from tensorflow.keras.preprocessing.text import Tokenizer\n",
    "from tensorflow.keras.preprocessing.sequence import pad_sequences\n",
    "from tensorflow.keras.metrics import CategoricalCrossentropy\n",
    "from tensorflow.random import set_seed"
   ]
  },
  {
   "cell_type": "code",
   "execution_count": 2,
   "id": "2f8c328e",
   "metadata": {
    "execution": {
     "iopub.execute_input": "2023-03-09T13:46:44.158935Z",
     "iopub.status.busy": "2023-03-09T13:46:44.157121Z",
     "iopub.status.idle": "2023-03-09T13:46:44.162340Z",
     "shell.execute_reply": "2023-03-09T13:46:44.161490Z"
    },
    "papermill": {
     "duration": 0.012602,
     "end_time": "2023-03-09T13:46:44.164428",
     "exception": false,
     "start_time": "2023-03-09T13:46:44.151826",
     "status": "completed"
    },
    "tags": []
   },
   "outputs": [],
   "source": [
    "set_seed(123)\n",
    "np.random.seed(123)"
   ]
  },
  {
   "cell_type": "code",
   "execution_count": 3,
   "id": "95832228",
   "metadata": {
    "execution": {
     "iopub.execute_input": "2023-03-09T13:46:44.174125Z",
     "iopub.status.busy": "2023-03-09T13:46:44.173868Z",
     "iopub.status.idle": "2023-03-09T13:46:44.208662Z",
     "shell.execute_reply": "2023-03-09T13:46:44.207834Z"
    },
    "papermill": {
     "duration": 0.041999,
     "end_time": "2023-03-09T13:46:44.210586",
     "exception": false,
     "start_time": "2023-03-09T13:46:44.168587",
     "status": "completed"
    },
    "tags": []
   },
   "outputs": [],
   "source": [
    "label_latih=np.load('../input/emot-dataset/label_latih.npy', allow_pickle=True)\n",
    "label_validasi=np.load('../input/emot-dataset/label_validasi.npy', allow_pickle=True)\n",
    "label_uji=np.load('../input/emot-dataset/label_uji.npy', allow_pickle=True)"
   ]
  },
  {
   "cell_type": "code",
   "execution_count": 4,
   "id": "10ba97a6",
   "metadata": {
    "execution": {
     "iopub.execute_input": "2023-03-09T13:46:44.220070Z",
     "iopub.status.busy": "2023-03-09T13:46:44.219794Z",
     "iopub.status.idle": "2023-03-09T13:46:44.223789Z",
     "shell.execute_reply": "2023-03-09T13:46:44.222900Z"
    },
    "papermill": {
     "duration": 0.010816,
     "end_time": "2023-03-09T13:46:44.225692",
     "exception": false,
     "start_time": "2023-03-09T13:46:44.214876",
     "status": "completed"
    },
    "tags": []
   },
   "outputs": [],
   "source": [
    "embedding_dim = 450\n",
    "max_length = 80\n",
    "trunc_type = 'post'\n",
    "padding_type = 'post'\n",
    "oov_tok = \"<OOV>\""
   ]
  },
  {
   "cell_type": "code",
   "execution_count": 5,
   "id": "62b79524",
   "metadata": {
    "execution": {
     "iopub.execute_input": "2023-03-09T13:46:44.235233Z",
     "iopub.status.busy": "2023-03-09T13:46:44.234942Z",
     "iopub.status.idle": "2023-03-09T13:46:44.333943Z",
     "shell.execute_reply": "2023-03-09T13:46:44.333059Z"
    },
    "papermill": {
     "duration": 0.106347,
     "end_time": "2023-03-09T13:46:44.336149",
     "exception": false,
     "start_time": "2023-03-09T13:46:44.229802",
     "status": "completed"
    },
    "tags": []
   },
   "outputs": [],
   "source": [
    "teks_latih_pad=np.load('../input/emot-dataset/teks_latih_pad.npy', allow_pickle=True)\n",
    "teks_latih=np.load('../input/emot-dataset/teks_latih.npy', allow_pickle=True)\n",
    "teks_validasi_pad=np.load('../input/emot-dataset/teks_validasi_pad.npy', allow_pickle=True)\n",
    "teks_validasi=np.load('../input/emot-dataset/teks_validasi.npy', allow_pickle=True)\n",
    "teks_uji_pad=np.load('../input/emot-dataset/teks_uji_pad.npy', allow_pickle=True)\n",
    "teks_uji=np.load('../input/emot-dataset/teks_uji.npy', allow_pickle=True)"
   ]
  },
  {
   "cell_type": "markdown",
   "id": "22938052",
   "metadata": {
    "papermill": {
     "duration": 0.003993,
     "end_time": "2023-03-09T13:46:44.344707",
     "exception": false,
     "start_time": "2023-03-09T13:46:44.340714",
     "status": "completed"
    },
    "tags": []
   },
   "source": [
    "# Modelling"
   ]
  },
  {
   "cell_type": "code",
   "execution_count": 6,
   "id": "f3ceef81",
   "metadata": {
    "execution": {
     "iopub.execute_input": "2023-03-09T13:46:44.354000Z",
     "iopub.status.busy": "2023-03-09T13:46:44.353725Z",
     "iopub.status.idle": "2023-03-09T13:46:44.357943Z",
     "shell.execute_reply": "2023-03-09T13:46:44.356960Z"
    },
    "papermill": {
     "duration": 0.011188,
     "end_time": "2023-03-09T13:46:44.360033",
     "exception": false,
     "start_time": "2023-03-09T13:46:44.348845",
     "status": "completed"
    },
    "tags": []
   },
   "outputs": [],
   "source": [
    "jumlah_token=17039"
   ]
  },
  {
   "cell_type": "code",
   "execution_count": 7,
   "id": "b609315f",
   "metadata": {
    "execution": {
     "iopub.execute_input": "2023-03-09T13:46:44.369867Z",
     "iopub.status.busy": "2023-03-09T13:46:44.369592Z",
     "iopub.status.idle": "2023-03-09T13:46:44.377867Z",
     "shell.execute_reply": "2023-03-09T13:46:44.376873Z"
    },
    "papermill": {
     "duration": 0.015457,
     "end_time": "2023-03-09T13:46:44.379928",
     "exception": false,
     "start_time": "2023-03-09T13:46:44.364471",
     "status": "completed"
    },
    "tags": []
   },
   "outputs": [],
   "source": [
    "def create_model(trial):\n",
    "  lstm_units=np.zeros(2, dtype=int)\n",
    "  lstm_units[0]=trial.suggest_int(\"lstm_units_L1\", 16, 48)\n",
    "  lstm_units[1]=trial.suggest_int(\"lstm_units_L2\", 4, 20)\n",
    "  do1=trial.suggest_float(\"dropout_L1\",0,0.5)\n",
    "  do2=trial.suggest_float(\"dropout_L2\",0,0.5)\n",
    "  lr=trial.suggest_float(\"learning_rate\",1e-5,1e-2)\n",
    "\n",
    "  inputs=Input(shape=(max_length,))\n",
    "  layers=Embedding(jumlah_token, embedding_dim,input_length=max_length,trainable=False)(inputs)\n",
    "  layers=Bidirectional(LSTM(lstm_units[0], return_sequences=True))(layers)\n",
    "  layers=Dropout(do1)(layers)\n",
    "  layers=Bidirectional(LSTM(lstm_units[1]))(layers)\n",
    "  layers=Dropout(do2)(layers)\n",
    "  layers=Dense(8, activation='relu')(layers)\n",
    "  output=Dense(5, activation='softmax')(layers)\n",
    "\n",
    "  model=Model(inputs=[inputs],outputs=[output])\n",
    "\n",
    "  model.compile(optimizer=Adam(learning_rate=lr),loss=\"sparse_categorical_crossentropy\",metrics=[\"accuracy\"])\n",
    "\n",
    "  return model"
   ]
  },
  {
   "cell_type": "markdown",
   "id": "8af238a7",
   "metadata": {
    "papermill": {
     "duration": 0.004138,
     "end_time": "2023-03-09T13:46:44.388335",
     "exception": false,
     "start_time": "2023-03-09T13:46:44.384197",
     "status": "completed"
    },
    "tags": []
   },
   "source": [
    "## Bayesian Optimization (F1-score)"
   ]
  },
  {
   "cell_type": "code",
   "execution_count": 8,
   "id": "46d3f117",
   "metadata": {
    "execution": {
     "iopub.execute_input": "2023-03-09T13:46:44.397884Z",
     "iopub.status.busy": "2023-03-09T13:46:44.397623Z",
     "iopub.status.idle": "2023-03-09T13:46:44.403579Z",
     "shell.execute_reply": "2023-03-09T13:46:44.402612Z"
    },
    "papermill": {
     "duration": 0.013094,
     "end_time": "2023-03-09T13:46:44.405607",
     "exception": false,
     "start_time": "2023-03-09T13:46:44.392513",
     "status": "completed"
    },
    "tags": []
   },
   "outputs": [],
   "source": [
    "#Fungsi Objektif\n",
    "def objective_fun_f1(trial):\n",
    "  model=create_model(trial)\n",
    "\n",
    "  start=time.time()\n",
    "  history=model.fit(teks_latih_pad,label_latih,epochs=25,batch_size=16,callbacks=[TFKerasPruningCallback(trial, \"val_loss\")],\n",
    "                    validation_data=(teks_validasi_pad,label_validasi),verbose=0)\n",
    "  end=time.time()\n",
    "\n",
    "  Label_pred=model.predict(teks_uji_pad)\n",
    "  label_pred=Label_pred.argmax(axis=1)\n",
    "  fscore=f1_score(label_uji, label_pred, average='macro')\n",
    "  duration=end-start\n",
    "  model.save('Bayesian Optimization (F1-score) Model-{}.h5'.format(trial.number))\n",
    "\n",
    "  print(\"F1-Score:\",fscore)\n",
    "  print(\"Duration:\",duration)\n",
    "\n",
    "  return fscore"
   ]
  },
  {
   "cell_type": "code",
   "execution_count": 9,
   "id": "3e9b71fc",
   "metadata": {
    "execution": {
     "iopub.execute_input": "2023-03-09T13:46:44.415596Z",
     "iopub.status.busy": "2023-03-09T13:46:44.415089Z",
     "iopub.status.idle": "2023-03-09T14:28:38.924099Z",
     "shell.execute_reply": "2023-03-09T14:28:38.923119Z"
    },
    "papermill": {
     "duration": 2514.522648,
     "end_time": "2023-03-09T14:28:38.932666",
     "exception": false,
     "start_time": "2023-03-09T13:46:44.410018",
     "status": "completed"
    },
    "tags": []
   },
   "outputs": [
    {
     "name": "stderr",
     "output_type": "stream",
     "text": [
      "\u001b[32m[I 2023-03-09 13:46:44,417]\u001b[0m A new study created in memory with name: BO (F1-score)\u001b[0m\n",
      "\u001b[32m[I 2023-03-09 13:48:33,053]\u001b[0m Trial 0 finished with value: 0.47342114612905684 and parameters: {'lstm_units_L1': 36, 'lstm_units_L2': 12, 'dropout_L1': 0.2473594948079108, 'dropout_L2': 0.36065902385639564, 'learning_rate': 0.0010598554484198056}. Best is trial 0 with value: 0.47342114612905684.\u001b[0m\n"
     ]
    },
    {
     "name": "stdout",
     "output_type": "stream",
     "text": [
      "F1-Score: 0.47342114612905684\n",
      "Duration: 102.45430183410645\n"
     ]
    },
    {
     "name": "stderr",
     "output_type": "stream",
     "text": [
      "\u001b[32m[I 2023-03-09 13:50:15,546]\u001b[0m Trial 1 finished with value: 0.476565128689292 and parameters: {'lstm_units_L1': 46, 'lstm_units_L2': 17, 'dropout_L1': 0.24834636529918147, 'dropout_L2': 0.08795974588372463, 'learning_rate': 0.003927032072488497}. Best is trial 1 with value: 0.476565128689292.\u001b[0m\n"
     ]
    },
    {
     "name": "stdout",
     "output_type": "stream",
     "text": [
      "F1-Score: 0.476565128689292\n",
      "Duration: 100.0890200138092\n"
     ]
    },
    {
     "name": "stderr",
     "output_type": "stream",
     "text": [
      "\u001b[32m[I 2023-03-09 13:51:57,774]\u001b[0m Trial 2 finished with value: 0.49383973621769134 and parameters: {'lstm_units_L1': 43, 'lstm_units_L2': 11, 'dropout_L1': 0.316439996936573, 'dropout_L2': 0.1285817805551775, 'learning_rate': 0.004295152271591475}. Best is trial 2 with value: 0.49383973621769134.\u001b[0m\n"
     ]
    },
    {
     "name": "stdout",
     "output_type": "stream",
     "text": [
      "F1-Score: 0.49383973621769134\n",
      "Duration: 99.43850064277649\n"
     ]
    },
    {
     "name": "stderr",
     "output_type": "stream",
     "text": [
      "\u001b[32m[I 2023-03-09 13:53:39,047]\u001b[0m Trial 3 finished with value: 0.46694738812641673 and parameters: {'lstm_units_L1': 27, 'lstm_units_L2': 8, 'dropout_L1': 0.08776417835681638, 'dropout_L2': 0.3099689551359759, 'learning_rate': 0.002169465994574161}. Best is trial 2 with value: 0.49383973621769134.\u001b[0m\n"
     ]
    },
    {
     "name": "stdout",
     "output_type": "stream",
     "text": [
      "F1-Score: 0.46694738812641673\n",
      "Duration: 98.50444841384888\n"
     ]
    },
    {
     "name": "stderr",
     "output_type": "stream",
     "text": [
      "\u001b[32m[I 2023-03-09 13:55:18,672]\u001b[0m Trial 4 finished with value: 0.08 and parameters: {'lstm_units_L1': 48, 'lstm_units_L2': 20, 'dropout_L1': 0.14554491272776265, 'dropout_L2': 0.08580787322297995, 'learning_rate': 0.006032000603893764}. Best is trial 2 with value: 0.49383973621769134.\u001b[0m\n"
     ]
    },
    {
     "name": "stdout",
     "output_type": "stream",
     "text": [
      "F1-Score: 0.08\n",
      "Duration: 97.02070307731628\n"
     ]
    },
    {
     "name": "stderr",
     "output_type": "stream",
     "text": [
      "\u001b[32m[I 2023-03-09 13:56:59,545]\u001b[0m Trial 5 finished with value: 0.49210527764215983 and parameters: {'lstm_units_L1': 31, 'lstm_units_L2': 13, 'dropout_L1': 0.2626195240949202, 'dropout_L2': 0.47654384982555736, 'learning_rate': 0.007832884836151497}. Best is trial 2 with value: 0.49383973621769134.\u001b[0m\n"
     ]
    },
    {
     "name": "stdout",
     "output_type": "stream",
     "text": [
      "F1-Score: 0.49210527764215983\n",
      "Duration: 98.27427172660828\n"
     ]
    },
    {
     "name": "stderr",
     "output_type": "stream",
     "text": [
      "\u001b[32m[I 2023-03-09 13:58:40,712]\u001b[0m Trial 6 finished with value: 0.3551987626191422 and parameters: {'lstm_units_L1': 38, 'lstm_units_L2': 9, 'dropout_L1': 0.43670856106231215, 'dropout_L2': 0.2939508928105575, 'learning_rate': 0.009382059759335183}. Best is trial 2 with value: 0.49383973621769134.\u001b[0m\n"
     ]
    },
    {
     "name": "stdout",
     "output_type": "stream",
     "text": [
      "F1-Score: 0.3551987626191422\n",
      "Duration: 99.11112976074219\n"
     ]
    },
    {
     "name": "stderr",
     "output_type": "stream",
     "text": [
      "\u001b[32m[I 2023-03-09 14:00:21,012]\u001b[0m Trial 7 finished with value: 0.49753848693502556 and parameters: {'lstm_units_L1': 23, 'lstm_units_L2': 8, 'dropout_L1': 0.09043143284680671, 'dropout_L2': 0.32176450852303706, 'learning_rate': 0.006265757858080431}. Best is trial 7 with value: 0.49753848693502556.\u001b[0m\n"
     ]
    },
    {
     "name": "stdout",
     "output_type": "stream",
     "text": [
      "F1-Score: 0.49753848693502556\n",
      "Duration: 97.24940586090088\n"
     ]
    },
    {
     "name": "stderr",
     "output_type": "stream",
     "text": [
      "\u001b[32m[I 2023-03-09 14:02:01,491]\u001b[0m Trial 8 finished with value: 0.5428091367936703 and parameters: {'lstm_units_L1': 47, 'lstm_units_L2': 20, 'dropout_L1': 0.19975302809066547, 'dropout_L2': 0.3229935057718496, 'learning_rate': 0.005419774867222899}. Best is trial 8 with value: 0.5428091367936703.\u001b[0m\n"
     ]
    },
    {
     "name": "stdout",
     "output_type": "stream",
     "text": [
      "F1-Score: 0.5428091367936703\n",
      "Duration: 97.6805248260498\n"
     ]
    },
    {
     "name": "stderr",
     "output_type": "stream",
     "text": [
      "\u001b[32m[I 2023-03-09 14:03:43,246]\u001b[0m Trial 9 finished with value: 0.5377696816030214 and parameters: {'lstm_units_L1': 37, 'lstm_units_L2': 19, 'dropout_L1': 0.04408497728294175, 'dropout_L2': 0.1600917101126041, 'learning_rate': 0.004399609683973251}. Best is trial 8 with value: 0.5428091367936703.\u001b[0m\n"
     ]
    },
    {
     "name": "stdout",
     "output_type": "stream",
     "text": [
      "F1-Score: 0.5377696816030214\n",
      "Duration: 99.16254329681396\n"
     ]
    },
    {
     "name": "stderr",
     "output_type": "stream",
     "text": [
      "\u001b[32m[I 2023-03-09 14:05:22,396]\u001b[0m Trial 10 finished with value: 0.4078833835276125 and parameters: {'lstm_units_L1': 19, 'lstm_units_L2': 4, 'dropout_L1': 0.48720223620055664, 'dropout_L2': 0.4456947573348855, 'learning_rate': 0.009577177833864548}. Best is trial 8 with value: 0.5428091367936703.\u001b[0m\n"
     ]
    },
    {
     "name": "stdout",
     "output_type": "stream",
     "text": [
      "F1-Score: 0.4078833835276125\n",
      "Duration: 96.56384015083313\n"
     ]
    },
    {
     "name": "stderr",
     "output_type": "stream",
     "text": [
      "\u001b[32m[I 2023-03-09 14:07:01,709]\u001b[0m Trial 11 finished with value: 0.47686989263223667 and parameters: {'lstm_units_L1': 40, 'lstm_units_L2': 20, 'dropout_L1': 0.0006357933900555668, 'dropout_L2': 0.1950219616552475, 'learning_rate': 0.002978943489292142}. Best is trial 8 with value: 0.5428091367936703.\u001b[0m\n"
     ]
    },
    {
     "name": "stdout",
     "output_type": "stream",
     "text": [
      "F1-Score: 0.47686989263223667\n",
      "Duration: 97.24093508720398\n"
     ]
    },
    {
     "name": "stderr",
     "output_type": "stream",
     "text": [
      "\u001b[32m[I 2023-03-09 14:08:41,996]\u001b[0m Trial 12 finished with value: 0.48041948782515764 and parameters: {'lstm_units_L1': 33, 'lstm_units_L2': 16, 'dropout_L1': 0.14712706260760625, 'dropout_L2': 0.20062059124549392, 'learning_rate': 0.0055935770027486145}. Best is trial 8 with value: 0.5428091367936703.\u001b[0m\n"
     ]
    },
    {
     "name": "stdout",
     "output_type": "stream",
     "text": [
      "F1-Score: 0.48041948782515764\n",
      "Duration: 97.24069571495056\n"
     ]
    },
    {
     "name": "stderr",
     "output_type": "stream",
     "text": [
      "\u001b[32m[I 2023-03-09 14:10:23,262]\u001b[0m Trial 13 finished with value: 0.4615428228575963 and parameters: {'lstm_units_L1': 43, 'lstm_units_L2': 17, 'dropout_L1': 0.004199350228439064, 'dropout_L2': 0.007938270062606528, 'learning_rate': 0.00740703872532322}. Best is trial 8 with value: 0.5428091367936703.\u001b[0m\n"
     ]
    },
    {
     "name": "stdout",
     "output_type": "stream",
     "text": [
      "F1-Score: 0.4615428228575963\n",
      "Duration: 98.64279341697693\n"
     ]
    },
    {
     "name": "stderr",
     "output_type": "stream",
     "text": [
      "\u001b[32m[I 2023-03-09 14:12:03,505]\u001b[0m Trial 14 finished with value: 0.5060084459591346 and parameters: {'lstm_units_L1': 31, 'lstm_units_L2': 15, 'dropout_L1': 0.34246091474137885, 'dropout_L2': 0.40506626822756875, 'learning_rate': 0.0030751624654811113}. Best is trial 8 with value: 0.5428091367936703.\u001b[0m\n"
     ]
    },
    {
     "name": "stdout",
     "output_type": "stream",
     "text": [
      "F1-Score: 0.5060084459591346\n",
      "Duration: 97.62759947776794\n"
     ]
    },
    {
     "name": "stderr",
     "output_type": "stream",
     "text": [
      "\u001b[32m[I 2023-03-09 14:13:43,450]\u001b[0m Trial 15 finished with value: 0.456501062111878 and parameters: {'lstm_units_L1': 42, 'lstm_units_L2': 19, 'dropout_L1': 0.1759920978175738, 'dropout_L2': 0.23357104859384006, 'learning_rate': 0.0004437605457197104}. Best is trial 8 with value: 0.5428091367936703.\u001b[0m\n"
     ]
    },
    {
     "name": "stdout",
     "output_type": "stream",
     "text": [
      "F1-Score: 0.456501062111878\n",
      "Duration: 97.8619065284729\n"
     ]
    },
    {
     "name": "stderr",
     "output_type": "stream",
     "text": [
      "\u001b[32m[I 2023-03-09 14:15:23,772]\u001b[0m Trial 16 finished with value: 0.4982777127560009 and parameters: {'lstm_units_L1': 36, 'lstm_units_L2': 14, 'dropout_L1': 0.0719672757953852, 'dropout_L2': 0.13141740445627675, 'learning_rate': 0.004967874654094483}. Best is trial 8 with value: 0.5428091367936703.\u001b[0m\n"
     ]
    },
    {
     "name": "stdout",
     "output_type": "stream",
     "text": [
      "F1-Score: 0.4982777127560009\n",
      "Duration: 97.09853482246399\n"
     ]
    },
    {
     "name": "stderr",
     "output_type": "stream",
     "text": [
      "\u001b[32m[I 2023-03-09 14:17:02,593]\u001b[0m Trial 17 finished with value: 0.46029662420422424 and parameters: {'lstm_units_L1': 48, 'lstm_units_L2': 18, 'dropout_L1': 0.18506249401076527, 'dropout_L2': 0.2760863139047419, 'learning_rate': 0.007213240714651268}. Best is trial 8 with value: 0.5428091367936703.\u001b[0m\n"
     ]
    },
    {
     "name": "stdout",
     "output_type": "stream",
     "text": [
      "F1-Score: 0.46029662420422424\n",
      "Duration: 95.97779941558838\n"
     ]
    },
    {
     "name": "stderr",
     "output_type": "stream",
     "text": [
      "\u001b[32m[I 2023-03-09 14:18:43,013]\u001b[0m Trial 18 finished with value: 0.5152543024060167 and parameters: {'lstm_units_L1': 28, 'lstm_units_L2': 18, 'dropout_L1': 0.35449006915135384, 'dropout_L2': 0.3935737568953715, 'learning_rate': 0.004588715626694806}. Best is trial 8 with value: 0.5428091367936703.\u001b[0m\n"
     ]
    },
    {
     "name": "stdout",
     "output_type": "stream",
     "text": [
      "F1-Score: 0.5152543024060167\n",
      "Duration: 97.46424746513367\n"
     ]
    },
    {
     "name": "stderr",
     "output_type": "stream",
     "text": [
      "\u001b[32m[I 2023-03-09 14:20:21,070]\u001b[0m Trial 19 finished with value: 0.34458368939616296 and parameters: {'lstm_units_L1': 45, 'lstm_units_L2': 4, 'dropout_L1': 0.07200588633762636, 'dropout_L2': 0.21834985400196857, 'learning_rate': 0.0019835266544475975}. Best is trial 8 with value: 0.5428091367936703.\u001b[0m\n"
     ]
    },
    {
     "name": "stdout",
     "output_type": "stream",
     "text": [
      "F1-Score: 0.34458368939616296\n",
      "Duration: 95.72291302680969\n"
     ]
    },
    {
     "name": "stderr",
     "output_type": "stream",
     "text": [
      "\u001b[32m[I 2023-03-09 14:22:01,990]\u001b[0m Trial 20 finished with value: 0.4974301631673903 and parameters: {'lstm_units_L1': 39, 'lstm_units_L2': 20, 'dropout_L1': 0.20223364171390398, 'dropout_L2': 0.003795345044171561, 'learning_rate': 0.0034981017000758445}. Best is trial 8 with value: 0.5428091367936703.\u001b[0m\n"
     ]
    },
    {
     "name": "stdout",
     "output_type": "stream",
     "text": [
      "F1-Score: 0.4974301631673903\n",
      "Duration: 97.38556599617004\n"
     ]
    },
    {
     "name": "stderr",
     "output_type": "stream",
     "text": [
      "\u001b[32m[I 2023-03-09 14:23:41,539]\u001b[0m Trial 21 finished with value: 0.5254012610225436 and parameters: {'lstm_units_L1': 26, 'lstm_units_L2': 18, 'dropout_L1': 0.3786866323255083, 'dropout_L2': 0.40593594857606247, 'learning_rate': 0.0053712959668384}. Best is trial 8 with value: 0.5428091367936703.\u001b[0m\n"
     ]
    },
    {
     "name": "stdout",
     "output_type": "stream",
     "text": [
      "F1-Score: 0.5254012610225436\n",
      "Duration: 96.94266510009766\n"
     ]
    },
    {
     "name": "stderr",
     "output_type": "stream",
     "text": [
      "\u001b[32m[I 2023-03-09 14:25:20,575]\u001b[0m Trial 22 finished with value: 0.4984247853017334 and parameters: {'lstm_units_L1': 24, 'lstm_units_L2': 18, 'dropout_L1': 0.3799066657512738, 'dropout_L2': 0.36735594662776083, 'learning_rate': 0.005529038434164041}. Best is trial 8 with value: 0.5428091367936703.\u001b[0m\n"
     ]
    },
    {
     "name": "stdout",
     "output_type": "stream",
     "text": [
      "F1-Score: 0.4984247853017334\n",
      "Duration: 96.40925168991089\n"
     ]
    },
    {
     "name": "stderr",
     "output_type": "stream",
     "text": [
      "\u001b[32m[I 2023-03-09 14:26:58,559]\u001b[0m Trial 23 finished with value: 0.5048609264654231 and parameters: {'lstm_units_L1': 16, 'lstm_units_L2': 16, 'dropout_L1': 0.41258931213743244, 'dropout_L2': 0.4439499236277576, 'learning_rate': 0.006612084219981152}. Best is trial 8 with value: 0.5428091367936703.\u001b[0m\n"
     ]
    },
    {
     "name": "stdout",
     "output_type": "stream",
     "text": [
      "F1-Score: 0.5048609264654231\n",
      "Duration: 95.86178994178772\n"
     ]
    },
    {
     "name": "stderr",
     "output_type": "stream",
     "text": [
      "\u001b[32m[I 2023-03-09 14:28:38,919]\u001b[0m Trial 24 finished with value: 0.502392719553504 and parameters: {'lstm_units_L1': 23, 'lstm_units_L2': 19, 'dropout_L1': 0.2995747898095854, 'dropout_L2': 0.15248494034070081, 'learning_rate': 0.008310129336805172}. Best is trial 8 with value: 0.5428091367936703.\u001b[0m\n"
     ]
    },
    {
     "name": "stdout",
     "output_type": "stream",
     "text": [
      "F1-Score: 0.502392719553504\n",
      "Duration: 97.24480128288269\n"
     ]
    }
   ],
   "source": [
    "study3=optuna.create_study(study_name=\"BO (F1-score)\",\n",
    "                          direction=\"maximize\", \n",
    "                          sampler=optuna.samplers.TPESampler(), \n",
    "                          pruner=optuna.pruners.NopPruner())\n",
    "study3.optimize(objective_fun_f1,n_trials=25)"
   ]
  },
  {
   "cell_type": "code",
   "execution_count": 10,
   "id": "ee8ff7f8",
   "metadata": {
    "execution": {
     "iopub.execute_input": "2023-03-09T14:28:38.947355Z",
     "iopub.status.busy": "2023-03-09T14:28:38.947053Z",
     "iopub.status.idle": "2023-03-09T14:28:39.102040Z",
     "shell.execute_reply": "2023-03-09T14:28:39.101206Z"
    },
    "papermill": {
     "duration": 0.164797,
     "end_time": "2023-03-09T14:28:39.104202",
     "exception": false,
     "start_time": "2023-03-09T14:28:38.939405",
     "status": "completed"
    },
    "tags": []
   },
   "outputs": [
    {
     "data": {
      "text/html": [
       "        <script type=\"text/javascript\">\n",
       "        window.PlotlyConfig = {MathJaxConfig: 'local'};\n",
       "        if (window.MathJax && window.MathJax.Hub && window.MathJax.Hub.Config) {window.MathJax.Hub.Config({SVG: {font: \"STIX-Web\"}});}\n",
       "        if (typeof require !== 'undefined') {\n",
       "        require.undef(\"plotly\");\n",
       "        requirejs.config({\n",
       "            paths: {\n",
       "                'plotly': ['https://cdn.plot.ly/plotly-2.14.0.min']\n",
       "            }\n",
       "        });\n",
       "        require(['plotly'], function(Plotly) {\n",
       "            window._Plotly = Plotly;\n",
       "        });\n",
       "        }\n",
       "        </script>\n",
       "        "
      ]
     },
     "metadata": {},
     "output_type": "display_data"
    },
    {
     "data": {
      "text/html": [
       "<div>                            <div id=\"56c0e0ee-6243-4e38-8fbe-a3bcb301777a\" class=\"plotly-graph-div\" style=\"height:525px; width:100%;\"></div>            <script type=\"text/javascript\">                require([\"plotly\"], function(Plotly) {                    window.PLOTLYENV=window.PLOTLYENV || {};                                    if (document.getElementById(\"56c0e0ee-6243-4e38-8fbe-a3bcb301777a\")) {                    Plotly.newPlot(                        \"56c0e0ee-6243-4e38-8fbe-a3bcb301777a\",                        [{\"mode\":\"markers\",\"name\":\"Objective Value\",\"x\":[0,1,2,3,4,5,6,7,8,9,10,11,12,13,14,15,16,17,18,19,20,21,22,23,24],\"y\":[0.47342114612905684,0.476565128689292,0.49383973621769134,0.46694738812641673,0.08,0.49210527764215983,0.3551987626191422,0.49753848693502556,0.5428091367936703,0.5377696816030214,0.4078833835276125,0.47686989263223667,0.48041948782515764,0.4615428228575963,0.5060084459591346,0.456501062111878,0.4982777127560009,0.46029662420422424,0.5152543024060167,0.34458368939616296,0.4974301631673903,0.5254012610225436,0.4984247853017334,0.5048609264654231,0.502392719553504],\"type\":\"scatter\"},{\"name\":\"Best Value\",\"x\":[0,1,2,3,4,5,6,7,8,9,10,11,12,13,14,15,16,17,18,19,20,21,22,23,24],\"y\":[0.47342114612905684,0.476565128689292,0.49383973621769134,0.49383973621769134,0.49383973621769134,0.49383973621769134,0.49383973621769134,0.49753848693502556,0.5428091367936703,0.5428091367936703,0.5428091367936703,0.5428091367936703,0.5428091367936703,0.5428091367936703,0.5428091367936703,0.5428091367936703,0.5428091367936703,0.5428091367936703,0.5428091367936703,0.5428091367936703,0.5428091367936703,0.5428091367936703,0.5428091367936703,0.5428091367936703,0.5428091367936703],\"type\":\"scatter\"}],                        {\"title\":{\"text\":\"Optimization History Plot\"},\"xaxis\":{\"title\":{\"text\":\"Trial\"}},\"yaxis\":{\"title\":{\"text\":\"Objective Value\"}},\"template\":{\"data\":{\"histogram2dcontour\":[{\"type\":\"histogram2dcontour\",\"colorbar\":{\"outlinewidth\":0,\"ticks\":\"\"},\"colorscale\":[[0.0,\"#0d0887\"],[0.1111111111111111,\"#46039f\"],[0.2222222222222222,\"#7201a8\"],[0.3333333333333333,\"#9c179e\"],[0.4444444444444444,\"#bd3786\"],[0.5555555555555556,\"#d8576b\"],[0.6666666666666666,\"#ed7953\"],[0.7777777777777778,\"#fb9f3a\"],[0.8888888888888888,\"#fdca26\"],[1.0,\"#f0f921\"]]}],\"choropleth\":[{\"type\":\"choropleth\",\"colorbar\":{\"outlinewidth\":0,\"ticks\":\"\"}}],\"histogram2d\":[{\"type\":\"histogram2d\",\"colorbar\":{\"outlinewidth\":0,\"ticks\":\"\"},\"colorscale\":[[0.0,\"#0d0887\"],[0.1111111111111111,\"#46039f\"],[0.2222222222222222,\"#7201a8\"],[0.3333333333333333,\"#9c179e\"],[0.4444444444444444,\"#bd3786\"],[0.5555555555555556,\"#d8576b\"],[0.6666666666666666,\"#ed7953\"],[0.7777777777777778,\"#fb9f3a\"],[0.8888888888888888,\"#fdca26\"],[1.0,\"#f0f921\"]]}],\"heatmap\":[{\"type\":\"heatmap\",\"colorbar\":{\"outlinewidth\":0,\"ticks\":\"\"},\"colorscale\":[[0.0,\"#0d0887\"],[0.1111111111111111,\"#46039f\"],[0.2222222222222222,\"#7201a8\"],[0.3333333333333333,\"#9c179e\"],[0.4444444444444444,\"#bd3786\"],[0.5555555555555556,\"#d8576b\"],[0.6666666666666666,\"#ed7953\"],[0.7777777777777778,\"#fb9f3a\"],[0.8888888888888888,\"#fdca26\"],[1.0,\"#f0f921\"]]}],\"heatmapgl\":[{\"type\":\"heatmapgl\",\"colorbar\":{\"outlinewidth\":0,\"ticks\":\"\"},\"colorscale\":[[0.0,\"#0d0887\"],[0.1111111111111111,\"#46039f\"],[0.2222222222222222,\"#7201a8\"],[0.3333333333333333,\"#9c179e\"],[0.4444444444444444,\"#bd3786\"],[0.5555555555555556,\"#d8576b\"],[0.6666666666666666,\"#ed7953\"],[0.7777777777777778,\"#fb9f3a\"],[0.8888888888888888,\"#fdca26\"],[1.0,\"#f0f921\"]]}],\"contourcarpet\":[{\"type\":\"contourcarpet\",\"colorbar\":{\"outlinewidth\":0,\"ticks\":\"\"}}],\"contour\":[{\"type\":\"contour\",\"colorbar\":{\"outlinewidth\":0,\"ticks\":\"\"},\"colorscale\":[[0.0,\"#0d0887\"],[0.1111111111111111,\"#46039f\"],[0.2222222222222222,\"#7201a8\"],[0.3333333333333333,\"#9c179e\"],[0.4444444444444444,\"#bd3786\"],[0.5555555555555556,\"#d8576b\"],[0.6666666666666666,\"#ed7953\"],[0.7777777777777778,\"#fb9f3a\"],[0.8888888888888888,\"#fdca26\"],[1.0,\"#f0f921\"]]}],\"surface\":[{\"type\":\"surface\",\"colorbar\":{\"outlinewidth\":0,\"ticks\":\"\"},\"colorscale\":[[0.0,\"#0d0887\"],[0.1111111111111111,\"#46039f\"],[0.2222222222222222,\"#7201a8\"],[0.3333333333333333,\"#9c179e\"],[0.4444444444444444,\"#bd3786\"],[0.5555555555555556,\"#d8576b\"],[0.6666666666666666,\"#ed7953\"],[0.7777777777777778,\"#fb9f3a\"],[0.8888888888888888,\"#fdca26\"],[1.0,\"#f0f921\"]]}],\"mesh3d\":[{\"type\":\"mesh3d\",\"colorbar\":{\"outlinewidth\":0,\"ticks\":\"\"}}],\"scatter\":[{\"fillpattern\":{\"fillmode\":\"overlay\",\"size\":10,\"solidity\":0.2},\"type\":\"scatter\"}],\"parcoords\":[{\"type\":\"parcoords\",\"line\":{\"colorbar\":{\"outlinewidth\":0,\"ticks\":\"\"}}}],\"scatterpolargl\":[{\"type\":\"scatterpolargl\",\"marker\":{\"colorbar\":{\"outlinewidth\":0,\"ticks\":\"\"}}}],\"bar\":[{\"error_x\":{\"color\":\"#2a3f5f\"},\"error_y\":{\"color\":\"#2a3f5f\"},\"marker\":{\"line\":{\"color\":\"#E5ECF6\",\"width\":0.5},\"pattern\":{\"fillmode\":\"overlay\",\"size\":10,\"solidity\":0.2}},\"type\":\"bar\"}],\"scattergeo\":[{\"type\":\"scattergeo\",\"marker\":{\"colorbar\":{\"outlinewidth\":0,\"ticks\":\"\"}}}],\"scatterpolar\":[{\"type\":\"scatterpolar\",\"marker\":{\"colorbar\":{\"outlinewidth\":0,\"ticks\":\"\"}}}],\"histogram\":[{\"marker\":{\"pattern\":{\"fillmode\":\"overlay\",\"size\":10,\"solidity\":0.2}},\"type\":\"histogram\"}],\"scattergl\":[{\"type\":\"scattergl\",\"marker\":{\"colorbar\":{\"outlinewidth\":0,\"ticks\":\"\"}}}],\"scatter3d\":[{\"type\":\"scatter3d\",\"line\":{\"colorbar\":{\"outlinewidth\":0,\"ticks\":\"\"}},\"marker\":{\"colorbar\":{\"outlinewidth\":0,\"ticks\":\"\"}}}],\"scattermapbox\":[{\"type\":\"scattermapbox\",\"marker\":{\"colorbar\":{\"outlinewidth\":0,\"ticks\":\"\"}}}],\"scatterternary\":[{\"type\":\"scatterternary\",\"marker\":{\"colorbar\":{\"outlinewidth\":0,\"ticks\":\"\"}}}],\"scattercarpet\":[{\"type\":\"scattercarpet\",\"marker\":{\"colorbar\":{\"outlinewidth\":0,\"ticks\":\"\"}}}],\"carpet\":[{\"aaxis\":{\"endlinecolor\":\"#2a3f5f\",\"gridcolor\":\"white\",\"linecolor\":\"white\",\"minorgridcolor\":\"white\",\"startlinecolor\":\"#2a3f5f\"},\"baxis\":{\"endlinecolor\":\"#2a3f5f\",\"gridcolor\":\"white\",\"linecolor\":\"white\",\"minorgridcolor\":\"white\",\"startlinecolor\":\"#2a3f5f\"},\"type\":\"carpet\"}],\"table\":[{\"cells\":{\"fill\":{\"color\":\"#EBF0F8\"},\"line\":{\"color\":\"white\"}},\"header\":{\"fill\":{\"color\":\"#C8D4E3\"},\"line\":{\"color\":\"white\"}},\"type\":\"table\"}],\"barpolar\":[{\"marker\":{\"line\":{\"color\":\"#E5ECF6\",\"width\":0.5},\"pattern\":{\"fillmode\":\"overlay\",\"size\":10,\"solidity\":0.2}},\"type\":\"barpolar\"}],\"pie\":[{\"automargin\":true,\"type\":\"pie\"}]},\"layout\":{\"autotypenumbers\":\"strict\",\"colorway\":[\"#636efa\",\"#EF553B\",\"#00cc96\",\"#ab63fa\",\"#FFA15A\",\"#19d3f3\",\"#FF6692\",\"#B6E880\",\"#FF97FF\",\"#FECB52\"],\"font\":{\"color\":\"#2a3f5f\"},\"hovermode\":\"closest\",\"hoverlabel\":{\"align\":\"left\"},\"paper_bgcolor\":\"white\",\"plot_bgcolor\":\"#E5ECF6\",\"polar\":{\"bgcolor\":\"#E5ECF6\",\"angularaxis\":{\"gridcolor\":\"white\",\"linecolor\":\"white\",\"ticks\":\"\"},\"radialaxis\":{\"gridcolor\":\"white\",\"linecolor\":\"white\",\"ticks\":\"\"}},\"ternary\":{\"bgcolor\":\"#E5ECF6\",\"aaxis\":{\"gridcolor\":\"white\",\"linecolor\":\"white\",\"ticks\":\"\"},\"baxis\":{\"gridcolor\":\"white\",\"linecolor\":\"white\",\"ticks\":\"\"},\"caxis\":{\"gridcolor\":\"white\",\"linecolor\":\"white\",\"ticks\":\"\"}},\"coloraxis\":{\"colorbar\":{\"outlinewidth\":0,\"ticks\":\"\"}},\"colorscale\":{\"sequential\":[[0.0,\"#0d0887\"],[0.1111111111111111,\"#46039f\"],[0.2222222222222222,\"#7201a8\"],[0.3333333333333333,\"#9c179e\"],[0.4444444444444444,\"#bd3786\"],[0.5555555555555556,\"#d8576b\"],[0.6666666666666666,\"#ed7953\"],[0.7777777777777778,\"#fb9f3a\"],[0.8888888888888888,\"#fdca26\"],[1.0,\"#f0f921\"]],\"sequentialminus\":[[0.0,\"#0d0887\"],[0.1111111111111111,\"#46039f\"],[0.2222222222222222,\"#7201a8\"],[0.3333333333333333,\"#9c179e\"],[0.4444444444444444,\"#bd3786\"],[0.5555555555555556,\"#d8576b\"],[0.6666666666666666,\"#ed7953\"],[0.7777777777777778,\"#fb9f3a\"],[0.8888888888888888,\"#fdca26\"],[1.0,\"#f0f921\"]],\"diverging\":[[0,\"#8e0152\"],[0.1,\"#c51b7d\"],[0.2,\"#de77ae\"],[0.3,\"#f1b6da\"],[0.4,\"#fde0ef\"],[0.5,\"#f7f7f7\"],[0.6,\"#e6f5d0\"],[0.7,\"#b8e186\"],[0.8,\"#7fbc41\"],[0.9,\"#4d9221\"],[1,\"#276419\"]]},\"xaxis\":{\"gridcolor\":\"white\",\"linecolor\":\"white\",\"ticks\":\"\",\"title\":{\"standoff\":15},\"zerolinecolor\":\"white\",\"automargin\":true,\"zerolinewidth\":2},\"yaxis\":{\"gridcolor\":\"white\",\"linecolor\":\"white\",\"ticks\":\"\",\"title\":{\"standoff\":15},\"zerolinecolor\":\"white\",\"automargin\":true,\"zerolinewidth\":2},\"scene\":{\"xaxis\":{\"backgroundcolor\":\"#E5ECF6\",\"gridcolor\":\"white\",\"linecolor\":\"white\",\"showbackground\":true,\"ticks\":\"\",\"zerolinecolor\":\"white\",\"gridwidth\":2},\"yaxis\":{\"backgroundcolor\":\"#E5ECF6\",\"gridcolor\":\"white\",\"linecolor\":\"white\",\"showbackground\":true,\"ticks\":\"\",\"zerolinecolor\":\"white\",\"gridwidth\":2},\"zaxis\":{\"backgroundcolor\":\"#E5ECF6\",\"gridcolor\":\"white\",\"linecolor\":\"white\",\"showbackground\":true,\"ticks\":\"\",\"zerolinecolor\":\"white\",\"gridwidth\":2}},\"shapedefaults\":{\"line\":{\"color\":\"#2a3f5f\"}},\"annotationdefaults\":{\"arrowcolor\":\"#2a3f5f\",\"arrowhead\":0,\"arrowwidth\":1},\"geo\":{\"bgcolor\":\"white\",\"landcolor\":\"#E5ECF6\",\"subunitcolor\":\"white\",\"showland\":true,\"showlakes\":true,\"lakecolor\":\"white\"},\"title\":{\"x\":0.05},\"mapbox\":{\"style\":\"light\"}}}},                        {\"responsive\": true}                    ).then(function(){\n",
       "                            \n",
       "var gd = document.getElementById('56c0e0ee-6243-4e38-8fbe-a3bcb301777a');\n",
       "var x = new MutationObserver(function (mutations, observer) {{\n",
       "        var display = window.getComputedStyle(gd).display;\n",
       "        if (!display || display === 'none') {{\n",
       "            console.log([gd, 'removed!']);\n",
       "            Plotly.purge(gd);\n",
       "            observer.disconnect();\n",
       "        }}\n",
       "}});\n",
       "\n",
       "// Listen for the removal of the full notebook cells\n",
       "var notebookContainer = gd.closest('#notebook-container');\n",
       "if (notebookContainer) {{\n",
       "    x.observe(notebookContainer, {childList: true});\n",
       "}}\n",
       "\n",
       "// Listen for the clearing of the current output cell\n",
       "var outputEl = gd.closest('.output');\n",
       "if (outputEl) {{\n",
       "    x.observe(outputEl, {childList: true});\n",
       "}}\n",
       "\n",
       "                        })                };                });            </script>        </div>"
      ]
     },
     "metadata": {},
     "output_type": "display_data"
    }
   ],
   "source": [
    "plot_optimization_history(study3)"
   ]
  },
  {
   "cell_type": "code",
   "execution_count": 11,
   "id": "c0b8f7ab",
   "metadata": {
    "execution": {
     "iopub.execute_input": "2023-03-09T14:28:39.120196Z",
     "iopub.status.busy": "2023-03-09T14:28:39.119878Z",
     "iopub.status.idle": "2023-03-09T14:28:39.161669Z",
     "shell.execute_reply": "2023-03-09T14:28:39.160603Z"
    },
    "papermill": {
     "duration": 0.052468,
     "end_time": "2023-03-09T14:28:39.163944",
     "exception": false,
     "start_time": "2023-03-09T14:28:39.111476",
     "status": "completed"
    },
    "tags": []
   },
   "outputs": [
    {
     "data": {
      "text/html": [
       "<div>                            <div id=\"211cc2fe-9147-4da5-9f18-64255cf41053\" class=\"plotly-graph-div\" style=\"height:525px; width:100%;\"></div>            <script type=\"text/javascript\">                require([\"plotly\"], function(Plotly) {                    window.PLOTLYENV=window.PLOTLYENV || {};                                    if (document.getElementById(\"211cc2fe-9147-4da5-9f18-64255cf41053\")) {                    Plotly.newPlot(                        \"211cc2fe-9147-4da5-9f18-64255cf41053\",                        [{\"marker\":{\"maxdisplayed\":10},\"mode\":\"lines+markers\",\"name\":\"Trial0\",\"x\":[0,1,2,3,4,5,6,7,8,9,10,11,12,13,14,15,16,17,18,19,20,21,22,23,24],\"y\":[1.5168555974960327,1.4015225172042847,1.3593580722808838,1.3604542016983032,1.2838870286941528,1.4340816736221313,1.4205689430236816,1.4325356483459473,1.4793950319290161,1.5108524560928345,1.5151069164276123,1.6346282958984375,1.5719432830810547,1.6926226615905762,1.6908626556396484,1.7388839721679688,1.8537838459014893,1.8875941038131714,1.8664191961288452,1.9945253133773804,2.029744863510132,2.232006549835205,2.1068484783172607,2.1300625801086426,2.228477716445923],\"type\":\"scatter\"},{\"marker\":{\"maxdisplayed\":10},\"mode\":\"lines+markers\",\"name\":\"Trial1\",\"x\":[0,1,2,3,4,5,6,7,8,9,10,11,12,13,14,15,16,17,18,19,20,21,22,23,24],\"y\":[1.514938235282898,1.4799124002456665,1.4207559823989868,1.4081798791885376,1.342063546180725,1.3866465091705322,1.2938904762268066,1.661361813545227,1.532333254814148,1.5845533609390259,1.7248011827468872,1.9713963270187378,1.8533238172531128,2.0387003421783447,2.3050296306610107,2.116091728210449,2.625908613204956,2.694899082183838,2.719510078430176,2.5283896923065186,2.7049612998962402,2.802757501602173,3.0754213333129883,2.8127553462982178,3.0658302307128906],\"type\":\"scatter\"},{\"marker\":{\"maxdisplayed\":10},\"mode\":\"lines+markers\",\"name\":\"Trial2\",\"x\":[0,1,2,3,4,5,6,7,8,9,10,11,12,13,14,15,16,17,18,19,20,21,22,23,24],\"y\":[1.477269172668457,1.3781976699829102,1.3609418869018555,1.3085744380950928,1.2983005046844482,1.3745474815368652,1.3611247539520264,1.4594262838363647,1.4927887916564941,1.5816439390182495,1.5778182744979858,1.862993836402893,1.7714247703552246,1.838364839553833,2.1430275440216064,2.222579002380371,2.470583915710449,2.453631639480591,2.7464592456817627,2.1545886993408203,2.570430040359497,3.0587375164031982,3.226870059967041,2.704789400100708,2.8274435997009277],\"type\":\"scatter\"},{\"marker\":{\"maxdisplayed\":10},\"mode\":\"lines+markers\",\"name\":\"Trial3\",\"x\":[0,1,2,3,4,5,6,7,8,9,10,11,12,13,14,15,16,17,18,19,20,21,22,23,24],\"y\":[1.5460729598999023,1.5685367584228516,1.3287208080291748,1.2858806848526,1.341526985168457,1.308686375617981,1.3067196607589722,1.3348397016525269,1.357762098312378,1.4140491485595703,1.4466074705123901,1.6950881481170654,1.5418386459350586,1.5310825109481812,1.6279163360595703,1.7281067371368408,1.7910373210906982,1.9169187545776367,1.9365659952163696,1.7514859437942505,1.999575138092041,2.1327290534973145,2.1670453548431396,2.2169578075408936,2.5080583095550537],\"type\":\"scatter\"},{\"marker\":{\"maxdisplayed\":10},\"mode\":\"lines+markers\",\"name\":\"Trial4\",\"x\":[0,1,2,3,4,5,6,7,8,9,10,11,12,13,14,15,16,17,18,19,20,21,22,23,24],\"y\":[1.4565006494522095,1.5040090084075928,1.6087048053741455,1.584438681602478,1.5840328931808472,1.584769606590271,1.5841706991195679,1.5841307640075684,1.5840739011764526,1.584335207939148,1.5844870805740356,1.5844266414642334,1.5844348669052124,1.5842610597610474,1.5842562913894653,1.584283709526062,1.5841071605682373,1.584267020225525,1.5841728448867798,1.584176778793335,1.5840790271759033,1.584532618522644,1.5847123861312866,1.5842489004135132,1.5841877460479736],\"type\":\"scatter\"},{\"marker\":{\"maxdisplayed\":10},\"mode\":\"lines+markers\",\"name\":\"Trial5\",\"x\":[0,1,2,3,4,5,6,7,8,9,10,11,12,13,14,15,16,17,18,19,20,21,22,23,24],\"y\":[1.5558754205703735,1.4192513227462769,1.346795916557312,1.3500808477401733,1.3822858333587646,1.3711163997650146,1.3564574718475342,1.534114956855774,1.5264488458633423,1.4872506856918335,1.6746870279312134,1.8151744604110718,1.8053832054138184,2.008625030517578,1.8092933893203735,2.23283314704895,1.9596961736679077,2.080669403076172,2.269080638885498,2.686194896697998,2.3601129055023193,2.594208240509033,2.5260682106018066,2.6309683322906494,3.1935815811157227],\"type\":\"scatter\"},{\"marker\":{\"maxdisplayed\":10},\"mode\":\"lines+markers\",\"name\":\"Trial6\",\"x\":[0,1,2,3,4,5,6,7,8,9,10,11,12,13,14,15,16,17,18,19,20,21,22,23,24],\"y\":[1.5833463668823242,1.5876842737197876,1.5759888887405396,1.561498999595642,1.5752815008163452,1.543818712234497,1.5547553300857544,1.5516077280044556,1.544550895690918,1.4729658365249634,1.3926401138305664,1.3673462867736816,1.3890650272369385,1.5221449136734009,1.4324885606765747,1.5299139022827148,1.5093992948532104,1.5887877941131592,1.5364861488342285,1.7278544902801514,1.894148826599121,1.9849317073822021,1.7015436887741089,2.2887401580810547,1.9027478694915771],\"type\":\"scatter\"},{\"marker\":{\"maxdisplayed\":10},\"mode\":\"lines+markers\",\"name\":\"Trial7\",\"x\":[0,1,2,3,4,5,6,7,8,9,10,11,12,13,14,15,16,17,18,19,20,21,22,23,24],\"y\":[1.494828224182129,1.4230340719223022,1.427648663520813,1.3807616233825684,1.405173659324646,1.4150136709213257,1.4562188386917114,1.4504010677337646,1.4559011459350586,1.510886549949646,1.592980146408081,1.5309292078018188,1.579605221748352,1.720522403717041,1.7505712509155273,2.0348458290100098,1.9791642427444458,2.261532783508301,2.3742079734802246,2.051511287689209,2.399235486984253,2.5254063606262207,2.686300754547119,2.705106258392334,2.749303102493286],\"type\":\"scatter\"},{\"marker\":{\"maxdisplayed\":10},\"mode\":\"lines+markers\",\"name\":\"Trial8\",\"x\":[0,1,2,3,4,5,6,7,8,9,10,11,12,13,14,15,16,17,18,19,20,21,22,23,24],\"y\":[1.553026556968689,1.3983700275421143,1.3737848997116089,1.3874768018722534,1.3474055528640747,1.2702029943466187,1.2222857475280762,1.2360326051712036,1.2862008810043335,1.2535595893859863,1.2463440895080566,1.344374418258667,1.357340693473816,1.4237571954727173,1.5370676517486572,1.6163661479949951,1.4840675592422485,1.714126706123352,1.8008836507797241,1.8197866678237915,1.9043217897415161,2.007990837097168,1.9422262907028198,2.3410420417785645,2.4395925998687744],\"type\":\"scatter\"},{\"marker\":{\"maxdisplayed\":10},\"mode\":\"lines+markers\",\"name\":\"Trial9\",\"x\":[0,1,2,3,4,5,6,7,8,9,10,11,12,13,14,15,16,17,18,19,20,21,22,23,24],\"y\":[1.3855767250061035,1.418453335762024,1.3728643655776978,1.4020198583602905,1.3343312740325928,1.3007093667984009,1.3220672607421875,1.3031706809997559,1.4161953926086426,1.5881015062332153,1.7225648164749146,1.7662211656570435,1.9680098295211792,2.1283621788024902,2.3664839267730713,2.4496233463287354,2.6530051231384277,3.086778163909912,3.2604362964630127,2.8899567127227783,3.4210870265960693,3.287548303604126,2.788719892501831,2.944333076477051,3.3598108291625977],\"type\":\"scatter\"},{\"marker\":{\"maxdisplayed\":10},\"mode\":\"lines+markers\",\"name\":\"Trial10\",\"x\":[0,1,2,3,4,5,6,7,8,9,10,11,12,13,14,15,16,17,18,19,20,21,22,23,24],\"y\":[1.5777086019515991,1.5592000484466553,1.4719934463500977,1.353964924812317,1.339822769165039,1.329736351966858,1.3532238006591797,1.4096544981002808,1.4382708072662354,1.4840633869171143,1.5374201536178589,1.5506293773651123,1.5366674661636353,1.652037501335144,1.7254152297973633,1.6787632703781128,1.9022834300994873,1.939548134803772,1.8822460174560547,2.0795791149139404,2.0416207313537598,2.3044071197509766,2.0726077556610107,2.5084962844848633,2.360114574432373],\"type\":\"scatter\"},{\"marker\":{\"maxdisplayed\":10},\"mode\":\"lines+markers\",\"name\":\"Trial11\",\"x\":[0,1,2,3,4,5,6,7,8,9,10,11,12,13,14,15,16,17,18,19,20,21,22,23,24],\"y\":[1.4044119119644165,1.42588472366333,1.4175822734832764,1.3188774585723877,1.283031940460205,1.2743488550186157,1.2578444480895996,1.3152434825897217,1.30881667137146,1.3295201063156128,1.3682036399841309,1.394874930381775,1.4576042890548706,1.4702346324920654,1.4211833477020264,1.6485384702682495,1.6352455615997314,1.7071439027786255,1.8956109285354614,1.9732437133789062,2.1003031730651855,2.038642644882202,2.1143622398376465,2.360989570617676,2.3211777210235596],\"type\":\"scatter\"},{\"marker\":{\"maxdisplayed\":10},\"mode\":\"lines+markers\",\"name\":\"Trial12\",\"x\":[0,1,2,3,4,5,6,7,8,9,10,11,12,13,14,15,16,17,18,19,20,21,22,23,24],\"y\":[1.519290566444397,1.3936330080032349,1.3383212089538574,1.3035165071487427,1.3611769676208496,1.3168022632598877,1.3275258541107178,1.4218294620513916,1.469201922416687,1.4532146453857422,1.5889233350753784,1.807336449623108,1.8066307306289673,1.9013245105743408,1.9015289545059204,2.210531711578369,2.334536552429199,2.3194961547851562,2.33674693107605,2.3269834518432617,2.920529842376709,2.8525490760803223,3.006225109100342,3.0287957191467285,3.0717434883117676],\"type\":\"scatter\"},{\"marker\":{\"maxdisplayed\":10},\"mode\":\"lines+markers\",\"name\":\"Trial13\",\"x\":[0,1,2,3,4,5,6,7,8,9,10,11,12,13,14,15,16,17,18,19,20,21,22,23,24],\"y\":[1.4054195880889893,1.4250003099441528,1.4333873987197876,1.3910598754882812,1.404491901397705,1.439048409461975,1.4163413047790527,1.3490773439407349,1.485766053199768,1.6163160800933838,1.934218168258667,2.059917688369751,2.5622105598449707,2.5199954509735107,2.5654048919677734,2.843515634536743,2.910447359085083,3.5355513095855713,3.428072929382324,3.597949266433716,3.8032639026641846,3.294950485229492,3.4915640354156494,3.6134116649627686,4.087055206298828],\"type\":\"scatter\"},{\"marker\":{\"maxdisplayed\":10},\"mode\":\"lines+markers\",\"name\":\"Trial14\",\"x\":[0,1,2,3,4,5,6,7,8,9,10,11,12,13,14,15,16,17,18,19,20,21,22,23,24],\"y\":[1.5593382120132446,1.465562105178833,1.4218782186508179,1.3376095294952393,1.3506187200546265,1.3416796922683716,1.3061193227767944,1.363442301750183,1.372009038925171,1.4573107957839966,1.6203365325927734,1.7201099395751953,1.7503091096878052,1.7731736898422241,1.9656167030334473,1.8707817792892456,2.1923210620880127,2.2187912464141846,2.364687204360962,2.140629768371582,2.3255422115325928,2.2053327560424805,2.423642158508301,2.752642869949341,2.6282541751861572],\"type\":\"scatter\"},{\"marker\":{\"maxdisplayed\":10},\"mode\":\"lines+markers\",\"name\":\"Trial15\",\"x\":[0,1,2,3,4,5,6,7,8,9,10,11,12,13,14,15,16,17,18,19,20,21,22,23,24],\"y\":[1.5407987833023071,1.4417998790740967,1.3864810466766357,1.3673632144927979,1.332729458808899,1.3143926858901978,1.3337658643722534,1.302960753440857,1.2800465822219849,1.2797104120254517,1.3028253316879272,1.3043568134307861,1.3393467664718628,1.3261568546295166,1.3491162061691284,1.3700459003448486,1.4690659046173096,1.4830816984176636,1.4541820287704468,1.402692198753357,1.4486407041549683,1.4586378335952759,1.4943513870239258,1.4725373983383179,1.5630409717559814],\"type\":\"scatter\"},{\"marker\":{\"maxdisplayed\":10},\"mode\":\"lines+markers\",\"name\":\"Trial16\",\"x\":[0,1,2,3,4,5,6,7,8,9,10,11,12,13,14,15,16,17,18,19,20,21,22,23,24],\"y\":[1.5843626260757446,1.5868507623672485,1.5415340662002563,1.5135207176208496,1.350216269493103,1.342455506324768,1.3454046249389648,1.3498375415802002,1.3363468647003174,1.3197029829025269,1.2083810567855835,1.3420261144638062,1.3442721366882324,1.3926143646240234,1.521496057510376,1.6631284952163696,1.9445215463638306,1.785186767578125,1.90675687789917,2.073352098464966,2.4819629192352295,2.221714496612549,2.681630849838257,2.7683234214782715,2.802020788192749],\"type\":\"scatter\"},{\"marker\":{\"maxdisplayed\":10},\"mode\":\"lines+markers\",\"name\":\"Trial17\",\"x\":[0,1,2,3,4,5,6,7,8,9,10,11,12,13,14,15,16,17,18,19,20,21,22,23,24],\"y\":[1.5521891117095947,2.2610127925872803,1.572501540184021,1.5442917346954346,1.4335579872131348,1.4994670152664185,1.4203392267227173,1.486521601676941,1.5039540529251099,1.5278342962265015,1.6235520839691162,1.4881033897399902,1.4320380687713623,1.3972318172454834,1.356583595275879,1.3621032238006592,1.3935774564743042,1.5905742645263672,1.5121707916259766,1.5751826763153076,1.6284453868865967,1.6971596479415894,1.7353849411010742,1.9296023845672607,1.9291491508483887],\"type\":\"scatter\"},{\"marker\":{\"maxdisplayed\":10},\"mode\":\"lines+markers\",\"name\":\"Trial18\",\"x\":[0,1,2,3,4,5,6,7,8,9,10,11,12,13,14,15,16,17,18,19,20,21,22,23,24],\"y\":[1.4315171241760254,1.3611398935317993,1.3713263273239136,1.3490879535675049,1.4607410430908203,1.3270511627197266,1.3127492666244507,1.42656672000885,1.50300931930542,1.612898588180542,1.555840253829956,1.505312442779541,1.7002840042114258,1.861058235168457,2.0248444080352783,2.1539466381073,2.4065499305725098,2.0622975826263428,2.398052453994751,2.5346713066101074,2.545694589614868,2.6449670791625977,2.359260082244873,2.334365129470825,2.480499505996704],\"type\":\"scatter\"},{\"marker\":{\"maxdisplayed\":10},\"mode\":\"lines+markers\",\"name\":\"Trial19\",\"x\":[0,1,2,3,4,5,6,7,8,9,10,11,12,13,14,15,16,17,18,19,20,21,22,23,24],\"y\":[1.4521814584732056,1.3839706182479858,1.5508654117584229,1.5612369775772095,1.5585873126983643,1.5496102571487427,1.5511757135391235,1.5435576438903809,1.540088176727295,1.5290383100509644,1.5232487916946411,1.5257930755615234,1.5251269340515137,1.5153878927230835,1.5128018856048584,1.5087412595748901,1.4017572402954102,1.3867570161819458,1.433884859085083,1.4110982418060303,1.3658236265182495,1.425094485282898,1.3822935819625854,1.3887953758239746,1.372812032699585],\"type\":\"scatter\"},{\"marker\":{\"maxdisplayed\":10},\"mode\":\"lines+markers\",\"name\":\"Trial20\",\"x\":[0,1,2,3,4,5,6,7,8,9,10,11,12,13,14,15,16,17,18,19,20,21,22,23,24],\"y\":[1.3759464025497437,1.402849555015564,1.3754650354385376,1.3519407510757446,1.3217840194702148,1.3513140678405762,1.4091187715530396,1.4642254114151,1.466356873512268,1.5393433570861816,1.7099989652633667,1.9134372472763062,2.0099148750305176,2.0577051639556885,2.0039544105529785,2.2606570720672607,2.5708703994750977,2.7384305000305176,3.1271297931671143,3.221073865890503,3.234354257583618,3.166412830352783,3.2680187225341797,3.539745330810547,3.6563398838043213],\"type\":\"scatter\"},{\"marker\":{\"maxdisplayed\":10},\"mode\":\"lines+markers\",\"name\":\"Trial21\",\"x\":[0,1,2,3,4,5,6,7,8,9,10,11,12,13,14,15,16,17,18,19,20,21,22,23,24],\"y\":[1.359258770942688,1.3341549634933472,1.3202308416366577,1.320482611656189,1.3140696287155151,1.4764788150787354,1.3086389303207397,1.376390814781189,1.3435165882110596,1.3933475017547607,1.6469776630401611,1.6087112426757812,1.6186915636062622,1.6479915380477905,1.6653562784194946,1.7384244203567505,1.7456777095794678,2.197993278503418,2.3546299934387207,2.416034698486328,2.328096866607666,2.721010208129883,2.2940104007720947,2.905700922012329,3.059534788131714],\"type\":\"scatter\"},{\"marker\":{\"maxdisplayed\":10},\"mode\":\"lines+markers\",\"name\":\"Trial22\",\"x\":[0,1,2,3,4,5,6,7,8,9,10,11,12,13,14,15,16,17,18,19,20,21,22,23,24],\"y\":[1.4882253408432007,1.306955099105835,1.2551947832107544,1.4424368143081665,1.2075518369674683,1.1904569864273071,1.2144478559494019,1.3051332235336304,1.3676791191101074,1.4473856687545776,1.3416043519973755,1.5937294960021973,1.6659226417541504,1.438904047012329,1.6274688243865967,1.7926418781280518,1.8070076704025269,1.9235761165618896,2.0522031784057617,1.8521169424057007,2.1390578746795654,2.3537306785583496,2.393216133117676,2.4246678352355957,2.594799280166626],\"type\":\"scatter\"},{\"marker\":{\"maxdisplayed\":10},\"mode\":\"lines+markers\",\"name\":\"Trial23\",\"x\":[0,1,2,3,4,5,6,7,8,9,10,11,12,13,14,15,16,17,18,19,20,21,22,23,24],\"y\":[1.5350266695022583,1.4382346868515015,1.3341310024261475,1.2319833040237427,1.2268818616867065,1.2451114654541016,1.317082166671753,1.2515733242034912,1.3116800785064697,1.4157708883285522,1.4500892162322998,1.456475019454956,1.7396764755249023,1.7422739267349243,1.7027332782745361,1.8953286409378052,1.9941295385360718,2.3849141597747803,2.4438164234161377,2.440396785736084,2.6513943672180176,2.6908669471740723,2.601576328277588,2.767920970916748,2.9089772701263428],\"type\":\"scatter\"},{\"marker\":{\"maxdisplayed\":10},\"mode\":\"lines+markers\",\"name\":\"Trial24\",\"x\":[0,1,2,3,4,5,6,7,8,9,10,11,12,13,14,15,16,17,18,19,20,21,22,23,24],\"y\":[1.5775169134140015,1.5852235555648804,1.5317448377609253,1.465372920036316,1.3912914991378784,1.3475677967071533,1.270446538925171,1.2581106424331665,1.306725263595581,1.3096798658370972,1.3502649068832397,1.4731316566467285,1.5386803150177002,1.6829984188079834,1.667202115058899,1.830553650856018,1.7877275943756104,1.8735895156860352,2.0661449432373047,2.0477712154388428,2.1143012046813965,2.364774227142334,2.484110116958618,2.3359029293060303,2.3850483894348145],\"type\":\"scatter\"}],                        {\"showlegend\":false,\"title\":{\"text\":\"Intermediate Values Plot\"},\"xaxis\":{\"title\":{\"text\":\"Step\"}},\"yaxis\":{\"title\":{\"text\":\"Intermediate Value\"}},\"template\":{\"data\":{\"histogram2dcontour\":[{\"type\":\"histogram2dcontour\",\"colorbar\":{\"outlinewidth\":0,\"ticks\":\"\"},\"colorscale\":[[0.0,\"#0d0887\"],[0.1111111111111111,\"#46039f\"],[0.2222222222222222,\"#7201a8\"],[0.3333333333333333,\"#9c179e\"],[0.4444444444444444,\"#bd3786\"],[0.5555555555555556,\"#d8576b\"],[0.6666666666666666,\"#ed7953\"],[0.7777777777777778,\"#fb9f3a\"],[0.8888888888888888,\"#fdca26\"],[1.0,\"#f0f921\"]]}],\"choropleth\":[{\"type\":\"choropleth\",\"colorbar\":{\"outlinewidth\":0,\"ticks\":\"\"}}],\"histogram2d\":[{\"type\":\"histogram2d\",\"colorbar\":{\"outlinewidth\":0,\"ticks\":\"\"},\"colorscale\":[[0.0,\"#0d0887\"],[0.1111111111111111,\"#46039f\"],[0.2222222222222222,\"#7201a8\"],[0.3333333333333333,\"#9c179e\"],[0.4444444444444444,\"#bd3786\"],[0.5555555555555556,\"#d8576b\"],[0.6666666666666666,\"#ed7953\"],[0.7777777777777778,\"#fb9f3a\"],[0.8888888888888888,\"#fdca26\"],[1.0,\"#f0f921\"]]}],\"heatmap\":[{\"type\":\"heatmap\",\"colorbar\":{\"outlinewidth\":0,\"ticks\":\"\"},\"colorscale\":[[0.0,\"#0d0887\"],[0.1111111111111111,\"#46039f\"],[0.2222222222222222,\"#7201a8\"],[0.3333333333333333,\"#9c179e\"],[0.4444444444444444,\"#bd3786\"],[0.5555555555555556,\"#d8576b\"],[0.6666666666666666,\"#ed7953\"],[0.7777777777777778,\"#fb9f3a\"],[0.8888888888888888,\"#fdca26\"],[1.0,\"#f0f921\"]]}],\"heatmapgl\":[{\"type\":\"heatmapgl\",\"colorbar\":{\"outlinewidth\":0,\"ticks\":\"\"},\"colorscale\":[[0.0,\"#0d0887\"],[0.1111111111111111,\"#46039f\"],[0.2222222222222222,\"#7201a8\"],[0.3333333333333333,\"#9c179e\"],[0.4444444444444444,\"#bd3786\"],[0.5555555555555556,\"#d8576b\"],[0.6666666666666666,\"#ed7953\"],[0.7777777777777778,\"#fb9f3a\"],[0.8888888888888888,\"#fdca26\"],[1.0,\"#f0f921\"]]}],\"contourcarpet\":[{\"type\":\"contourcarpet\",\"colorbar\":{\"outlinewidth\":0,\"ticks\":\"\"}}],\"contour\":[{\"type\":\"contour\",\"colorbar\":{\"outlinewidth\":0,\"ticks\":\"\"},\"colorscale\":[[0.0,\"#0d0887\"],[0.1111111111111111,\"#46039f\"],[0.2222222222222222,\"#7201a8\"],[0.3333333333333333,\"#9c179e\"],[0.4444444444444444,\"#bd3786\"],[0.5555555555555556,\"#d8576b\"],[0.6666666666666666,\"#ed7953\"],[0.7777777777777778,\"#fb9f3a\"],[0.8888888888888888,\"#fdca26\"],[1.0,\"#f0f921\"]]}],\"surface\":[{\"type\":\"surface\",\"colorbar\":{\"outlinewidth\":0,\"ticks\":\"\"},\"colorscale\":[[0.0,\"#0d0887\"],[0.1111111111111111,\"#46039f\"],[0.2222222222222222,\"#7201a8\"],[0.3333333333333333,\"#9c179e\"],[0.4444444444444444,\"#bd3786\"],[0.5555555555555556,\"#d8576b\"],[0.6666666666666666,\"#ed7953\"],[0.7777777777777778,\"#fb9f3a\"],[0.8888888888888888,\"#fdca26\"],[1.0,\"#f0f921\"]]}],\"mesh3d\":[{\"type\":\"mesh3d\",\"colorbar\":{\"outlinewidth\":0,\"ticks\":\"\"}}],\"scatter\":[{\"fillpattern\":{\"fillmode\":\"overlay\",\"size\":10,\"solidity\":0.2},\"type\":\"scatter\"}],\"parcoords\":[{\"type\":\"parcoords\",\"line\":{\"colorbar\":{\"outlinewidth\":0,\"ticks\":\"\"}}}],\"scatterpolargl\":[{\"type\":\"scatterpolargl\",\"marker\":{\"colorbar\":{\"outlinewidth\":0,\"ticks\":\"\"}}}],\"bar\":[{\"error_x\":{\"color\":\"#2a3f5f\"},\"error_y\":{\"color\":\"#2a3f5f\"},\"marker\":{\"line\":{\"color\":\"#E5ECF6\",\"width\":0.5},\"pattern\":{\"fillmode\":\"overlay\",\"size\":10,\"solidity\":0.2}},\"type\":\"bar\"}],\"scattergeo\":[{\"type\":\"scattergeo\",\"marker\":{\"colorbar\":{\"outlinewidth\":0,\"ticks\":\"\"}}}],\"scatterpolar\":[{\"type\":\"scatterpolar\",\"marker\":{\"colorbar\":{\"outlinewidth\":0,\"ticks\":\"\"}}}],\"histogram\":[{\"marker\":{\"pattern\":{\"fillmode\":\"overlay\",\"size\":10,\"solidity\":0.2}},\"type\":\"histogram\"}],\"scattergl\":[{\"type\":\"scattergl\",\"marker\":{\"colorbar\":{\"outlinewidth\":0,\"ticks\":\"\"}}}],\"scatter3d\":[{\"type\":\"scatter3d\",\"line\":{\"colorbar\":{\"outlinewidth\":0,\"ticks\":\"\"}},\"marker\":{\"colorbar\":{\"outlinewidth\":0,\"ticks\":\"\"}}}],\"scattermapbox\":[{\"type\":\"scattermapbox\",\"marker\":{\"colorbar\":{\"outlinewidth\":0,\"ticks\":\"\"}}}],\"scatterternary\":[{\"type\":\"scatterternary\",\"marker\":{\"colorbar\":{\"outlinewidth\":0,\"ticks\":\"\"}}}],\"scattercarpet\":[{\"type\":\"scattercarpet\",\"marker\":{\"colorbar\":{\"outlinewidth\":0,\"ticks\":\"\"}}}],\"carpet\":[{\"aaxis\":{\"endlinecolor\":\"#2a3f5f\",\"gridcolor\":\"white\",\"linecolor\":\"white\",\"minorgridcolor\":\"white\",\"startlinecolor\":\"#2a3f5f\"},\"baxis\":{\"endlinecolor\":\"#2a3f5f\",\"gridcolor\":\"white\",\"linecolor\":\"white\",\"minorgridcolor\":\"white\",\"startlinecolor\":\"#2a3f5f\"},\"type\":\"carpet\"}],\"table\":[{\"cells\":{\"fill\":{\"color\":\"#EBF0F8\"},\"line\":{\"color\":\"white\"}},\"header\":{\"fill\":{\"color\":\"#C8D4E3\"},\"line\":{\"color\":\"white\"}},\"type\":\"table\"}],\"barpolar\":[{\"marker\":{\"line\":{\"color\":\"#E5ECF6\",\"width\":0.5},\"pattern\":{\"fillmode\":\"overlay\",\"size\":10,\"solidity\":0.2}},\"type\":\"barpolar\"}],\"pie\":[{\"automargin\":true,\"type\":\"pie\"}]},\"layout\":{\"autotypenumbers\":\"strict\",\"colorway\":[\"#636efa\",\"#EF553B\",\"#00cc96\",\"#ab63fa\",\"#FFA15A\",\"#19d3f3\",\"#FF6692\",\"#B6E880\",\"#FF97FF\",\"#FECB52\"],\"font\":{\"color\":\"#2a3f5f\"},\"hovermode\":\"closest\",\"hoverlabel\":{\"align\":\"left\"},\"paper_bgcolor\":\"white\",\"plot_bgcolor\":\"#E5ECF6\",\"polar\":{\"bgcolor\":\"#E5ECF6\",\"angularaxis\":{\"gridcolor\":\"white\",\"linecolor\":\"white\",\"ticks\":\"\"},\"radialaxis\":{\"gridcolor\":\"white\",\"linecolor\":\"white\",\"ticks\":\"\"}},\"ternary\":{\"bgcolor\":\"#E5ECF6\",\"aaxis\":{\"gridcolor\":\"white\",\"linecolor\":\"white\",\"ticks\":\"\"},\"baxis\":{\"gridcolor\":\"white\",\"linecolor\":\"white\",\"ticks\":\"\"},\"caxis\":{\"gridcolor\":\"white\",\"linecolor\":\"white\",\"ticks\":\"\"}},\"coloraxis\":{\"colorbar\":{\"outlinewidth\":0,\"ticks\":\"\"}},\"colorscale\":{\"sequential\":[[0.0,\"#0d0887\"],[0.1111111111111111,\"#46039f\"],[0.2222222222222222,\"#7201a8\"],[0.3333333333333333,\"#9c179e\"],[0.4444444444444444,\"#bd3786\"],[0.5555555555555556,\"#d8576b\"],[0.6666666666666666,\"#ed7953\"],[0.7777777777777778,\"#fb9f3a\"],[0.8888888888888888,\"#fdca26\"],[1.0,\"#f0f921\"]],\"sequentialminus\":[[0.0,\"#0d0887\"],[0.1111111111111111,\"#46039f\"],[0.2222222222222222,\"#7201a8\"],[0.3333333333333333,\"#9c179e\"],[0.4444444444444444,\"#bd3786\"],[0.5555555555555556,\"#d8576b\"],[0.6666666666666666,\"#ed7953\"],[0.7777777777777778,\"#fb9f3a\"],[0.8888888888888888,\"#fdca26\"],[1.0,\"#f0f921\"]],\"diverging\":[[0,\"#8e0152\"],[0.1,\"#c51b7d\"],[0.2,\"#de77ae\"],[0.3,\"#f1b6da\"],[0.4,\"#fde0ef\"],[0.5,\"#f7f7f7\"],[0.6,\"#e6f5d0\"],[0.7,\"#b8e186\"],[0.8,\"#7fbc41\"],[0.9,\"#4d9221\"],[1,\"#276419\"]]},\"xaxis\":{\"gridcolor\":\"white\",\"linecolor\":\"white\",\"ticks\":\"\",\"title\":{\"standoff\":15},\"zerolinecolor\":\"white\",\"automargin\":true,\"zerolinewidth\":2},\"yaxis\":{\"gridcolor\":\"white\",\"linecolor\":\"white\",\"ticks\":\"\",\"title\":{\"standoff\":15},\"zerolinecolor\":\"white\",\"automargin\":true,\"zerolinewidth\":2},\"scene\":{\"xaxis\":{\"backgroundcolor\":\"#E5ECF6\",\"gridcolor\":\"white\",\"linecolor\":\"white\",\"showbackground\":true,\"ticks\":\"\",\"zerolinecolor\":\"white\",\"gridwidth\":2},\"yaxis\":{\"backgroundcolor\":\"#E5ECF6\",\"gridcolor\":\"white\",\"linecolor\":\"white\",\"showbackground\":true,\"ticks\":\"\",\"zerolinecolor\":\"white\",\"gridwidth\":2},\"zaxis\":{\"backgroundcolor\":\"#E5ECF6\",\"gridcolor\":\"white\",\"linecolor\":\"white\",\"showbackground\":true,\"ticks\":\"\",\"zerolinecolor\":\"white\",\"gridwidth\":2}},\"shapedefaults\":{\"line\":{\"color\":\"#2a3f5f\"}},\"annotationdefaults\":{\"arrowcolor\":\"#2a3f5f\",\"arrowhead\":0,\"arrowwidth\":1},\"geo\":{\"bgcolor\":\"white\",\"landcolor\":\"#E5ECF6\",\"subunitcolor\":\"white\",\"showland\":true,\"showlakes\":true,\"lakecolor\":\"white\"},\"title\":{\"x\":0.05},\"mapbox\":{\"style\":\"light\"}}}},                        {\"responsive\": true}                    ).then(function(){\n",
       "                            \n",
       "var gd = document.getElementById('211cc2fe-9147-4da5-9f18-64255cf41053');\n",
       "var x = new MutationObserver(function (mutations, observer) {{\n",
       "        var display = window.getComputedStyle(gd).display;\n",
       "        if (!display || display === 'none') {{\n",
       "            console.log([gd, 'removed!']);\n",
       "            Plotly.purge(gd);\n",
       "            observer.disconnect();\n",
       "        }}\n",
       "}});\n",
       "\n",
       "// Listen for the removal of the full notebook cells\n",
       "var notebookContainer = gd.closest('#notebook-container');\n",
       "if (notebookContainer) {{\n",
       "    x.observe(notebookContainer, {childList: true});\n",
       "}}\n",
       "\n",
       "// Listen for the clearing of the current output cell\n",
       "var outputEl = gd.closest('.output');\n",
       "if (outputEl) {{\n",
       "    x.observe(outputEl, {childList: true});\n",
       "}}\n",
       "\n",
       "                        })                };                });            </script>        </div>"
      ]
     },
     "metadata": {},
     "output_type": "display_data"
    }
   ],
   "source": [
    "plot_intermediate_values(study3)"
   ]
  },
  {
   "cell_type": "code",
   "execution_count": 12,
   "id": "0b38dd5b",
   "metadata": {
    "execution": {
     "iopub.execute_input": "2023-03-09T14:28:39.180034Z",
     "iopub.status.busy": "2023-03-09T14:28:39.179769Z",
     "iopub.status.idle": "2023-03-09T14:28:39.635494Z",
     "shell.execute_reply": "2023-03-09T14:28:39.634332Z"
    },
    "papermill": {
     "duration": 0.46636,
     "end_time": "2023-03-09T14:28:39.637856",
     "exception": false,
     "start_time": "2023-03-09T14:28:39.171496",
     "status": "completed"
    },
    "tags": []
   },
   "outputs": [
    {
     "data": {
      "text/html": [
       "<div>                            <div id=\"5c581ec0-052f-41cc-9705-4a24ca62482f\" class=\"plotly-graph-div\" style=\"height:525px; width:100%;\"></div>            <script type=\"text/javascript\">                require([\"plotly\"], function(Plotly) {                    window.PLOTLYENV=window.PLOTLYENV || {};                                    if (document.getElementById(\"5c581ec0-052f-41cc-9705-4a24ca62482f\")) {                    Plotly.newPlot(                        \"5c581ec0-052f-41cc-9705-4a24ca62482f\",                        [{\"cliponaxis\":false,\"hovertemplate\":[\"dropout_L2 (FloatDistribution): 0.08834545327144099<extra></extra>\",\"dropout_L1 (FloatDistribution): 0.14509453240281808<extra></extra>\",\"learning_rate (FloatDistribution): 0.14629500700609616<extra></extra>\",\"lstm_units_L1 (IntDistribution): 0.23894877648564464<extra></extra>\",\"lstm_units_L2 (IntDistribution): 0.3813162308340002<extra></extra>\"],\"marker\":{\"color\":\"rgb(66,146,198)\"},\"orientation\":\"h\",\"text\":[\"0.09\",\"0.15\",\"0.15\",\"0.24\",\"0.38\"],\"textposition\":\"outside\",\"x\":[0.08834545327144099,0.14509453240281808,0.14629500700609616,0.23894877648564464,0.3813162308340002],\"y\":[\"dropout_L2\",\"dropout_L1\",\"learning_rate\",\"lstm_units_L1\",\"lstm_units_L2\"],\"type\":\"bar\"}],                        {\"showlegend\":false,\"title\":{\"text\":\"Hyperparameter Importances\"},\"xaxis\":{\"title\":{\"text\":\"Importance for Objective Value\"}},\"yaxis\":{\"title\":{\"text\":\"Hyperparameter\"}},\"template\":{\"data\":{\"histogram2dcontour\":[{\"type\":\"histogram2dcontour\",\"colorbar\":{\"outlinewidth\":0,\"ticks\":\"\"},\"colorscale\":[[0.0,\"#0d0887\"],[0.1111111111111111,\"#46039f\"],[0.2222222222222222,\"#7201a8\"],[0.3333333333333333,\"#9c179e\"],[0.4444444444444444,\"#bd3786\"],[0.5555555555555556,\"#d8576b\"],[0.6666666666666666,\"#ed7953\"],[0.7777777777777778,\"#fb9f3a\"],[0.8888888888888888,\"#fdca26\"],[1.0,\"#f0f921\"]]}],\"choropleth\":[{\"type\":\"choropleth\",\"colorbar\":{\"outlinewidth\":0,\"ticks\":\"\"}}],\"histogram2d\":[{\"type\":\"histogram2d\",\"colorbar\":{\"outlinewidth\":0,\"ticks\":\"\"},\"colorscale\":[[0.0,\"#0d0887\"],[0.1111111111111111,\"#46039f\"],[0.2222222222222222,\"#7201a8\"],[0.3333333333333333,\"#9c179e\"],[0.4444444444444444,\"#bd3786\"],[0.5555555555555556,\"#d8576b\"],[0.6666666666666666,\"#ed7953\"],[0.7777777777777778,\"#fb9f3a\"],[0.8888888888888888,\"#fdca26\"],[1.0,\"#f0f921\"]]}],\"heatmap\":[{\"type\":\"heatmap\",\"colorbar\":{\"outlinewidth\":0,\"ticks\":\"\"},\"colorscale\":[[0.0,\"#0d0887\"],[0.1111111111111111,\"#46039f\"],[0.2222222222222222,\"#7201a8\"],[0.3333333333333333,\"#9c179e\"],[0.4444444444444444,\"#bd3786\"],[0.5555555555555556,\"#d8576b\"],[0.6666666666666666,\"#ed7953\"],[0.7777777777777778,\"#fb9f3a\"],[0.8888888888888888,\"#fdca26\"],[1.0,\"#f0f921\"]]}],\"heatmapgl\":[{\"type\":\"heatmapgl\",\"colorbar\":{\"outlinewidth\":0,\"ticks\":\"\"},\"colorscale\":[[0.0,\"#0d0887\"],[0.1111111111111111,\"#46039f\"],[0.2222222222222222,\"#7201a8\"],[0.3333333333333333,\"#9c179e\"],[0.4444444444444444,\"#bd3786\"],[0.5555555555555556,\"#d8576b\"],[0.6666666666666666,\"#ed7953\"],[0.7777777777777778,\"#fb9f3a\"],[0.8888888888888888,\"#fdca26\"],[1.0,\"#f0f921\"]]}],\"contourcarpet\":[{\"type\":\"contourcarpet\",\"colorbar\":{\"outlinewidth\":0,\"ticks\":\"\"}}],\"contour\":[{\"type\":\"contour\",\"colorbar\":{\"outlinewidth\":0,\"ticks\":\"\"},\"colorscale\":[[0.0,\"#0d0887\"],[0.1111111111111111,\"#46039f\"],[0.2222222222222222,\"#7201a8\"],[0.3333333333333333,\"#9c179e\"],[0.4444444444444444,\"#bd3786\"],[0.5555555555555556,\"#d8576b\"],[0.6666666666666666,\"#ed7953\"],[0.7777777777777778,\"#fb9f3a\"],[0.8888888888888888,\"#fdca26\"],[1.0,\"#f0f921\"]]}],\"surface\":[{\"type\":\"surface\",\"colorbar\":{\"outlinewidth\":0,\"ticks\":\"\"},\"colorscale\":[[0.0,\"#0d0887\"],[0.1111111111111111,\"#46039f\"],[0.2222222222222222,\"#7201a8\"],[0.3333333333333333,\"#9c179e\"],[0.4444444444444444,\"#bd3786\"],[0.5555555555555556,\"#d8576b\"],[0.6666666666666666,\"#ed7953\"],[0.7777777777777778,\"#fb9f3a\"],[0.8888888888888888,\"#fdca26\"],[1.0,\"#f0f921\"]]}],\"mesh3d\":[{\"type\":\"mesh3d\",\"colorbar\":{\"outlinewidth\":0,\"ticks\":\"\"}}],\"scatter\":[{\"fillpattern\":{\"fillmode\":\"overlay\",\"size\":10,\"solidity\":0.2},\"type\":\"scatter\"}],\"parcoords\":[{\"type\":\"parcoords\",\"line\":{\"colorbar\":{\"outlinewidth\":0,\"ticks\":\"\"}}}],\"scatterpolargl\":[{\"type\":\"scatterpolargl\",\"marker\":{\"colorbar\":{\"outlinewidth\":0,\"ticks\":\"\"}}}],\"bar\":[{\"error_x\":{\"color\":\"#2a3f5f\"},\"error_y\":{\"color\":\"#2a3f5f\"},\"marker\":{\"line\":{\"color\":\"#E5ECF6\",\"width\":0.5},\"pattern\":{\"fillmode\":\"overlay\",\"size\":10,\"solidity\":0.2}},\"type\":\"bar\"}],\"scattergeo\":[{\"type\":\"scattergeo\",\"marker\":{\"colorbar\":{\"outlinewidth\":0,\"ticks\":\"\"}}}],\"scatterpolar\":[{\"type\":\"scatterpolar\",\"marker\":{\"colorbar\":{\"outlinewidth\":0,\"ticks\":\"\"}}}],\"histogram\":[{\"marker\":{\"pattern\":{\"fillmode\":\"overlay\",\"size\":10,\"solidity\":0.2}},\"type\":\"histogram\"}],\"scattergl\":[{\"type\":\"scattergl\",\"marker\":{\"colorbar\":{\"outlinewidth\":0,\"ticks\":\"\"}}}],\"scatter3d\":[{\"type\":\"scatter3d\",\"line\":{\"colorbar\":{\"outlinewidth\":0,\"ticks\":\"\"}},\"marker\":{\"colorbar\":{\"outlinewidth\":0,\"ticks\":\"\"}}}],\"scattermapbox\":[{\"type\":\"scattermapbox\",\"marker\":{\"colorbar\":{\"outlinewidth\":0,\"ticks\":\"\"}}}],\"scatterternary\":[{\"type\":\"scatterternary\",\"marker\":{\"colorbar\":{\"outlinewidth\":0,\"ticks\":\"\"}}}],\"scattercarpet\":[{\"type\":\"scattercarpet\",\"marker\":{\"colorbar\":{\"outlinewidth\":0,\"ticks\":\"\"}}}],\"carpet\":[{\"aaxis\":{\"endlinecolor\":\"#2a3f5f\",\"gridcolor\":\"white\",\"linecolor\":\"white\",\"minorgridcolor\":\"white\",\"startlinecolor\":\"#2a3f5f\"},\"baxis\":{\"endlinecolor\":\"#2a3f5f\",\"gridcolor\":\"white\",\"linecolor\":\"white\",\"minorgridcolor\":\"white\",\"startlinecolor\":\"#2a3f5f\"},\"type\":\"carpet\"}],\"table\":[{\"cells\":{\"fill\":{\"color\":\"#EBF0F8\"},\"line\":{\"color\":\"white\"}},\"header\":{\"fill\":{\"color\":\"#C8D4E3\"},\"line\":{\"color\":\"white\"}},\"type\":\"table\"}],\"barpolar\":[{\"marker\":{\"line\":{\"color\":\"#E5ECF6\",\"width\":0.5},\"pattern\":{\"fillmode\":\"overlay\",\"size\":10,\"solidity\":0.2}},\"type\":\"barpolar\"}],\"pie\":[{\"automargin\":true,\"type\":\"pie\"}]},\"layout\":{\"autotypenumbers\":\"strict\",\"colorway\":[\"#636efa\",\"#EF553B\",\"#00cc96\",\"#ab63fa\",\"#FFA15A\",\"#19d3f3\",\"#FF6692\",\"#B6E880\",\"#FF97FF\",\"#FECB52\"],\"font\":{\"color\":\"#2a3f5f\"},\"hovermode\":\"closest\",\"hoverlabel\":{\"align\":\"left\"},\"paper_bgcolor\":\"white\",\"plot_bgcolor\":\"#E5ECF6\",\"polar\":{\"bgcolor\":\"#E5ECF6\",\"angularaxis\":{\"gridcolor\":\"white\",\"linecolor\":\"white\",\"ticks\":\"\"},\"radialaxis\":{\"gridcolor\":\"white\",\"linecolor\":\"white\",\"ticks\":\"\"}},\"ternary\":{\"bgcolor\":\"#E5ECF6\",\"aaxis\":{\"gridcolor\":\"white\",\"linecolor\":\"white\",\"ticks\":\"\"},\"baxis\":{\"gridcolor\":\"white\",\"linecolor\":\"white\",\"ticks\":\"\"},\"caxis\":{\"gridcolor\":\"white\",\"linecolor\":\"white\",\"ticks\":\"\"}},\"coloraxis\":{\"colorbar\":{\"outlinewidth\":0,\"ticks\":\"\"}},\"colorscale\":{\"sequential\":[[0.0,\"#0d0887\"],[0.1111111111111111,\"#46039f\"],[0.2222222222222222,\"#7201a8\"],[0.3333333333333333,\"#9c179e\"],[0.4444444444444444,\"#bd3786\"],[0.5555555555555556,\"#d8576b\"],[0.6666666666666666,\"#ed7953\"],[0.7777777777777778,\"#fb9f3a\"],[0.8888888888888888,\"#fdca26\"],[1.0,\"#f0f921\"]],\"sequentialminus\":[[0.0,\"#0d0887\"],[0.1111111111111111,\"#46039f\"],[0.2222222222222222,\"#7201a8\"],[0.3333333333333333,\"#9c179e\"],[0.4444444444444444,\"#bd3786\"],[0.5555555555555556,\"#d8576b\"],[0.6666666666666666,\"#ed7953\"],[0.7777777777777778,\"#fb9f3a\"],[0.8888888888888888,\"#fdca26\"],[1.0,\"#f0f921\"]],\"diverging\":[[0,\"#8e0152\"],[0.1,\"#c51b7d\"],[0.2,\"#de77ae\"],[0.3,\"#f1b6da\"],[0.4,\"#fde0ef\"],[0.5,\"#f7f7f7\"],[0.6,\"#e6f5d0\"],[0.7,\"#b8e186\"],[0.8,\"#7fbc41\"],[0.9,\"#4d9221\"],[1,\"#276419\"]]},\"xaxis\":{\"gridcolor\":\"white\",\"linecolor\":\"white\",\"ticks\":\"\",\"title\":{\"standoff\":15},\"zerolinecolor\":\"white\",\"automargin\":true,\"zerolinewidth\":2},\"yaxis\":{\"gridcolor\":\"white\",\"linecolor\":\"white\",\"ticks\":\"\",\"title\":{\"standoff\":15},\"zerolinecolor\":\"white\",\"automargin\":true,\"zerolinewidth\":2},\"scene\":{\"xaxis\":{\"backgroundcolor\":\"#E5ECF6\",\"gridcolor\":\"white\",\"linecolor\":\"white\",\"showbackground\":true,\"ticks\":\"\",\"zerolinecolor\":\"white\",\"gridwidth\":2},\"yaxis\":{\"backgroundcolor\":\"#E5ECF6\",\"gridcolor\":\"white\",\"linecolor\":\"white\",\"showbackground\":true,\"ticks\":\"\",\"zerolinecolor\":\"white\",\"gridwidth\":2},\"zaxis\":{\"backgroundcolor\":\"#E5ECF6\",\"gridcolor\":\"white\",\"linecolor\":\"white\",\"showbackground\":true,\"ticks\":\"\",\"zerolinecolor\":\"white\",\"gridwidth\":2}},\"shapedefaults\":{\"line\":{\"color\":\"#2a3f5f\"}},\"annotationdefaults\":{\"arrowcolor\":\"#2a3f5f\",\"arrowhead\":0,\"arrowwidth\":1},\"geo\":{\"bgcolor\":\"white\",\"landcolor\":\"#E5ECF6\",\"subunitcolor\":\"white\",\"showland\":true,\"showlakes\":true,\"lakecolor\":\"white\"},\"title\":{\"x\":0.05},\"mapbox\":{\"style\":\"light\"}}}},                        {\"responsive\": true}                    ).then(function(){\n",
       "                            \n",
       "var gd = document.getElementById('5c581ec0-052f-41cc-9705-4a24ca62482f');\n",
       "var x = new MutationObserver(function (mutations, observer) {{\n",
       "        var display = window.getComputedStyle(gd).display;\n",
       "        if (!display || display === 'none') {{\n",
       "            console.log([gd, 'removed!']);\n",
       "            Plotly.purge(gd);\n",
       "            observer.disconnect();\n",
       "        }}\n",
       "}});\n",
       "\n",
       "// Listen for the removal of the full notebook cells\n",
       "var notebookContainer = gd.closest('#notebook-container');\n",
       "if (notebookContainer) {{\n",
       "    x.observe(notebookContainer, {childList: true});\n",
       "}}\n",
       "\n",
       "// Listen for the clearing of the current output cell\n",
       "var outputEl = gd.closest('.output');\n",
       "if (outputEl) {{\n",
       "    x.observe(outputEl, {childList: true});\n",
       "}}\n",
       "\n",
       "                        })                };                });            </script>        </div>"
      ]
     },
     "metadata": {},
     "output_type": "display_data"
    }
   ],
   "source": [
    "plot_param_importances(study3)"
   ]
  },
  {
   "cell_type": "code",
   "execution_count": 13,
   "id": "5dea65df",
   "metadata": {
    "execution": {
     "iopub.execute_input": "2023-03-09T14:28:39.656315Z",
     "iopub.status.busy": "2023-03-09T14:28:39.655981Z",
     "iopub.status.idle": "2023-03-09T14:28:39.662474Z",
     "shell.execute_reply": "2023-03-09T14:28:39.661380Z"
    },
    "papermill": {
     "duration": 0.01951,
     "end_time": "2023-03-09T14:28:39.666245",
     "exception": false,
     "start_time": "2023-03-09T14:28:39.646735",
     "status": "completed"
    },
    "tags": []
   },
   "outputs": [
    {
     "name": "stdout",
     "output_type": "stream",
     "text": [
      "Best trial:\n",
      "  Value:  0.5428091367936703\n",
      "  Params: \n",
      "    lstm_units_L1: 47\n",
      "    lstm_units_L2: 20\n",
      "    dropout_L1: 0.19975302809066547\n",
      "    dropout_L2: 0.3229935057718496\n",
      "    learning_rate: 0.005419774867222899\n"
     ]
    }
   ],
   "source": [
    "print(\"Best trial:\")\n",
    "trial = study3.best_trial\n",
    "\n",
    "print(\"  Value: \", trial.value)\n",
    "\n",
    "print(\"  Params: \")\n",
    "for key, value in trial.params.items():\n",
    "    print(\"    {}: {}\".format(key, value))"
   ]
  },
  {
   "cell_type": "markdown",
   "id": "c80e6c88",
   "metadata": {
    "papermill": {
     "duration": 0.007527,
     "end_time": "2023-03-09T14:28:39.681742",
     "exception": false,
     "start_time": "2023-03-09T14:28:39.674215",
     "status": "completed"
    },
    "tags": []
   },
   "source": [
    "## Bayesian Optimization (Time)"
   ]
  },
  {
   "cell_type": "code",
   "execution_count": 14,
   "id": "b716cf0a",
   "metadata": {
    "execution": {
     "iopub.execute_input": "2023-03-09T14:28:39.698140Z",
     "iopub.status.busy": "2023-03-09T14:28:39.697879Z",
     "iopub.status.idle": "2023-03-09T14:28:39.703967Z",
     "shell.execute_reply": "2023-03-09T14:28:39.703042Z"
    },
    "papermill": {
     "duration": 0.016549,
     "end_time": "2023-03-09T14:28:39.706008",
     "exception": false,
     "start_time": "2023-03-09T14:28:39.689459",
     "status": "completed"
    },
    "tags": []
   },
   "outputs": [],
   "source": [
    "#Fungsi Objektif\n",
    "def objective_fun_time(trial):\n",
    "  model=create_model(trial)\n",
    "\n",
    "  start=time.time()\n",
    "  history=model.fit(teks_latih_pad,label_latih,epochs=25,batch_size=16,callbacks=[TFKerasPruningCallback(trial, \"val_loss\")],\n",
    "                    validation_data=(teks_validasi_pad,label_validasi),verbose=0)\n",
    "  end=time.time()\n",
    "\n",
    "  Label_pred=model.predict(teks_uji_pad)\n",
    "  label_pred=Label_pred.argmax(axis=1)\n",
    "  fscore=f1_score(label_uji, label_pred, average='macro')\n",
    "  duration=end-start\n",
    "  model.save('Bayesian Optimization (Model Training Time) Model-{}.h5'.format(trial.number))\n",
    "\n",
    "  print(\"F1-Score:\",fscore)\n",
    "  print(\"Duration:\",duration)\n",
    "\n",
    "  return duration"
   ]
  },
  {
   "cell_type": "code",
   "execution_count": 15,
   "id": "ba33269d",
   "metadata": {
    "execution": {
     "iopub.execute_input": "2023-03-09T14:28:39.722558Z",
     "iopub.status.busy": "2023-03-09T14:28:39.722305Z",
     "iopub.status.idle": "2023-03-09T15:09:53.005903Z",
     "shell.execute_reply": "2023-03-09T15:09:53.004999Z"
    },
    "papermill": {
     "duration": 2473.304845,
     "end_time": "2023-03-09T15:09:53.018778",
     "exception": false,
     "start_time": "2023-03-09T14:28:39.713933",
     "status": "completed"
    },
    "tags": []
   },
   "outputs": [
    {
     "name": "stderr",
     "output_type": "stream",
     "text": [
      "\u001b[32m[I 2023-03-09 14:28:39,724]\u001b[0m A new study created in memory with name: BO (Time)\u001b[0m\n",
      "\u001b[32m[I 2023-03-09 14:30:20,204]\u001b[0m Trial 0 finished with value: 97.85267114639282 and parameters: {'lstm_units_L1': 41, 'lstm_units_L2': 18, 'dropout_L1': 0.47049506302732264, 'dropout_L2': 0.07577547799773449, 'learning_rate': 0.0054099711427083716}. Best is trial 0 with value: 97.85267114639282.\u001b[0m\n"
     ]
    },
    {
     "name": "stdout",
     "output_type": "stream",
     "text": [
      "F1-Score: 0.49851404721404774\n",
      "Duration: 97.85267114639282\n"
     ]
    },
    {
     "name": "stderr",
     "output_type": "stream",
     "text": [
      "\u001b[32m[I 2023-03-09 14:32:00,259]\u001b[0m Trial 1 finished with value: 97.96082854270935 and parameters: {'lstm_units_L1': 24, 'lstm_units_L2': 9, 'dropout_L1': 0.14255665776111848, 'dropout_L2': 0.30173101559532967, 'learning_rate': 0.00442208452609011}. Best is trial 0 with value: 97.85267114639282.\u001b[0m\n"
     ]
    },
    {
     "name": "stdout",
     "output_type": "stream",
     "text": [
      "F1-Score: 0.5211212133000235\n",
      "Duration: 97.96082854270935\n"
     ]
    },
    {
     "name": "stderr",
     "output_type": "stream",
     "text": [
      "\u001b[32m[I 2023-03-09 14:33:40,710]\u001b[0m Trial 2 finished with value: 97.40197277069092 and parameters: {'lstm_units_L1': 28, 'lstm_units_L2': 8, 'dropout_L1': 0.3206277951394539, 'dropout_L2': 0.46655633160363014, 'learning_rate': 0.004374022103632051}. Best is trial 2 with value: 97.40197277069092.\u001b[0m\n"
     ]
    },
    {
     "name": "stdout",
     "output_type": "stream",
     "text": [
      "F1-Score: 0.5008796795003692\n",
      "Duration: 97.40197277069092\n"
     ]
    },
    {
     "name": "stderr",
     "output_type": "stream",
     "text": [
      "\u001b[32m[I 2023-03-09 14:35:21,060]\u001b[0m Trial 3 finished with value: 97.7014057636261 and parameters: {'lstm_units_L1': 29, 'lstm_units_L2': 18, 'dropout_L1': 0.03501630384730198, 'dropout_L2': 0.0547459837881617, 'learning_rate': 0.006238657029060579}. Best is trial 2 with value: 97.40197277069092.\u001b[0m\n"
     ]
    },
    {
     "name": "stdout",
     "output_type": "stream",
     "text": [
      "F1-Score: 0.4684072972083439\n",
      "Duration: 97.7014057636261\n"
     ]
    },
    {
     "name": "stderr",
     "output_type": "stream",
     "text": [
      "\u001b[32m[I 2023-03-09 14:36:59,220]\u001b[0m Trial 4 finished with value: 96.11409592628479 and parameters: {'lstm_units_L1': 16, 'lstm_units_L2': 13, 'dropout_L1': 0.05168979751201186, 'dropout_L2': 0.32952126835288476, 'learning_rate': 0.007737945175607353}. Best is trial 4 with value: 96.11409592628479.\u001b[0m\n"
     ]
    },
    {
     "name": "stdout",
     "output_type": "stream",
     "text": [
      "F1-Score: 0.47501255332525594\n",
      "Duration: 96.11409592628479\n"
     ]
    },
    {
     "name": "stderr",
     "output_type": "stream",
     "text": [
      "\u001b[32m[I 2023-03-09 14:38:39,018]\u001b[0m Trial 5 finished with value: 96.7144706249237 and parameters: {'lstm_units_L1': 34, 'lstm_units_L2': 6, 'dropout_L1': 0.054258926489195, 'dropout_L2': 0.4855496934233605, 'learning_rate': 0.006814143291143804}. Best is trial 4 with value: 96.11409592628479.\u001b[0m\n"
     ]
    },
    {
     "name": "stdout",
     "output_type": "stream",
     "text": [
      "F1-Score: 0.3638738647428953\n",
      "Duration: 96.7144706249237\n"
     ]
    },
    {
     "name": "stderr",
     "output_type": "stream",
     "text": [
      "\u001b[32m[I 2023-03-09 14:40:18,469]\u001b[0m Trial 6 finished with value: 97.37721252441406 and parameters: {'lstm_units_L1': 41, 'lstm_units_L2': 18, 'dropout_L1': 0.3508427144137806, 'dropout_L2': 0.145021311094306, 'learning_rate': 0.003623718202264633}. Best is trial 4 with value: 96.11409592628479.\u001b[0m\n"
     ]
    },
    {
     "name": "stdout",
     "output_type": "stream",
     "text": [
      "F1-Score: 0.45396439715127795\n",
      "Duration: 97.37721252441406\n"
     ]
    },
    {
     "name": "stderr",
     "output_type": "stream",
     "text": [
      "\u001b[32m[I 2023-03-09 14:41:58,745]\u001b[0m Trial 7 finished with value: 96.91650891304016 and parameters: {'lstm_units_L1': 42, 'lstm_units_L2': 9, 'dropout_L1': 0.36544293806704164, 'dropout_L2': 0.24405769120091308, 'learning_rate': 0.0011122638133116288}. Best is trial 4 with value: 96.11409592628479.\u001b[0m\n"
     ]
    },
    {
     "name": "stdout",
     "output_type": "stream",
     "text": [
      "F1-Score: 0.4040134291788213\n",
      "Duration: 96.91650891304016\n"
     ]
    },
    {
     "name": "stderr",
     "output_type": "stream",
     "text": [
      "\u001b[32m[I 2023-03-09 14:43:38,599]\u001b[0m Trial 8 finished with value: 96.40609788894653 and parameters: {'lstm_units_L1': 38, 'lstm_units_L2': 6, 'dropout_L1': 0.12788018119865208, 'dropout_L2': 0.2833090514182525, 'learning_rate': 0.009270974103602968}. Best is trial 4 with value: 96.11409592628479.\u001b[0m\n"
     ]
    },
    {
     "name": "stdout",
     "output_type": "stream",
     "text": [
      "F1-Score: 0.4034023331330328\n",
      "Duration: 96.40609788894653\n"
     ]
    },
    {
     "name": "stderr",
     "output_type": "stream",
     "text": [
      "\u001b[32m[I 2023-03-09 14:45:16,216]\u001b[0m Trial 9 finished with value: 95.56773161888123 and parameters: {'lstm_units_L1': 31, 'lstm_units_L2': 5, 'dropout_L1': 0.3540978743318529, 'dropout_L2': 0.40653905819301345, 'learning_rate': 0.007959565801206056}. Best is trial 9 with value: 95.56773161888123.\u001b[0m\n"
     ]
    },
    {
     "name": "stdout",
     "output_type": "stream",
     "text": [
      "F1-Score: 0.4837598390622029\n",
      "Duration: 95.56773161888123\n"
     ]
    },
    {
     "name": "stderr",
     "output_type": "stream",
     "text": [
      "\u001b[32m[I 2023-03-09 14:46:53,209]\u001b[0m Trial 10 finished with value: 93.73201727867126 and parameters: {'lstm_units_L1': 48, 'lstm_units_L2': 4, 'dropout_L1': 0.4888417323221161, 'dropout_L2': 0.37402524894190203, 'learning_rate': 0.009496382415761381}. Best is trial 10 with value: 93.73201727867126.\u001b[0m\n"
     ]
    },
    {
     "name": "stdout",
     "output_type": "stream",
     "text": [
      "F1-Score: 0.3203106994659715\n",
      "Duration: 93.73201727867126\n"
     ]
    },
    {
     "name": "stderr",
     "output_type": "stream",
     "text": [
      "\u001b[32m[I 2023-03-09 14:48:31,279]\u001b[0m Trial 11 finished with value: 95.43813347816467 and parameters: {'lstm_units_L1': 47, 'lstm_units_L2': 4, 'dropout_L1': 0.48274653146875457, 'dropout_L2': 0.39749617467257975, 'learning_rate': 0.009662202884845178}. Best is trial 10 with value: 93.73201727867126.\u001b[0m\n"
     ]
    },
    {
     "name": "stdout",
     "output_type": "stream",
     "text": [
      "F1-Score: 0.3348459104224239\n",
      "Duration: 95.43813347816467\n"
     ]
    },
    {
     "name": "stderr",
     "output_type": "stream",
     "text": [
      "\u001b[32m[I 2023-03-09 14:50:07,242]\u001b[0m Trial 12 finished with value: 93.9347665309906 and parameters: {'lstm_units_L1': 48, 'lstm_units_L2': 4, 'dropout_L1': 0.48952622043131594, 'dropout_L2': 0.3842498756840816, 'learning_rate': 0.009736661027402687}. Best is trial 10 with value: 93.73201727867126.\u001b[0m\n"
     ]
    },
    {
     "name": "stdout",
     "output_type": "stream",
     "text": [
      "F1-Score: 0.3255828550428107\n",
      "Duration: 93.9347665309906\n"
     ]
    },
    {
     "name": "stderr",
     "output_type": "stream",
     "text": [
      "\u001b[32m[I 2023-03-09 14:51:45,487]\u001b[0m Trial 13 finished with value: 95.18954253196716 and parameters: {'lstm_units_L1': 48, 'lstm_units_L2': 13, 'dropout_L1': 0.4334430202980625, 'dropout_L2': 0.3802111523789566, 'learning_rate': 0.009846014742988156}. Best is trial 10 with value: 93.73201727867126.\u001b[0m\n"
     ]
    },
    {
     "name": "stdout",
     "output_type": "stream",
     "text": [
      "F1-Score: 0.08\n",
      "Duration: 95.18954253196716\n"
     ]
    },
    {
     "name": "stderr",
     "output_type": "stream",
     "text": [
      "\u001b[32m[I 2023-03-09 14:53:23,652]\u001b[0m Trial 14 finished with value: 96.14108729362488 and parameters: {'lstm_units_L1': 45, 'lstm_units_L2': 11, 'dropout_L1': 0.2584312606804048, 'dropout_L2': 0.2211147027442049, 'learning_rate': 0.008672125086883574}. Best is trial 10 with value: 93.73201727867126.\u001b[0m\n"
     ]
    },
    {
     "name": "stdout",
     "output_type": "stream",
     "text": [
      "F1-Score: 0.29440972795811293\n",
      "Duration: 96.14108729362488\n"
     ]
    },
    {
     "name": "stderr",
     "output_type": "stream",
     "text": [
      "\u001b[32m[I 2023-03-09 14:55:00,878]\u001b[0m Trial 15 finished with value: 94.14009308815002 and parameters: {'lstm_units_L1': 36, 'lstm_units_L2': 4, 'dropout_L1': 0.41691466855755677, 'dropout_L2': 0.35818409363515563, 'learning_rate': 0.0023715076164140866}. Best is trial 10 with value: 93.73201727867126.\u001b[0m\n"
     ]
    },
    {
     "name": "stdout",
     "output_type": "stream",
     "text": [
      "F1-Score: 0.4433840551046374\n",
      "Duration: 94.14009308815002\n"
     ]
    },
    {
     "name": "stderr",
     "output_type": "stream",
     "text": [
      "\u001b[32m[I 2023-03-09 14:56:39,628]\u001b[0m Trial 16 finished with value: 96.07454633712769 and parameters: {'lstm_units_L1': 44, 'lstm_units_L2': 15, 'dropout_L1': 0.27568923490496566, 'dropout_L2': 0.44564771253113555, 'learning_rate': 0.007442431570313195}. Best is trial 10 with value: 93.73201727867126.\u001b[0m\n"
     ]
    },
    {
     "name": "stdout",
     "output_type": "stream",
     "text": [
      "F1-Score: 0.4460968549305708\n",
      "Duration: 96.07454633712769\n"
     ]
    },
    {
     "name": "stderr",
     "output_type": "stream",
     "text": [
      "\u001b[32m[I 2023-03-09 14:58:17,210]\u001b[0m Trial 17 finished with value: 95.30691599845886 and parameters: {'lstm_units_L1': 48, 'lstm_units_L2': 7, 'dropout_L1': 0.4988316573448399, 'dropout_L2': 0.155590954982331, 'learning_rate': 0.00860360696093922}. Best is trial 10 with value: 93.73201727867126.\u001b[0m\n"
     ]
    },
    {
     "name": "stdout",
     "output_type": "stream",
     "text": [
      "F1-Score: 0.31755094246878385\n",
      "Duration: 95.30691599845886\n"
     ]
    },
    {
     "name": "stderr",
     "output_type": "stream",
     "text": [
      "\u001b[32m[I 2023-03-09 14:59:57,365]\u001b[0m Trial 18 finished with value: 97.06571674346924 and parameters: {'lstm_units_L1': 21, 'lstm_units_L2': 11, 'dropout_L1': 0.42041048094192174, 'dropout_L2': 0.4317622092949187, 'learning_rate': 0.00620485276829095}. Best is trial 10 with value: 93.73201727867126.\u001b[0m\n"
     ]
    },
    {
     "name": "stdout",
     "output_type": "stream",
     "text": [
      "F1-Score: 0.4703899180819538\n",
      "Duration: 97.06571674346924\n"
     ]
    },
    {
     "name": "stderr",
     "output_type": "stream",
     "text": [
      "\u001b[32m[I 2023-03-09 15:01:36,711]\u001b[0m Trial 19 finished with value: 96.71527338027954 and parameters: {'lstm_units_L1': 38, 'lstm_units_L2': 15, 'dropout_L1': 0.2048661278698107, 'dropout_L2': 0.3377772002005032, 'learning_rate': 0.0004460990722362137}. Best is trial 10 with value: 93.73201727867126.\u001b[0m\n"
     ]
    },
    {
     "name": "stdout",
     "output_type": "stream",
     "text": [
      "F1-Score: 0.4170690971252216\n",
      "Duration: 96.71527338027954\n"
     ]
    },
    {
     "name": "stderr",
     "output_type": "stream",
     "text": [
      "\u001b[32m[I 2023-03-09 15:03:15,661]\u001b[0m Trial 20 finished with value: 96.90808200836182 and parameters: {'lstm_units_L1': 45, 'lstm_units_L2': 20, 'dropout_L1': 0.3888982522511674, 'dropout_L2': 0.19003987724419133, 'learning_rate': 0.008710037314475574}. Best is trial 10 with value: 93.73201727867126.\u001b[0m\n"
     ]
    },
    {
     "name": "stdout",
     "output_type": "stream",
     "text": [
      "F1-Score: 0.4853998487013357\n",
      "Duration: 96.90808200836182\n"
     ]
    },
    {
     "name": "stderr",
     "output_type": "stream",
     "text": [
      "\u001b[32m[I 2023-03-09 15:04:54,816]\u001b[0m Trial 21 finished with value: 96.04899406433105 and parameters: {'lstm_units_L1': 37, 'lstm_units_L2': 4, 'dropout_L1': 0.43597052365201483, 'dropout_L2': 0.36590493116522327, 'learning_rate': 0.0024309646132447084}. Best is trial 10 with value: 93.73201727867126.\u001b[0m\n"
     ]
    },
    {
     "name": "stdout",
     "output_type": "stream",
     "text": [
      "F1-Score: 0.3557396750090879\n",
      "Duration: 96.04899406433105\n"
     ]
    },
    {
     "name": "stderr",
     "output_type": "stream",
     "text": [
      "\u001b[32m[I 2023-03-09 15:06:31,844]\u001b[0m Trial 22 finished with value: 94.7835419178009 and parameters: {'lstm_units_L1': 35, 'lstm_units_L2': 4, 'dropout_L1': 0.4539880791254288, 'dropout_L2': 0.2964102596430954, 'learning_rate': 0.0024430005762852603}. Best is trial 10 with value: 93.73201727867126.\u001b[0m\n"
     ]
    },
    {
     "name": "stdout",
     "output_type": "stream",
     "text": [
      "F1-Score: 0.46069379287779827\n",
      "Duration: 94.7835419178009\n"
     ]
    },
    {
     "name": "stderr",
     "output_type": "stream",
     "text": [
      "\u001b[32m[I 2023-03-09 15:08:13,437]\u001b[0m Trial 23 finished with value: 98.49759006500244 and parameters: {'lstm_units_L1': 43, 'lstm_units_L2': 6, 'dropout_L1': 0.40299238485461275, 'dropout_L2': 0.35825481637162343, 'learning_rate': 0.0023592258240117334}. Best is trial 10 with value: 93.73201727867126.\u001b[0m\n"
     ]
    },
    {
     "name": "stdout",
     "output_type": "stream",
     "text": [
      "F1-Score: 0.39838662818878984\n",
      "Duration: 98.49759006500244\n"
     ]
    },
    {
     "name": "stderr",
     "output_type": "stream",
     "text": [
      "\u001b[32m[I 2023-03-09 15:09:53,001]\u001b[0m Trial 24 finished with value: 96.9167869091034 and parameters: {'lstm_units_L1': 40, 'lstm_units_L2': 8, 'dropout_L1': 0.49991235998314604, 'dropout_L2': 0.4234981398388217, 'learning_rate': 0.003431642013962826}. Best is trial 10 with value: 93.73201727867126.\u001b[0m\n"
     ]
    },
    {
     "name": "stdout",
     "output_type": "stream",
     "text": [
      "F1-Score: 0.5155189073417268\n",
      "Duration: 96.9167869091034\n"
     ]
    }
   ],
   "source": [
    "study4=optuna.create_study(study_name=\"BO (Time)\",\n",
    "                          direction=\"minimize\", \n",
    "                          sampler=optuna.samplers.TPESampler(), \n",
    "                          pruner=optuna.pruners.NopPruner())\n",
    "study4.optimize(objective_fun_time,n_trials=25)"
   ]
  },
  {
   "cell_type": "code",
   "execution_count": 16,
   "id": "e92f134e",
   "metadata": {
    "execution": {
     "iopub.execute_input": "2023-03-09T15:09:53.041915Z",
     "iopub.status.busy": "2023-03-09T15:09:53.041604Z",
     "iopub.status.idle": "2023-03-09T15:09:53.058239Z",
     "shell.execute_reply": "2023-03-09T15:09:53.057227Z"
    },
    "papermill": {
     "duration": 0.030945,
     "end_time": "2023-03-09T15:09:53.060360",
     "exception": false,
     "start_time": "2023-03-09T15:09:53.029415",
     "status": "completed"
    },
    "tags": []
   },
   "outputs": [
    {
     "data": {
      "text/html": [
       "<div>                            <div id=\"7419ee0f-8f45-451e-a375-e2c81ef6e9c1\" class=\"plotly-graph-div\" style=\"height:525px; width:100%;\"></div>            <script type=\"text/javascript\">                require([\"plotly\"], function(Plotly) {                    window.PLOTLYENV=window.PLOTLYENV || {};                                    if (document.getElementById(\"7419ee0f-8f45-451e-a375-e2c81ef6e9c1\")) {                    Plotly.newPlot(                        \"7419ee0f-8f45-451e-a375-e2c81ef6e9c1\",                        [{\"mode\":\"markers\",\"name\":\"Objective Value\",\"x\":[0,1,2,3,4,5,6,7,8,9,10,11,12,13,14,15,16,17,18,19,20,21,22,23,24],\"y\":[97.85267114639282,97.96082854270935,97.40197277069092,97.7014057636261,96.11409592628479,96.7144706249237,97.37721252441406,96.91650891304016,96.40609788894653,95.56773161888123,93.73201727867126,95.43813347816467,93.9347665309906,95.18954253196716,96.14108729362488,94.14009308815002,96.07454633712769,95.30691599845886,97.06571674346924,96.71527338027954,96.90808200836182,96.04899406433105,94.7835419178009,98.49759006500244,96.9167869091034],\"type\":\"scatter\"},{\"name\":\"Best Value\",\"x\":[0,1,2,3,4,5,6,7,8,9,10,11,12,13,14,15,16,17,18,19,20,21,22,23,24],\"y\":[97.85267114639282,97.85267114639282,97.40197277069092,97.40197277069092,96.11409592628479,96.11409592628479,96.11409592628479,96.11409592628479,96.11409592628479,95.56773161888123,93.73201727867126,93.73201727867126,93.73201727867126,93.73201727867126,93.73201727867126,93.73201727867126,93.73201727867126,93.73201727867126,93.73201727867126,93.73201727867126,93.73201727867126,93.73201727867126,93.73201727867126,93.73201727867126,93.73201727867126],\"type\":\"scatter\"}],                        {\"title\":{\"text\":\"Optimization History Plot\"},\"xaxis\":{\"title\":{\"text\":\"Trial\"}},\"yaxis\":{\"title\":{\"text\":\"Objective Value\"}},\"template\":{\"data\":{\"histogram2dcontour\":[{\"type\":\"histogram2dcontour\",\"colorbar\":{\"outlinewidth\":0,\"ticks\":\"\"},\"colorscale\":[[0.0,\"#0d0887\"],[0.1111111111111111,\"#46039f\"],[0.2222222222222222,\"#7201a8\"],[0.3333333333333333,\"#9c179e\"],[0.4444444444444444,\"#bd3786\"],[0.5555555555555556,\"#d8576b\"],[0.6666666666666666,\"#ed7953\"],[0.7777777777777778,\"#fb9f3a\"],[0.8888888888888888,\"#fdca26\"],[1.0,\"#f0f921\"]]}],\"choropleth\":[{\"type\":\"choropleth\",\"colorbar\":{\"outlinewidth\":0,\"ticks\":\"\"}}],\"histogram2d\":[{\"type\":\"histogram2d\",\"colorbar\":{\"outlinewidth\":0,\"ticks\":\"\"},\"colorscale\":[[0.0,\"#0d0887\"],[0.1111111111111111,\"#46039f\"],[0.2222222222222222,\"#7201a8\"],[0.3333333333333333,\"#9c179e\"],[0.4444444444444444,\"#bd3786\"],[0.5555555555555556,\"#d8576b\"],[0.6666666666666666,\"#ed7953\"],[0.7777777777777778,\"#fb9f3a\"],[0.8888888888888888,\"#fdca26\"],[1.0,\"#f0f921\"]]}],\"heatmap\":[{\"type\":\"heatmap\",\"colorbar\":{\"outlinewidth\":0,\"ticks\":\"\"},\"colorscale\":[[0.0,\"#0d0887\"],[0.1111111111111111,\"#46039f\"],[0.2222222222222222,\"#7201a8\"],[0.3333333333333333,\"#9c179e\"],[0.4444444444444444,\"#bd3786\"],[0.5555555555555556,\"#d8576b\"],[0.6666666666666666,\"#ed7953\"],[0.7777777777777778,\"#fb9f3a\"],[0.8888888888888888,\"#fdca26\"],[1.0,\"#f0f921\"]]}],\"heatmapgl\":[{\"type\":\"heatmapgl\",\"colorbar\":{\"outlinewidth\":0,\"ticks\":\"\"},\"colorscale\":[[0.0,\"#0d0887\"],[0.1111111111111111,\"#46039f\"],[0.2222222222222222,\"#7201a8\"],[0.3333333333333333,\"#9c179e\"],[0.4444444444444444,\"#bd3786\"],[0.5555555555555556,\"#d8576b\"],[0.6666666666666666,\"#ed7953\"],[0.7777777777777778,\"#fb9f3a\"],[0.8888888888888888,\"#fdca26\"],[1.0,\"#f0f921\"]]}],\"contourcarpet\":[{\"type\":\"contourcarpet\",\"colorbar\":{\"outlinewidth\":0,\"ticks\":\"\"}}],\"contour\":[{\"type\":\"contour\",\"colorbar\":{\"outlinewidth\":0,\"ticks\":\"\"},\"colorscale\":[[0.0,\"#0d0887\"],[0.1111111111111111,\"#46039f\"],[0.2222222222222222,\"#7201a8\"],[0.3333333333333333,\"#9c179e\"],[0.4444444444444444,\"#bd3786\"],[0.5555555555555556,\"#d8576b\"],[0.6666666666666666,\"#ed7953\"],[0.7777777777777778,\"#fb9f3a\"],[0.8888888888888888,\"#fdca26\"],[1.0,\"#f0f921\"]]}],\"surface\":[{\"type\":\"surface\",\"colorbar\":{\"outlinewidth\":0,\"ticks\":\"\"},\"colorscale\":[[0.0,\"#0d0887\"],[0.1111111111111111,\"#46039f\"],[0.2222222222222222,\"#7201a8\"],[0.3333333333333333,\"#9c179e\"],[0.4444444444444444,\"#bd3786\"],[0.5555555555555556,\"#d8576b\"],[0.6666666666666666,\"#ed7953\"],[0.7777777777777778,\"#fb9f3a\"],[0.8888888888888888,\"#fdca26\"],[1.0,\"#f0f921\"]]}],\"mesh3d\":[{\"type\":\"mesh3d\",\"colorbar\":{\"outlinewidth\":0,\"ticks\":\"\"}}],\"scatter\":[{\"fillpattern\":{\"fillmode\":\"overlay\",\"size\":10,\"solidity\":0.2},\"type\":\"scatter\"}],\"parcoords\":[{\"type\":\"parcoords\",\"line\":{\"colorbar\":{\"outlinewidth\":0,\"ticks\":\"\"}}}],\"scatterpolargl\":[{\"type\":\"scatterpolargl\",\"marker\":{\"colorbar\":{\"outlinewidth\":0,\"ticks\":\"\"}}}],\"bar\":[{\"error_x\":{\"color\":\"#2a3f5f\"},\"error_y\":{\"color\":\"#2a3f5f\"},\"marker\":{\"line\":{\"color\":\"#E5ECF6\",\"width\":0.5},\"pattern\":{\"fillmode\":\"overlay\",\"size\":10,\"solidity\":0.2}},\"type\":\"bar\"}],\"scattergeo\":[{\"type\":\"scattergeo\",\"marker\":{\"colorbar\":{\"outlinewidth\":0,\"ticks\":\"\"}}}],\"scatterpolar\":[{\"type\":\"scatterpolar\",\"marker\":{\"colorbar\":{\"outlinewidth\":0,\"ticks\":\"\"}}}],\"histogram\":[{\"marker\":{\"pattern\":{\"fillmode\":\"overlay\",\"size\":10,\"solidity\":0.2}},\"type\":\"histogram\"}],\"scattergl\":[{\"type\":\"scattergl\",\"marker\":{\"colorbar\":{\"outlinewidth\":0,\"ticks\":\"\"}}}],\"scatter3d\":[{\"type\":\"scatter3d\",\"line\":{\"colorbar\":{\"outlinewidth\":0,\"ticks\":\"\"}},\"marker\":{\"colorbar\":{\"outlinewidth\":0,\"ticks\":\"\"}}}],\"scattermapbox\":[{\"type\":\"scattermapbox\",\"marker\":{\"colorbar\":{\"outlinewidth\":0,\"ticks\":\"\"}}}],\"scatterternary\":[{\"type\":\"scatterternary\",\"marker\":{\"colorbar\":{\"outlinewidth\":0,\"ticks\":\"\"}}}],\"scattercarpet\":[{\"type\":\"scattercarpet\",\"marker\":{\"colorbar\":{\"outlinewidth\":0,\"ticks\":\"\"}}}],\"carpet\":[{\"aaxis\":{\"endlinecolor\":\"#2a3f5f\",\"gridcolor\":\"white\",\"linecolor\":\"white\",\"minorgridcolor\":\"white\",\"startlinecolor\":\"#2a3f5f\"},\"baxis\":{\"endlinecolor\":\"#2a3f5f\",\"gridcolor\":\"white\",\"linecolor\":\"white\",\"minorgridcolor\":\"white\",\"startlinecolor\":\"#2a3f5f\"},\"type\":\"carpet\"}],\"table\":[{\"cells\":{\"fill\":{\"color\":\"#EBF0F8\"},\"line\":{\"color\":\"white\"}},\"header\":{\"fill\":{\"color\":\"#C8D4E3\"},\"line\":{\"color\":\"white\"}},\"type\":\"table\"}],\"barpolar\":[{\"marker\":{\"line\":{\"color\":\"#E5ECF6\",\"width\":0.5},\"pattern\":{\"fillmode\":\"overlay\",\"size\":10,\"solidity\":0.2}},\"type\":\"barpolar\"}],\"pie\":[{\"automargin\":true,\"type\":\"pie\"}]},\"layout\":{\"autotypenumbers\":\"strict\",\"colorway\":[\"#636efa\",\"#EF553B\",\"#00cc96\",\"#ab63fa\",\"#FFA15A\",\"#19d3f3\",\"#FF6692\",\"#B6E880\",\"#FF97FF\",\"#FECB52\"],\"font\":{\"color\":\"#2a3f5f\"},\"hovermode\":\"closest\",\"hoverlabel\":{\"align\":\"left\"},\"paper_bgcolor\":\"white\",\"plot_bgcolor\":\"#E5ECF6\",\"polar\":{\"bgcolor\":\"#E5ECF6\",\"angularaxis\":{\"gridcolor\":\"white\",\"linecolor\":\"white\",\"ticks\":\"\"},\"radialaxis\":{\"gridcolor\":\"white\",\"linecolor\":\"white\",\"ticks\":\"\"}},\"ternary\":{\"bgcolor\":\"#E5ECF6\",\"aaxis\":{\"gridcolor\":\"white\",\"linecolor\":\"white\",\"ticks\":\"\"},\"baxis\":{\"gridcolor\":\"white\",\"linecolor\":\"white\",\"ticks\":\"\"},\"caxis\":{\"gridcolor\":\"white\",\"linecolor\":\"white\",\"ticks\":\"\"}},\"coloraxis\":{\"colorbar\":{\"outlinewidth\":0,\"ticks\":\"\"}},\"colorscale\":{\"sequential\":[[0.0,\"#0d0887\"],[0.1111111111111111,\"#46039f\"],[0.2222222222222222,\"#7201a8\"],[0.3333333333333333,\"#9c179e\"],[0.4444444444444444,\"#bd3786\"],[0.5555555555555556,\"#d8576b\"],[0.6666666666666666,\"#ed7953\"],[0.7777777777777778,\"#fb9f3a\"],[0.8888888888888888,\"#fdca26\"],[1.0,\"#f0f921\"]],\"sequentialminus\":[[0.0,\"#0d0887\"],[0.1111111111111111,\"#46039f\"],[0.2222222222222222,\"#7201a8\"],[0.3333333333333333,\"#9c179e\"],[0.4444444444444444,\"#bd3786\"],[0.5555555555555556,\"#d8576b\"],[0.6666666666666666,\"#ed7953\"],[0.7777777777777778,\"#fb9f3a\"],[0.8888888888888888,\"#fdca26\"],[1.0,\"#f0f921\"]],\"diverging\":[[0,\"#8e0152\"],[0.1,\"#c51b7d\"],[0.2,\"#de77ae\"],[0.3,\"#f1b6da\"],[0.4,\"#fde0ef\"],[0.5,\"#f7f7f7\"],[0.6,\"#e6f5d0\"],[0.7,\"#b8e186\"],[0.8,\"#7fbc41\"],[0.9,\"#4d9221\"],[1,\"#276419\"]]},\"xaxis\":{\"gridcolor\":\"white\",\"linecolor\":\"white\",\"ticks\":\"\",\"title\":{\"standoff\":15},\"zerolinecolor\":\"white\",\"automargin\":true,\"zerolinewidth\":2},\"yaxis\":{\"gridcolor\":\"white\",\"linecolor\":\"white\",\"ticks\":\"\",\"title\":{\"standoff\":15},\"zerolinecolor\":\"white\",\"automargin\":true,\"zerolinewidth\":2},\"scene\":{\"xaxis\":{\"backgroundcolor\":\"#E5ECF6\",\"gridcolor\":\"white\",\"linecolor\":\"white\",\"showbackground\":true,\"ticks\":\"\",\"zerolinecolor\":\"white\",\"gridwidth\":2},\"yaxis\":{\"backgroundcolor\":\"#E5ECF6\",\"gridcolor\":\"white\",\"linecolor\":\"white\",\"showbackground\":true,\"ticks\":\"\",\"zerolinecolor\":\"white\",\"gridwidth\":2},\"zaxis\":{\"backgroundcolor\":\"#E5ECF6\",\"gridcolor\":\"white\",\"linecolor\":\"white\",\"showbackground\":true,\"ticks\":\"\",\"zerolinecolor\":\"white\",\"gridwidth\":2}},\"shapedefaults\":{\"line\":{\"color\":\"#2a3f5f\"}},\"annotationdefaults\":{\"arrowcolor\":\"#2a3f5f\",\"arrowhead\":0,\"arrowwidth\":1},\"geo\":{\"bgcolor\":\"white\",\"landcolor\":\"#E5ECF6\",\"subunitcolor\":\"white\",\"showland\":true,\"showlakes\":true,\"lakecolor\":\"white\"},\"title\":{\"x\":0.05},\"mapbox\":{\"style\":\"light\"}}}},                        {\"responsive\": true}                    ).then(function(){\n",
       "                            \n",
       "var gd = document.getElementById('7419ee0f-8f45-451e-a375-e2c81ef6e9c1');\n",
       "var x = new MutationObserver(function (mutations, observer) {{\n",
       "        var display = window.getComputedStyle(gd).display;\n",
       "        if (!display || display === 'none') {{\n",
       "            console.log([gd, 'removed!']);\n",
       "            Plotly.purge(gd);\n",
       "            observer.disconnect();\n",
       "        }}\n",
       "}});\n",
       "\n",
       "// Listen for the removal of the full notebook cells\n",
       "var notebookContainer = gd.closest('#notebook-container');\n",
       "if (notebookContainer) {{\n",
       "    x.observe(notebookContainer, {childList: true});\n",
       "}}\n",
       "\n",
       "// Listen for the clearing of the current output cell\n",
       "var outputEl = gd.closest('.output');\n",
       "if (outputEl) {{\n",
       "    x.observe(outputEl, {childList: true});\n",
       "}}\n",
       "\n",
       "                        })                };                });            </script>        </div>"
      ]
     },
     "metadata": {},
     "output_type": "display_data"
    }
   ],
   "source": [
    "plot_optimization_history(study4)"
   ]
  },
  {
   "cell_type": "code",
   "execution_count": 17,
   "id": "53c83bd8",
   "metadata": {
    "execution": {
     "iopub.execute_input": "2023-03-09T15:09:53.082802Z",
     "iopub.status.busy": "2023-03-09T15:09:53.082540Z",
     "iopub.status.idle": "2023-03-09T15:09:53.114212Z",
     "shell.execute_reply": "2023-03-09T15:09:53.113370Z"
    },
    "papermill": {
     "duration": 0.045241,
     "end_time": "2023-03-09T15:09:53.116108",
     "exception": false,
     "start_time": "2023-03-09T15:09:53.070867",
     "status": "completed"
    },
    "tags": []
   },
   "outputs": [
    {
     "data": {
      "text/html": [
       "<div>                            <div id=\"6f140c61-d195-4840-8b04-2fa5a0720f62\" class=\"plotly-graph-div\" style=\"height:525px; width:100%;\"></div>            <script type=\"text/javascript\">                require([\"plotly\"], function(Plotly) {                    window.PLOTLYENV=window.PLOTLYENV || {};                                    if (document.getElementById(\"6f140c61-d195-4840-8b04-2fa5a0720f62\")) {                    Plotly.newPlot(                        \"6f140c61-d195-4840-8b04-2fa5a0720f62\",                        [{\"marker\":{\"maxdisplayed\":10},\"mode\":\"lines+markers\",\"name\":\"Trial0\",\"x\":[0,1,2,3,4,5,6,7,8,9,10,11,12,13,14,15,16,17,18,19,20,21,22,23,24],\"y\":[1.4822152853012085,1.441381573677063,1.5437138080596924,1.4986287355422974,1.5004100799560547,1.3994739055633545,1.4535155296325684,1.6210349798202515,1.7716995477676392,1.8512097597122192,1.9479155540466309,2.257829189300537,2.1739888191223145,2.2435505390167236,2.3915789127349854,2.4087727069854736,2.273528814315796,2.676358938217163,2.63826060295105,2.5101804733276367,2.696983814239502,3.1889679431915283,3.0837504863739014,3.0311126708984375,2.9535272121429443],\"type\":\"scatter\"},{\"marker\":{\"maxdisplayed\":10},\"mode\":\"lines+markers\",\"name\":\"Trial1\",\"x\":[0,1,2,3,4,5,6,7,8,9,10,11,12,13,14,15,16,17,18,19,20,21,22,23,24],\"y\":[1.3861372470855713,1.3781119585037231,1.3666672706604004,1.3515517711639404,1.3216241598129272,1.3358538150787354,1.2801506519317627,1.3267087936401367,1.3328723907470703,1.4502997398376465,1.4496173858642578,1.408923864364624,1.6821527481079102,1.6934679746627808,1.627247929573059,1.8230268955230713,1.9439632892608643,2.3766090869903564,1.8757476806640625,1.8893625736236572,1.7870874404907227,2.2887802124023438,2.1367547512054443,2.066559076309204,2.105698347091675],\"type\":\"scatter\"},{\"marker\":{\"maxdisplayed\":10},\"mode\":\"lines+markers\",\"name\":\"Trial2\",\"x\":[0,1,2,3,4,5,6,7,8,9,10,11,12,13,14,15,16,17,18,19,20,21,22,23,24],\"y\":[1.5119273662567139,1.397594690322876,1.347529411315918,1.3086403608322144,1.3087756633758545,1.2922065258026123,1.280616044998169,1.2509843111038208,1.2969690561294556,1.3418118953704834,1.332894206047058,1.5005282163619995,1.6084322929382324,1.616328239440918,1.8122048377990723,1.7700796127319336,1.8293225765228271,1.8132745027542114,2.227778196334839,2.1121294498443604,2.010464668273926,2.1069958209991455,2.6586084365844727,2.3609859943389893,2.6308367252349854],\"type\":\"scatter\"},{\"marker\":{\"maxdisplayed\":10},\"mode\":\"lines+markers\",\"name\":\"Trial3\",\"x\":[0,1,2,3,4,5,6,7,8,9,10,11,12,13,14,15,16,17,18,19,20,21,22,23,24],\"y\":[1.4891290664672852,1.3914141654968262,1.5495675802230835,1.3628003597259521,1.3377305269241333,1.3568646907806396,1.3096290826797485,1.4503297805786133,1.3006309270858765,1.3481699228286743,1.4182401895523071,1.4564117193222046,1.8964885473251343,1.8228689432144165,1.690159559249878,2.0016729831695557,2.015672445297241,2.2453534603118896,2.315127372741699,2.731994390487671,2.373110294342041,2.837442398071289,2.832430362701416,2.974375009536743,3.0428569316864014],\"type\":\"scatter\"},{\"marker\":{\"maxdisplayed\":10},\"mode\":\"lines+markers\",\"name\":\"Trial4\",\"x\":[0,1,2,3,4,5,6,7,8,9,10,11,12,13,14,15,16,17,18,19,20,21,22,23,24],\"y\":[1.4614747762680054,1.3741097450256348,1.3329424858093262,1.2471002340316772,1.2775723934173584,1.269696831703186,1.308535099029541,1.5472983121871948,1.4283519983291626,1.7551063299179077,1.9091932773590088,1.8116668462753296,2.1242880821228027,2.092909574508667,2.4649710655212402,2.005767583847046,2.5984175205230713,2.3238792419433594,2.620828628540039,3.3344645500183105,3.1812222003936768,3.477064371109009,3.988025188446045,4.320871829986572,4.397964954376221],\"type\":\"scatter\"},{\"marker\":{\"maxdisplayed\":10},\"mode\":\"lines+markers\",\"name\":\"Trial5\",\"x\":[0,1,2,3,4,5,6,7,8,9,10,11,12,13,14,15,16,17,18,19,20,21,22,23,24],\"y\":[1.584662675857544,1.5713244676589966,1.563725471496582,1.5515716075897217,1.5716304779052734,1.5602425336837769,1.4392286539077759,1.3504223823547363,1.3379729986190796,1.3807799816131592,1.4266061782836914,1.555499792098999,1.4565045833587646,1.5092324018478394,1.6492083072662354,1.8021302223205566,1.896689534187317,1.9008008241653442,2.0610949993133545,2.276878833770752,2.3592357635498047,2.610731840133667,2.5310921669006348,2.959357738494873,3.0319998264312744],\"type\":\"scatter\"},{\"marker\":{\"maxdisplayed\":10},\"mode\":\"lines+markers\",\"name\":\"Trial6\",\"x\":[0,1,2,3,4,5,6,7,8,9,10,11,12,13,14,15,16,17,18,19,20,21,22,23,24],\"y\":[1.4560625553131104,1.3548375368118286,1.2518631219863892,1.2667372226715088,1.253072738647461,1.3901649713516235,1.3912607431411743,1.409570336341858,1.4460811614990234,1.5438079833984375,1.6141389608383179,1.8321315050125122,1.7038060426712036,1.7291041612625122,1.8631880283355713,1.9438649415969849,1.9703649282455444,2.1957876682281494,2.393738031387329,2.6507790088653564,2.459083318710327,2.682575225830078,3.1842873096466064,3.0047948360443115,3.342909336090088],\"type\":\"scatter\"},{\"marker\":{\"maxdisplayed\":10},\"mode\":\"lines+markers\",\"name\":\"Trial7\",\"x\":[0,1,2,3,4,5,6,7,8,9,10,11,12,13,14,15,16,17,18,19,20,21,22,23,24],\"y\":[1.5523234605789185,1.561924934387207,1.3845895528793335,1.4233726263046265,1.4349379539489746,1.697378396987915,1.5728932619094849,1.6175673007965088,1.5925376415252686,1.8071688413619995,1.5959713459014893,1.9509190320968628,1.6391500234603882,1.5811185836791992,1.6180298328399658,1.7741529941558838,1.7696408033370972,1.863160252571106,1.843336820602417,1.8362984657287598,2.0045828819274902,2.0666232109069824,2.0158519744873047,1.9397317171096802,2.1702394485473633],\"type\":\"scatter\"},{\"marker\":{\"maxdisplayed\":10},\"mode\":\"lines+markers\",\"name\":\"Trial8\",\"x\":[0,1,2,3,4,5,6,7,8,9,10,11,12,13,14,15,16,17,18,19,20,21,22,23,24],\"y\":[1.5626569986343384,1.5751091241836548,1.5517593622207642,1.537872076034546,1.5560648441314697,1.4533699750900269,1.3794158697128296,1.3906848430633545,1.348405122756958,1.3197156190872192,1.3517529964447021,1.4306631088256836,1.4169596433639526,1.3178555965423584,1.3308942317962646,1.3467098474502563,1.3184913396835327,1.3799775838851929,1.3831959962844849,1.3551615476608276,1.3833297491073608,1.4354310035705566,1.4312050342559814,1.4529579877853394,1.4737046957015991],\"type\":\"scatter\"},{\"marker\":{\"maxdisplayed\":10},\"mode\":\"lines+markers\",\"name\":\"Trial9\",\"x\":[0,1,2,3,4,5,6,7,8,9,10,11,12,13,14,15,16,17,18,19,20,21,22,23,24],\"y\":[1.401424765586853,1.4247255325317383,1.3706616163253784,1.3677802085876465,1.2995502948760986,1.4006998538970947,1.3241559267044067,1.3945207595825195,1.3690937757492065,1.5305449962615967,1.4951732158660889,1.4344233274459839,1.52199387550354,1.636775255203247,1.6341480016708374,1.656165361404419,1.671540379524231,1.609244465827942,1.8236184120178223,1.6810141801834106,1.801835060119629,1.888235330581665,2.016125440597534,2.109527111053467,1.925713300704956],\"type\":\"scatter\"},{\"marker\":{\"maxdisplayed\":10},\"mode\":\"lines+markers\",\"name\":\"Trial10\",\"x\":[0,1,2,3,4,5,6,7,8,9,10,11,12,13,14,15,16,17,18,19,20,21,22,23,24],\"y\":[1.5619364976882935,1.5619487762451172,1.5649538040161133,1.5329666137695312,1.4890685081481934,1.3806777000427246,1.3690053224563599,1.4050748348236084,1.4290059804916382,1.400219440460205,1.458432674407959,1.4308093786239624,1.457980751991272,1.5878719091415405,1.527881145477295,1.710330605506897,1.6860803365707397,1.8245818614959717,1.9092704057693481,2.032085657119751,2.049316644668579,1.8355516195297241,1.9221439361572266,2.1488845348358154,2.265324592590332],\"type\":\"scatter\"},{\"marker\":{\"maxdisplayed\":10},\"mode\":\"lines+markers\",\"name\":\"Trial11\",\"x\":[0,1,2,3,4,5,6,7,8,9,10,11,12,13,14,15,16,17,18,19,20,21,22,23,24],\"y\":[1.5924150943756104,1.5733181238174438,1.5599340200424194,1.5488215684890747,1.5318950414657593,1.545035719871521,1.5408399105072021,1.5143206119537354,1.4052451848983765,1.3992137908935547,1.3973196744918823,1.4369311332702637,1.430038571357727,1.444884181022644,1.557892084121704,1.4935557842254639,1.4548048973083496,1.4949426651000977,1.479475736618042,1.5048245191574097,1.5177395343780518,1.476065754890442,1.5091383457183838,1.5564123392105103,1.5917118787765503],\"type\":\"scatter\"},{\"marker\":{\"maxdisplayed\":10},\"mode\":\"lines+markers\",\"name\":\"Trial12\",\"x\":[0,1,2,3,4,5,6,7,8,9,10,11,12,13,14,15,16,17,18,19,20,21,22,23,24],\"y\":[1.5834078788757324,1.587777853012085,1.5602902173995972,1.5286071300506592,1.379141926765442,1.3809502124786377,1.3629461526870728,1.3611059188842773,1.3756216764450073,1.3556879758834839,1.4048758745193481,1.3740168809890747,1.4247130155563354,1.3683511018753052,1.4122376441955566,1.3705742359161377,1.394801139831543,1.4550970792770386,1.4782288074493408,1.528696060180664,1.5910813808441162,1.5606313943862915,1.6530550718307495,1.5680750608444214,1.6569799184799194],\"type\":\"scatter\"},{\"marker\":{\"maxdisplayed\":10},\"mode\":\"lines+markers\",\"name\":\"Trial13\",\"x\":[0,1,2,3,4,5,6,7,8,9,10,11,12,13,14,15,16,17,18,19,20,21,22,23,24],\"y\":[1.584456205368042,1.586029052734375,1.5842775106430054,1.584107518196106,1.584037184715271,1.5860649347305298,1.5844526290893555,1.584412693977356,1.5843180418014526,1.5845706462860107,1.5854283571243286,1.5853461027145386,1.5856307744979858,1.5845763683319092,1.5844181776046753,1.5846575498580933,1.5842344760894775,1.584263801574707,1.5844788551330566,1.584435224533081,1.5841809511184692,1.585496187210083,1.586045742034912,1.5849974155426025,1.5845576524734497],\"type\":\"scatter\"},{\"marker\":{\"maxdisplayed\":10},\"mode\":\"lines+markers\",\"name\":\"Trial14\",\"x\":[0,1,2,3,4,5,6,7,8,9,10,11,12,13,14,15,16,17,18,19,20,21,22,23,24],\"y\":[1.5576751232147217,1.5328962802886963,1.5167089700698853,1.5076689720153809,1.364943027496338,1.366202473640442,1.3474699258804321,1.351135015487671,1.40836763381958,1.5075631141662598,1.5314215421676636,2.0382328033447266,1.6866626739501953,1.7265373468399048,2.198220729827881,2.005746364593506,2.3128480911254883,2.544316053390503,2.0909829139709473,2.3891520500183105,2.8566625118255615,2.749739170074463,2.5908563137054443,3.2121636867523193,2.645120620727539],\"type\":\"scatter\"},{\"marker\":{\"maxdisplayed\":10},\"mode\":\"lines+markers\",\"name\":\"Trial15\",\"x\":[0,1,2,3,4,5,6,7,8,9,10,11,12,13,14,15,16,17,18,19,20,21,22,23,24],\"y\":[1.5411170721054077,1.4506027698516846,1.3986207246780396,1.3300306797027588,1.3488062620162964,1.3613274097442627,1.3178203105926514,1.3364874124526978,1.3346422910690308,1.3673205375671387,1.368464708328247,1.3618656396865845,1.4154070615768433,1.3991235494613647,1.4553357362747192,1.5126171112060547,1.5716869831085205,1.6079438924789429,1.6911665201187134,1.6426092386245728,1.6739152669906616,1.7136197090148926,1.7776986360549927,1.7163444757461548,1.8860111236572266],\"type\":\"scatter\"},{\"marker\":{\"maxdisplayed\":10},\"mode\":\"lines+markers\",\"name\":\"Trial16\",\"x\":[0,1,2,3,4,5,6,7,8,9,10,11,12,13,14,15,16,17,18,19,20,21,22,23,24],\"y\":[1.5588186979293823,1.4258489608764648,1.3864904642105103,1.3500877618789673,1.3706716299057007,1.369173526763916,1.350031852722168,1.3902074098587036,1.519704818725586,1.4835381507873535,1.697351336479187,1.642941951751709,1.8648797273635864,1.9230550527572632,1.890859842300415,1.9317569732666016,2.0718870162963867,1.9038511514663696,2.1637814044952393,2.1764578819274902,2.3616886138916016,2.2309601306915283,2.309908628463745,2.3849644660949707,2.5089807510375977],\"type\":\"scatter\"},{\"marker\":{\"maxdisplayed\":10},\"mode\":\"lines+markers\",\"name\":\"Trial17\",\"x\":[0,1,2,3,4,5,6,7,8,9,10,11,12,13,14,15,16,17,18,19,20,21,22,23,24],\"y\":[1.437761902809143,1.570892572402954,1.56215238571167,1.5561820268630981,1.5501923561096191,1.556714653968811,1.5736987590789795,1.5670173168182373,1.5625497102737427,1.5530949831008911,1.551074504852295,1.553518533706665,1.409030795097351,1.3701709508895874,1.3611916303634644,1.3963676691055298,1.3728644847869873,1.4002182483673096,1.3841456174850464,1.390794277191162,1.3926475048065186,1.3655483722686768,1.3855615854263306,1.4817183017730713,1.4579490423202515],\"type\":\"scatter\"},{\"marker\":{\"maxdisplayed\":10},\"mode\":\"lines+markers\",\"name\":\"Trial18\",\"x\":[0,1,2,3,4,5,6,7,8,9,10,11,12,13,14,15,16,17,18,19,20,21,22,23,24],\"y\":[1.3925120830535889,1.4147613048553467,1.3348430395126343,1.3495744466781616,1.37180757522583,1.2620271444320679,1.2731207609176636,1.3171597719192505,1.2335593700408936,1.3598740100860596,1.5375754833221436,1.3861292600631714,1.5092624425888062,1.476767659187317,1.8217333555221558,1.7132567167282104,1.9260644912719727,2.1196532249450684,2.037262201309204,1.946478009223938,2.1633520126342773,2.1773979663848877,2.392951250076294,2.400297164916992,2.6734957695007324],\"type\":\"scatter\"},{\"marker\":{\"maxdisplayed\":10},\"mode\":\"lines+markers\",\"name\":\"Trial19\",\"x\":[0,1,2,3,4,5,6,7,8,9,10,11,12,13,14,15,16,17,18,19,20,21,22,23,24],\"y\":[1.5842556953430176,1.572670340538025,1.5084242820739746,1.4824726581573486,1.4843978881835938,1.4696917533874512,1.450260043144226,1.4417086839675903,1.4486557245254517,1.5006457567214966,1.6110845804214478,1.5118176937103271,1.5953446626663208,1.535138726234436,1.6073869466781616,1.5502828359603882,1.6070531606674194,1.6049811840057373,1.6311383247375488,1.6686451435089111,1.6786388158798218,1.743837833404541,1.630522608757019,1.631292700767517,1.641021490097046],\"type\":\"scatter\"},{\"marker\":{\"maxdisplayed\":10},\"mode\":\"lines+markers\",\"name\":\"Trial20\",\"x\":[0,1,2,3,4,5,6,7,8,9,10,11,12,13,14,15,16,17,18,19,20,21,22,23,24],\"y\":[1.6455210447311401,1.587260127067566,1.437770962715149,1.3911687135696411,1.360905647277832,1.358393907546997,1.3704051971435547,1.346390724182129,1.3492047786712646,1.3926219940185547,1.5654561519622803,1.5103296041488647,1.4876937866210938,1.751521110534668,2.009478807449341,1.8699928522109985,2.0392916202545166,2.442263126373291,2.3239622116088867,2.512028932571411,2.8768303394317627,2.8813836574554443,2.743455171585083,2.495654582977295,2.8943324089050293],\"type\":\"scatter\"},{\"marker\":{\"maxdisplayed\":10},\"mode\":\"lines+markers\",\"name\":\"Trial21\",\"x\":[0,1,2,3,4,5,6,7,8,9,10,11,12,13,14,15,16,17,18,19,20,21,22,23,24],\"y\":[1.585754632949829,1.5864163637161255,1.5830591917037964,1.565490961074829,1.5570569038391113,1.5126264095306396,1.4612212181091309,1.4266444444656372,1.3894022703170776,1.3926899433135986,1.3529049158096313,1.367610216140747,1.3339349031448364,1.3202812671661377,1.324808955192566,1.5813000202178955,1.3991379737854004,1.3426114320755005,1.3483580350875854,1.3870612382888794,1.4248343706130981,1.4214171171188354,1.4742345809936523,1.4749572277069092,1.5080950260162354],\"type\":\"scatter\"},{\"marker\":{\"maxdisplayed\":10},\"mode\":\"lines+markers\",\"name\":\"Trial22\",\"x\":[0,1,2,3,4,5,6,7,8,9,10,11,12,13,14,15,16,17,18,19,20,21,22,23,24],\"y\":[1.459545612335205,1.420798659324646,1.2817367315292358,1.2601715326309204,1.251707911491394,1.3820292949676514,1.2911547422409058,1.3204066753387451,2.1973037719726562,1.2992198467254639,1.3136446475982666,1.3548095226287842,1.3777409791946411,1.3925634622573853,1.438921332359314,1.4664278030395508,1.4796741008758545,1.5393410921096802,1.8287421464920044,1.5876390933990479,1.5905065536499023,1.7222844362258911,1.7392328977584839,1.6716639995574951,1.7372241020202637],\"type\":\"scatter\"},{\"marker\":{\"maxdisplayed\":10},\"mode\":\"lines+markers\",\"name\":\"Trial23\",\"x\":[0,1,2,3,4,5,6,7,8,9,10,11,12,13,14,15,16,17,18,19,20,21,22,23,24],\"y\":[1.5545365810394287,1.507574439048767,1.3668186664581299,1.3594990968704224,1.350873351097107,1.3476794958114624,1.3483978509902954,1.3120627403259277,1.3777621984481812,1.3439550399780273,1.398555874824524,1.3638957738876343,1.3735687732696533,1.3739649057388306,1.3877761363983154,1.42893385887146,1.4923547506332397,1.4983537197113037,1.566771388053894,1.6601216793060303,1.801072597503662,1.8451752662658691,1.7688312530517578,1.9585981369018555,1.920548439025879],\"type\":\"scatter\"},{\"marker\":{\"maxdisplayed\":10},\"mode\":\"lines+markers\",\"name\":\"Trial24\",\"x\":[0,1,2,3,4,5,6,7,8,9,10,11,12,13,14,15,16,17,18,19,20,21,22,23,24],\"y\":[1.5639668703079224,1.5479038953781128,1.4892427921295166,1.3951964378356934,1.3633992671966553,1.3754075765609741,1.3544738292694092,1.3764104843139648,1.2804428339004517,1.2938189506530762,1.3653408288955688,1.3246815204620361,1.4098104238510132,1.397957444190979,1.4088716506958008,1.4150041341781616,1.4803200960159302,1.5068449974060059,1.613263726234436,1.4637800455093384,1.441135287284851,1.6107441186904907,1.5496556758880615,1.6718385219573975,1.6997246742248535],\"type\":\"scatter\"}],                        {\"showlegend\":false,\"title\":{\"text\":\"Intermediate Values Plot\"},\"xaxis\":{\"title\":{\"text\":\"Step\"}},\"yaxis\":{\"title\":{\"text\":\"Intermediate Value\"}},\"template\":{\"data\":{\"histogram2dcontour\":[{\"type\":\"histogram2dcontour\",\"colorbar\":{\"outlinewidth\":0,\"ticks\":\"\"},\"colorscale\":[[0.0,\"#0d0887\"],[0.1111111111111111,\"#46039f\"],[0.2222222222222222,\"#7201a8\"],[0.3333333333333333,\"#9c179e\"],[0.4444444444444444,\"#bd3786\"],[0.5555555555555556,\"#d8576b\"],[0.6666666666666666,\"#ed7953\"],[0.7777777777777778,\"#fb9f3a\"],[0.8888888888888888,\"#fdca26\"],[1.0,\"#f0f921\"]]}],\"choropleth\":[{\"type\":\"choropleth\",\"colorbar\":{\"outlinewidth\":0,\"ticks\":\"\"}}],\"histogram2d\":[{\"type\":\"histogram2d\",\"colorbar\":{\"outlinewidth\":0,\"ticks\":\"\"},\"colorscale\":[[0.0,\"#0d0887\"],[0.1111111111111111,\"#46039f\"],[0.2222222222222222,\"#7201a8\"],[0.3333333333333333,\"#9c179e\"],[0.4444444444444444,\"#bd3786\"],[0.5555555555555556,\"#d8576b\"],[0.6666666666666666,\"#ed7953\"],[0.7777777777777778,\"#fb9f3a\"],[0.8888888888888888,\"#fdca26\"],[1.0,\"#f0f921\"]]}],\"heatmap\":[{\"type\":\"heatmap\",\"colorbar\":{\"outlinewidth\":0,\"ticks\":\"\"},\"colorscale\":[[0.0,\"#0d0887\"],[0.1111111111111111,\"#46039f\"],[0.2222222222222222,\"#7201a8\"],[0.3333333333333333,\"#9c179e\"],[0.4444444444444444,\"#bd3786\"],[0.5555555555555556,\"#d8576b\"],[0.6666666666666666,\"#ed7953\"],[0.7777777777777778,\"#fb9f3a\"],[0.8888888888888888,\"#fdca26\"],[1.0,\"#f0f921\"]]}],\"heatmapgl\":[{\"type\":\"heatmapgl\",\"colorbar\":{\"outlinewidth\":0,\"ticks\":\"\"},\"colorscale\":[[0.0,\"#0d0887\"],[0.1111111111111111,\"#46039f\"],[0.2222222222222222,\"#7201a8\"],[0.3333333333333333,\"#9c179e\"],[0.4444444444444444,\"#bd3786\"],[0.5555555555555556,\"#d8576b\"],[0.6666666666666666,\"#ed7953\"],[0.7777777777777778,\"#fb9f3a\"],[0.8888888888888888,\"#fdca26\"],[1.0,\"#f0f921\"]]}],\"contourcarpet\":[{\"type\":\"contourcarpet\",\"colorbar\":{\"outlinewidth\":0,\"ticks\":\"\"}}],\"contour\":[{\"type\":\"contour\",\"colorbar\":{\"outlinewidth\":0,\"ticks\":\"\"},\"colorscale\":[[0.0,\"#0d0887\"],[0.1111111111111111,\"#46039f\"],[0.2222222222222222,\"#7201a8\"],[0.3333333333333333,\"#9c179e\"],[0.4444444444444444,\"#bd3786\"],[0.5555555555555556,\"#d8576b\"],[0.6666666666666666,\"#ed7953\"],[0.7777777777777778,\"#fb9f3a\"],[0.8888888888888888,\"#fdca26\"],[1.0,\"#f0f921\"]]}],\"surface\":[{\"type\":\"surface\",\"colorbar\":{\"outlinewidth\":0,\"ticks\":\"\"},\"colorscale\":[[0.0,\"#0d0887\"],[0.1111111111111111,\"#46039f\"],[0.2222222222222222,\"#7201a8\"],[0.3333333333333333,\"#9c179e\"],[0.4444444444444444,\"#bd3786\"],[0.5555555555555556,\"#d8576b\"],[0.6666666666666666,\"#ed7953\"],[0.7777777777777778,\"#fb9f3a\"],[0.8888888888888888,\"#fdca26\"],[1.0,\"#f0f921\"]]}],\"mesh3d\":[{\"type\":\"mesh3d\",\"colorbar\":{\"outlinewidth\":0,\"ticks\":\"\"}}],\"scatter\":[{\"fillpattern\":{\"fillmode\":\"overlay\",\"size\":10,\"solidity\":0.2},\"type\":\"scatter\"}],\"parcoords\":[{\"type\":\"parcoords\",\"line\":{\"colorbar\":{\"outlinewidth\":0,\"ticks\":\"\"}}}],\"scatterpolargl\":[{\"type\":\"scatterpolargl\",\"marker\":{\"colorbar\":{\"outlinewidth\":0,\"ticks\":\"\"}}}],\"bar\":[{\"error_x\":{\"color\":\"#2a3f5f\"},\"error_y\":{\"color\":\"#2a3f5f\"},\"marker\":{\"line\":{\"color\":\"#E5ECF6\",\"width\":0.5},\"pattern\":{\"fillmode\":\"overlay\",\"size\":10,\"solidity\":0.2}},\"type\":\"bar\"}],\"scattergeo\":[{\"type\":\"scattergeo\",\"marker\":{\"colorbar\":{\"outlinewidth\":0,\"ticks\":\"\"}}}],\"scatterpolar\":[{\"type\":\"scatterpolar\",\"marker\":{\"colorbar\":{\"outlinewidth\":0,\"ticks\":\"\"}}}],\"histogram\":[{\"marker\":{\"pattern\":{\"fillmode\":\"overlay\",\"size\":10,\"solidity\":0.2}},\"type\":\"histogram\"}],\"scattergl\":[{\"type\":\"scattergl\",\"marker\":{\"colorbar\":{\"outlinewidth\":0,\"ticks\":\"\"}}}],\"scatter3d\":[{\"type\":\"scatter3d\",\"line\":{\"colorbar\":{\"outlinewidth\":0,\"ticks\":\"\"}},\"marker\":{\"colorbar\":{\"outlinewidth\":0,\"ticks\":\"\"}}}],\"scattermapbox\":[{\"type\":\"scattermapbox\",\"marker\":{\"colorbar\":{\"outlinewidth\":0,\"ticks\":\"\"}}}],\"scatterternary\":[{\"type\":\"scatterternary\",\"marker\":{\"colorbar\":{\"outlinewidth\":0,\"ticks\":\"\"}}}],\"scattercarpet\":[{\"type\":\"scattercarpet\",\"marker\":{\"colorbar\":{\"outlinewidth\":0,\"ticks\":\"\"}}}],\"carpet\":[{\"aaxis\":{\"endlinecolor\":\"#2a3f5f\",\"gridcolor\":\"white\",\"linecolor\":\"white\",\"minorgridcolor\":\"white\",\"startlinecolor\":\"#2a3f5f\"},\"baxis\":{\"endlinecolor\":\"#2a3f5f\",\"gridcolor\":\"white\",\"linecolor\":\"white\",\"minorgridcolor\":\"white\",\"startlinecolor\":\"#2a3f5f\"},\"type\":\"carpet\"}],\"table\":[{\"cells\":{\"fill\":{\"color\":\"#EBF0F8\"},\"line\":{\"color\":\"white\"}},\"header\":{\"fill\":{\"color\":\"#C8D4E3\"},\"line\":{\"color\":\"white\"}},\"type\":\"table\"}],\"barpolar\":[{\"marker\":{\"line\":{\"color\":\"#E5ECF6\",\"width\":0.5},\"pattern\":{\"fillmode\":\"overlay\",\"size\":10,\"solidity\":0.2}},\"type\":\"barpolar\"}],\"pie\":[{\"automargin\":true,\"type\":\"pie\"}]},\"layout\":{\"autotypenumbers\":\"strict\",\"colorway\":[\"#636efa\",\"#EF553B\",\"#00cc96\",\"#ab63fa\",\"#FFA15A\",\"#19d3f3\",\"#FF6692\",\"#B6E880\",\"#FF97FF\",\"#FECB52\"],\"font\":{\"color\":\"#2a3f5f\"},\"hovermode\":\"closest\",\"hoverlabel\":{\"align\":\"left\"},\"paper_bgcolor\":\"white\",\"plot_bgcolor\":\"#E5ECF6\",\"polar\":{\"bgcolor\":\"#E5ECF6\",\"angularaxis\":{\"gridcolor\":\"white\",\"linecolor\":\"white\",\"ticks\":\"\"},\"radialaxis\":{\"gridcolor\":\"white\",\"linecolor\":\"white\",\"ticks\":\"\"}},\"ternary\":{\"bgcolor\":\"#E5ECF6\",\"aaxis\":{\"gridcolor\":\"white\",\"linecolor\":\"white\",\"ticks\":\"\"},\"baxis\":{\"gridcolor\":\"white\",\"linecolor\":\"white\",\"ticks\":\"\"},\"caxis\":{\"gridcolor\":\"white\",\"linecolor\":\"white\",\"ticks\":\"\"}},\"coloraxis\":{\"colorbar\":{\"outlinewidth\":0,\"ticks\":\"\"}},\"colorscale\":{\"sequential\":[[0.0,\"#0d0887\"],[0.1111111111111111,\"#46039f\"],[0.2222222222222222,\"#7201a8\"],[0.3333333333333333,\"#9c179e\"],[0.4444444444444444,\"#bd3786\"],[0.5555555555555556,\"#d8576b\"],[0.6666666666666666,\"#ed7953\"],[0.7777777777777778,\"#fb9f3a\"],[0.8888888888888888,\"#fdca26\"],[1.0,\"#f0f921\"]],\"sequentialminus\":[[0.0,\"#0d0887\"],[0.1111111111111111,\"#46039f\"],[0.2222222222222222,\"#7201a8\"],[0.3333333333333333,\"#9c179e\"],[0.4444444444444444,\"#bd3786\"],[0.5555555555555556,\"#d8576b\"],[0.6666666666666666,\"#ed7953\"],[0.7777777777777778,\"#fb9f3a\"],[0.8888888888888888,\"#fdca26\"],[1.0,\"#f0f921\"]],\"diverging\":[[0,\"#8e0152\"],[0.1,\"#c51b7d\"],[0.2,\"#de77ae\"],[0.3,\"#f1b6da\"],[0.4,\"#fde0ef\"],[0.5,\"#f7f7f7\"],[0.6,\"#e6f5d0\"],[0.7,\"#b8e186\"],[0.8,\"#7fbc41\"],[0.9,\"#4d9221\"],[1,\"#276419\"]]},\"xaxis\":{\"gridcolor\":\"white\",\"linecolor\":\"white\",\"ticks\":\"\",\"title\":{\"standoff\":15},\"zerolinecolor\":\"white\",\"automargin\":true,\"zerolinewidth\":2},\"yaxis\":{\"gridcolor\":\"white\",\"linecolor\":\"white\",\"ticks\":\"\",\"title\":{\"standoff\":15},\"zerolinecolor\":\"white\",\"automargin\":true,\"zerolinewidth\":2},\"scene\":{\"xaxis\":{\"backgroundcolor\":\"#E5ECF6\",\"gridcolor\":\"white\",\"linecolor\":\"white\",\"showbackground\":true,\"ticks\":\"\",\"zerolinecolor\":\"white\",\"gridwidth\":2},\"yaxis\":{\"backgroundcolor\":\"#E5ECF6\",\"gridcolor\":\"white\",\"linecolor\":\"white\",\"showbackground\":true,\"ticks\":\"\",\"zerolinecolor\":\"white\",\"gridwidth\":2},\"zaxis\":{\"backgroundcolor\":\"#E5ECF6\",\"gridcolor\":\"white\",\"linecolor\":\"white\",\"showbackground\":true,\"ticks\":\"\",\"zerolinecolor\":\"white\",\"gridwidth\":2}},\"shapedefaults\":{\"line\":{\"color\":\"#2a3f5f\"}},\"annotationdefaults\":{\"arrowcolor\":\"#2a3f5f\",\"arrowhead\":0,\"arrowwidth\":1},\"geo\":{\"bgcolor\":\"white\",\"landcolor\":\"#E5ECF6\",\"subunitcolor\":\"white\",\"showland\":true,\"showlakes\":true,\"lakecolor\":\"white\"},\"title\":{\"x\":0.05},\"mapbox\":{\"style\":\"light\"}}}},                        {\"responsive\": true}                    ).then(function(){\n",
       "                            \n",
       "var gd = document.getElementById('6f140c61-d195-4840-8b04-2fa5a0720f62');\n",
       "var x = new MutationObserver(function (mutations, observer) {{\n",
       "        var display = window.getComputedStyle(gd).display;\n",
       "        if (!display || display === 'none') {{\n",
       "            console.log([gd, 'removed!']);\n",
       "            Plotly.purge(gd);\n",
       "            observer.disconnect();\n",
       "        }}\n",
       "}});\n",
       "\n",
       "// Listen for the removal of the full notebook cells\n",
       "var notebookContainer = gd.closest('#notebook-container');\n",
       "if (notebookContainer) {{\n",
       "    x.observe(notebookContainer, {childList: true});\n",
       "}}\n",
       "\n",
       "// Listen for the clearing of the current output cell\n",
       "var outputEl = gd.closest('.output');\n",
       "if (outputEl) {{\n",
       "    x.observe(outputEl, {childList: true});\n",
       "}}\n",
       "\n",
       "                        })                };                });            </script>        </div>"
      ]
     },
     "metadata": {},
     "output_type": "display_data"
    }
   ],
   "source": [
    "plot_intermediate_values(study4)"
   ]
  },
  {
   "cell_type": "code",
   "execution_count": 18,
   "id": "c9fb2a21",
   "metadata": {
    "execution": {
     "iopub.execute_input": "2023-03-09T15:09:53.138863Z",
     "iopub.status.busy": "2023-03-09T15:09:53.138607Z",
     "iopub.status.idle": "2023-03-09T15:09:53.560133Z",
     "shell.execute_reply": "2023-03-09T15:09:53.559103Z"
    },
    "papermill": {
     "duration": 0.435785,
     "end_time": "2023-03-09T15:09:53.562852",
     "exception": false,
     "start_time": "2023-03-09T15:09:53.127067",
     "status": "completed"
    },
    "tags": []
   },
   "outputs": [
    {
     "data": {
      "text/html": [
       "<div>                            <div id=\"e5542480-4eab-4c45-9e0d-6093e1201403\" class=\"plotly-graph-div\" style=\"height:525px; width:100%;\"></div>            <script type=\"text/javascript\">                require([\"plotly\"], function(Plotly) {                    window.PLOTLYENV=window.PLOTLYENV || {};                                    if (document.getElementById(\"e5542480-4eab-4c45-9e0d-6093e1201403\")) {                    Plotly.newPlot(                        \"e5542480-4eab-4c45-9e0d-6093e1201403\",                        [{\"cliponaxis\":false,\"hovertemplate\":[\"dropout_L2 (FloatDistribution): 0.044430275304714745<extra></extra>\",\"dropout_L1 (FloatDistribution): 0.07098167697410446<extra></extra>\",\"lstm_units_L1 (IntDistribution): 0.10454201510045721<extra></extra>\",\"lstm_units_L2 (IntDistribution): 0.33987759350767965<extra></extra>\",\"learning_rate (FloatDistribution): 0.44016843911304393<extra></extra>\"],\"marker\":{\"color\":\"rgb(66,146,198)\"},\"orientation\":\"h\",\"text\":[\"0.04\",\"0.07\",\"0.10\",\"0.34\",\"0.44\"],\"textposition\":\"outside\",\"x\":[0.044430275304714745,0.07098167697410446,0.10454201510045721,0.33987759350767965,0.44016843911304393],\"y\":[\"dropout_L2\",\"dropout_L1\",\"lstm_units_L1\",\"lstm_units_L2\",\"learning_rate\"],\"type\":\"bar\"}],                        {\"showlegend\":false,\"title\":{\"text\":\"Hyperparameter Importances\"},\"xaxis\":{\"title\":{\"text\":\"Importance for Objective Value\"}},\"yaxis\":{\"title\":{\"text\":\"Hyperparameter\"}},\"template\":{\"data\":{\"histogram2dcontour\":[{\"type\":\"histogram2dcontour\",\"colorbar\":{\"outlinewidth\":0,\"ticks\":\"\"},\"colorscale\":[[0.0,\"#0d0887\"],[0.1111111111111111,\"#46039f\"],[0.2222222222222222,\"#7201a8\"],[0.3333333333333333,\"#9c179e\"],[0.4444444444444444,\"#bd3786\"],[0.5555555555555556,\"#d8576b\"],[0.6666666666666666,\"#ed7953\"],[0.7777777777777778,\"#fb9f3a\"],[0.8888888888888888,\"#fdca26\"],[1.0,\"#f0f921\"]]}],\"choropleth\":[{\"type\":\"choropleth\",\"colorbar\":{\"outlinewidth\":0,\"ticks\":\"\"}}],\"histogram2d\":[{\"type\":\"histogram2d\",\"colorbar\":{\"outlinewidth\":0,\"ticks\":\"\"},\"colorscale\":[[0.0,\"#0d0887\"],[0.1111111111111111,\"#46039f\"],[0.2222222222222222,\"#7201a8\"],[0.3333333333333333,\"#9c179e\"],[0.4444444444444444,\"#bd3786\"],[0.5555555555555556,\"#d8576b\"],[0.6666666666666666,\"#ed7953\"],[0.7777777777777778,\"#fb9f3a\"],[0.8888888888888888,\"#fdca26\"],[1.0,\"#f0f921\"]]}],\"heatmap\":[{\"type\":\"heatmap\",\"colorbar\":{\"outlinewidth\":0,\"ticks\":\"\"},\"colorscale\":[[0.0,\"#0d0887\"],[0.1111111111111111,\"#46039f\"],[0.2222222222222222,\"#7201a8\"],[0.3333333333333333,\"#9c179e\"],[0.4444444444444444,\"#bd3786\"],[0.5555555555555556,\"#d8576b\"],[0.6666666666666666,\"#ed7953\"],[0.7777777777777778,\"#fb9f3a\"],[0.8888888888888888,\"#fdca26\"],[1.0,\"#f0f921\"]]}],\"heatmapgl\":[{\"type\":\"heatmapgl\",\"colorbar\":{\"outlinewidth\":0,\"ticks\":\"\"},\"colorscale\":[[0.0,\"#0d0887\"],[0.1111111111111111,\"#46039f\"],[0.2222222222222222,\"#7201a8\"],[0.3333333333333333,\"#9c179e\"],[0.4444444444444444,\"#bd3786\"],[0.5555555555555556,\"#d8576b\"],[0.6666666666666666,\"#ed7953\"],[0.7777777777777778,\"#fb9f3a\"],[0.8888888888888888,\"#fdca26\"],[1.0,\"#f0f921\"]]}],\"contourcarpet\":[{\"type\":\"contourcarpet\",\"colorbar\":{\"outlinewidth\":0,\"ticks\":\"\"}}],\"contour\":[{\"type\":\"contour\",\"colorbar\":{\"outlinewidth\":0,\"ticks\":\"\"},\"colorscale\":[[0.0,\"#0d0887\"],[0.1111111111111111,\"#46039f\"],[0.2222222222222222,\"#7201a8\"],[0.3333333333333333,\"#9c179e\"],[0.4444444444444444,\"#bd3786\"],[0.5555555555555556,\"#d8576b\"],[0.6666666666666666,\"#ed7953\"],[0.7777777777777778,\"#fb9f3a\"],[0.8888888888888888,\"#fdca26\"],[1.0,\"#f0f921\"]]}],\"surface\":[{\"type\":\"surface\",\"colorbar\":{\"outlinewidth\":0,\"ticks\":\"\"},\"colorscale\":[[0.0,\"#0d0887\"],[0.1111111111111111,\"#46039f\"],[0.2222222222222222,\"#7201a8\"],[0.3333333333333333,\"#9c179e\"],[0.4444444444444444,\"#bd3786\"],[0.5555555555555556,\"#d8576b\"],[0.6666666666666666,\"#ed7953\"],[0.7777777777777778,\"#fb9f3a\"],[0.8888888888888888,\"#fdca26\"],[1.0,\"#f0f921\"]]}],\"mesh3d\":[{\"type\":\"mesh3d\",\"colorbar\":{\"outlinewidth\":0,\"ticks\":\"\"}}],\"scatter\":[{\"fillpattern\":{\"fillmode\":\"overlay\",\"size\":10,\"solidity\":0.2},\"type\":\"scatter\"}],\"parcoords\":[{\"type\":\"parcoords\",\"line\":{\"colorbar\":{\"outlinewidth\":0,\"ticks\":\"\"}}}],\"scatterpolargl\":[{\"type\":\"scatterpolargl\",\"marker\":{\"colorbar\":{\"outlinewidth\":0,\"ticks\":\"\"}}}],\"bar\":[{\"error_x\":{\"color\":\"#2a3f5f\"},\"error_y\":{\"color\":\"#2a3f5f\"},\"marker\":{\"line\":{\"color\":\"#E5ECF6\",\"width\":0.5},\"pattern\":{\"fillmode\":\"overlay\",\"size\":10,\"solidity\":0.2}},\"type\":\"bar\"}],\"scattergeo\":[{\"type\":\"scattergeo\",\"marker\":{\"colorbar\":{\"outlinewidth\":0,\"ticks\":\"\"}}}],\"scatterpolar\":[{\"type\":\"scatterpolar\",\"marker\":{\"colorbar\":{\"outlinewidth\":0,\"ticks\":\"\"}}}],\"histogram\":[{\"marker\":{\"pattern\":{\"fillmode\":\"overlay\",\"size\":10,\"solidity\":0.2}},\"type\":\"histogram\"}],\"scattergl\":[{\"type\":\"scattergl\",\"marker\":{\"colorbar\":{\"outlinewidth\":0,\"ticks\":\"\"}}}],\"scatter3d\":[{\"type\":\"scatter3d\",\"line\":{\"colorbar\":{\"outlinewidth\":0,\"ticks\":\"\"}},\"marker\":{\"colorbar\":{\"outlinewidth\":0,\"ticks\":\"\"}}}],\"scattermapbox\":[{\"type\":\"scattermapbox\",\"marker\":{\"colorbar\":{\"outlinewidth\":0,\"ticks\":\"\"}}}],\"scatterternary\":[{\"type\":\"scatterternary\",\"marker\":{\"colorbar\":{\"outlinewidth\":0,\"ticks\":\"\"}}}],\"scattercarpet\":[{\"type\":\"scattercarpet\",\"marker\":{\"colorbar\":{\"outlinewidth\":0,\"ticks\":\"\"}}}],\"carpet\":[{\"aaxis\":{\"endlinecolor\":\"#2a3f5f\",\"gridcolor\":\"white\",\"linecolor\":\"white\",\"minorgridcolor\":\"white\",\"startlinecolor\":\"#2a3f5f\"},\"baxis\":{\"endlinecolor\":\"#2a3f5f\",\"gridcolor\":\"white\",\"linecolor\":\"white\",\"minorgridcolor\":\"white\",\"startlinecolor\":\"#2a3f5f\"},\"type\":\"carpet\"}],\"table\":[{\"cells\":{\"fill\":{\"color\":\"#EBF0F8\"},\"line\":{\"color\":\"white\"}},\"header\":{\"fill\":{\"color\":\"#C8D4E3\"},\"line\":{\"color\":\"white\"}},\"type\":\"table\"}],\"barpolar\":[{\"marker\":{\"line\":{\"color\":\"#E5ECF6\",\"width\":0.5},\"pattern\":{\"fillmode\":\"overlay\",\"size\":10,\"solidity\":0.2}},\"type\":\"barpolar\"}],\"pie\":[{\"automargin\":true,\"type\":\"pie\"}]},\"layout\":{\"autotypenumbers\":\"strict\",\"colorway\":[\"#636efa\",\"#EF553B\",\"#00cc96\",\"#ab63fa\",\"#FFA15A\",\"#19d3f3\",\"#FF6692\",\"#B6E880\",\"#FF97FF\",\"#FECB52\"],\"font\":{\"color\":\"#2a3f5f\"},\"hovermode\":\"closest\",\"hoverlabel\":{\"align\":\"left\"},\"paper_bgcolor\":\"white\",\"plot_bgcolor\":\"#E5ECF6\",\"polar\":{\"bgcolor\":\"#E5ECF6\",\"angularaxis\":{\"gridcolor\":\"white\",\"linecolor\":\"white\",\"ticks\":\"\"},\"radialaxis\":{\"gridcolor\":\"white\",\"linecolor\":\"white\",\"ticks\":\"\"}},\"ternary\":{\"bgcolor\":\"#E5ECF6\",\"aaxis\":{\"gridcolor\":\"white\",\"linecolor\":\"white\",\"ticks\":\"\"},\"baxis\":{\"gridcolor\":\"white\",\"linecolor\":\"white\",\"ticks\":\"\"},\"caxis\":{\"gridcolor\":\"white\",\"linecolor\":\"white\",\"ticks\":\"\"}},\"coloraxis\":{\"colorbar\":{\"outlinewidth\":0,\"ticks\":\"\"}},\"colorscale\":{\"sequential\":[[0.0,\"#0d0887\"],[0.1111111111111111,\"#46039f\"],[0.2222222222222222,\"#7201a8\"],[0.3333333333333333,\"#9c179e\"],[0.4444444444444444,\"#bd3786\"],[0.5555555555555556,\"#d8576b\"],[0.6666666666666666,\"#ed7953\"],[0.7777777777777778,\"#fb9f3a\"],[0.8888888888888888,\"#fdca26\"],[1.0,\"#f0f921\"]],\"sequentialminus\":[[0.0,\"#0d0887\"],[0.1111111111111111,\"#46039f\"],[0.2222222222222222,\"#7201a8\"],[0.3333333333333333,\"#9c179e\"],[0.4444444444444444,\"#bd3786\"],[0.5555555555555556,\"#d8576b\"],[0.6666666666666666,\"#ed7953\"],[0.7777777777777778,\"#fb9f3a\"],[0.8888888888888888,\"#fdca26\"],[1.0,\"#f0f921\"]],\"diverging\":[[0,\"#8e0152\"],[0.1,\"#c51b7d\"],[0.2,\"#de77ae\"],[0.3,\"#f1b6da\"],[0.4,\"#fde0ef\"],[0.5,\"#f7f7f7\"],[0.6,\"#e6f5d0\"],[0.7,\"#b8e186\"],[0.8,\"#7fbc41\"],[0.9,\"#4d9221\"],[1,\"#276419\"]]},\"xaxis\":{\"gridcolor\":\"white\",\"linecolor\":\"white\",\"ticks\":\"\",\"title\":{\"standoff\":15},\"zerolinecolor\":\"white\",\"automargin\":true,\"zerolinewidth\":2},\"yaxis\":{\"gridcolor\":\"white\",\"linecolor\":\"white\",\"ticks\":\"\",\"title\":{\"standoff\":15},\"zerolinecolor\":\"white\",\"automargin\":true,\"zerolinewidth\":2},\"scene\":{\"xaxis\":{\"backgroundcolor\":\"#E5ECF6\",\"gridcolor\":\"white\",\"linecolor\":\"white\",\"showbackground\":true,\"ticks\":\"\",\"zerolinecolor\":\"white\",\"gridwidth\":2},\"yaxis\":{\"backgroundcolor\":\"#E5ECF6\",\"gridcolor\":\"white\",\"linecolor\":\"white\",\"showbackground\":true,\"ticks\":\"\",\"zerolinecolor\":\"white\",\"gridwidth\":2},\"zaxis\":{\"backgroundcolor\":\"#E5ECF6\",\"gridcolor\":\"white\",\"linecolor\":\"white\",\"showbackground\":true,\"ticks\":\"\",\"zerolinecolor\":\"white\",\"gridwidth\":2}},\"shapedefaults\":{\"line\":{\"color\":\"#2a3f5f\"}},\"annotationdefaults\":{\"arrowcolor\":\"#2a3f5f\",\"arrowhead\":0,\"arrowwidth\":1},\"geo\":{\"bgcolor\":\"white\",\"landcolor\":\"#E5ECF6\",\"subunitcolor\":\"white\",\"showland\":true,\"showlakes\":true,\"lakecolor\":\"white\"},\"title\":{\"x\":0.05},\"mapbox\":{\"style\":\"light\"}}}},                        {\"responsive\": true}                    ).then(function(){\n",
       "                            \n",
       "var gd = document.getElementById('e5542480-4eab-4c45-9e0d-6093e1201403');\n",
       "var x = new MutationObserver(function (mutations, observer) {{\n",
       "        var display = window.getComputedStyle(gd).display;\n",
       "        if (!display || display === 'none') {{\n",
       "            console.log([gd, 'removed!']);\n",
       "            Plotly.purge(gd);\n",
       "            observer.disconnect();\n",
       "        }}\n",
       "}});\n",
       "\n",
       "// Listen for the removal of the full notebook cells\n",
       "var notebookContainer = gd.closest('#notebook-container');\n",
       "if (notebookContainer) {{\n",
       "    x.observe(notebookContainer, {childList: true});\n",
       "}}\n",
       "\n",
       "// Listen for the clearing of the current output cell\n",
       "var outputEl = gd.closest('.output');\n",
       "if (outputEl) {{\n",
       "    x.observe(outputEl, {childList: true});\n",
       "}}\n",
       "\n",
       "                        })                };                });            </script>        </div>"
      ]
     },
     "metadata": {},
     "output_type": "display_data"
    }
   ],
   "source": [
    "plot_param_importances(study4)"
   ]
  },
  {
   "cell_type": "code",
   "execution_count": 19,
   "id": "7db29ed5",
   "metadata": {
    "execution": {
     "iopub.execute_input": "2023-03-09T15:09:53.586351Z",
     "iopub.status.busy": "2023-03-09T15:09:53.586056Z",
     "iopub.status.idle": "2023-03-09T15:09:53.592880Z",
     "shell.execute_reply": "2023-03-09T15:09:53.592032Z"
    },
    "papermill": {
     "duration": 0.02078,
     "end_time": "2023-03-09T15:09:53.594972",
     "exception": false,
     "start_time": "2023-03-09T15:09:53.574192",
     "status": "completed"
    },
    "tags": []
   },
   "outputs": [
    {
     "name": "stdout",
     "output_type": "stream",
     "text": [
      "Best trial:\n",
      "  Value:  93.73201727867126\n",
      "  Params: \n",
      "    lstm_units_L1: 48\n",
      "    lstm_units_L2: 4\n",
      "    dropout_L1: 0.4888417323221161\n",
      "    dropout_L2: 0.37402524894190203\n",
      "    learning_rate: 0.009496382415761381\n"
     ]
    }
   ],
   "source": [
    "print(\"Best trial:\")\n",
    "trial = study4.best_trial\n",
    "\n",
    "print(\"  Value: \", trial.value)\n",
    "\n",
    "print(\"  Params: \")\n",
    "for key, value in trial.params.items():\n",
    "    print(\"    {}: {}\".format(key, value))"
   ]
  }
 ],
 "metadata": {
  "kernelspec": {
   "display_name": "Python 3",
   "language": "python",
   "name": "python3"
  },
  "language_info": {
   "codemirror_mode": {
    "name": "ipython",
    "version": 3
   },
   "file_extension": ".py",
   "mimetype": "text/x-python",
   "name": "python",
   "nbconvert_exporter": "python",
   "pygments_lexer": "ipython3",
   "version": "3.7.12"
  },
  "papermill": {
   "default_parameters": {},
   "duration": 5008.618467,
   "end_time": "2023-03-09T15:09:56.958200",
   "environment_variables": {},
   "exception": null,
   "input_path": "__notebook__.ipynb",
   "output_path": "__notebook__.ipynb",
   "parameters": {},
   "start_time": "2023-03-09T13:46:28.339733",
   "version": "2.3.4"
  }
 },
 "nbformat": 4,
 "nbformat_minor": 5
}
